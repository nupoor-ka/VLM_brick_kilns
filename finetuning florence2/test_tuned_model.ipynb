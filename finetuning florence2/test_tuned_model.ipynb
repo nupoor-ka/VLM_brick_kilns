{
 "cells": [
  {
   "cell_type": "code",
   "execution_count": 1,
   "metadata": {},
   "outputs": [],
   "source": [
    "import torch\n",
    "import os\n",
    "import json\n",
    "os.environ['CUDA_VISIBLE_DEVICES'] = '2'\n",
    "import numpy as np\n",
    "from maestro.trainer.models.florence_2.core import train\n",
    "from maestro.trainer.models.florence_2.inference import predict\n",
    "from maestro.trainer.models.florence_2.checkpoints import OptimizationStrategy, load_model\n",
    "import supervision as sv\n",
    "from supervision.geometry.core import Position\n",
    "from glob import glob\n",
    "import shutil\n",
    "from IPython.display import Image\n",
    "from maestro.trainer.models.florence_2.checkpoints import OptimizationStrategy, load_model\n",
    "import matplotlib.pyplot as plt\n",
    "from maestro.trainer.common.datasets.coco import COCODataset\n",
    "from maestro.trainer.models.florence_2.loaders import evaluation_collate_fn, train_collate_fn\n",
    "from maestro.trainer.models.florence_2.detection import (\n",
    "    detections_to_prefix_formatter,\n",
    "    detections_to_suffix_formatter,\n",
    ")\n",
    "from functools import partial\n",
    "from maestro.trainer.common.datasets.core import create_data_loaders\n",
    "from maestro.trainer.models.florence_2.inference import predict_with_inputs\n",
    "from tqdm import tqdm\n",
    "import pandas as pd\n",
    "os.environ[\"TOKENIZERS_PARALLELISM\"] = \"false\""
   ]
  },
  {
   "cell_type": "code",
   "execution_count": 2,
   "metadata": {},
   "outputs": [],
   "source": [
    "id = 34"
   ]
  },
  {
   "cell_type": "code",
   "execution_count": 3,
   "metadata": {},
   "outputs": [
    {
     "name": "stderr",
     "output_type": "stream",
     "text": [
      "Error during conversion: ChunkedEncodingError(ProtocolError('Response ended prematurely'))\n",
      "Florence2LanguageForConditionalGeneration has generative capabilities, as `prepare_inputs_for_generation` is explicitly overwritten. However, it doesn't directly inherit from `GenerationMixin`. From 👉v4.50👈 onwards, `PreTrainedModel` will NOT inherit from `GenerationMixin`, and this model will lose the ability to call `generate` and other related functions.\n",
      "  - If you're using `trust_remote_code=True`, you can get rid of this warning by loading the model with an auto class. See https://huggingface.co/docs/transformers/en/model_doc/auto#auto-classes\n",
      "  - If you are the owner of the model architecture code, please modify your model class such that it inherits from `GenerationMixin` (after `PreTrainedModel`, otherwise you'll get an exception).\n",
      "  - If you are not the owner of the model architecture class, please contact the model code owner to update it.\n"
     ]
    }
   ],
   "source": [
    "from maestro.trainer.models.florence_2.checkpoints import OptimizationStrategy, load_model\n",
    "\n",
    "processor, model = load_model(\n",
    "    model_id_or_path=f\"/home/nupoor.assudani/cs299_main/florence2_finetuning/training/florence_2/{id}/checkpoints/latest\",\n",
    "    revision = \"refs/heads/main\",\n",
    "    # optimization_strategy=OptimizationStrategy.NONE,\n",
    ")"
   ]
  },
  {
   "cell_type": "code",
   "execution_count": 4,
   "metadata": {},
   "outputs": [
    {
     "name": "stdout",
     "output_type": "stream",
     "text": [
      "[INFO] maestro - Loaded 32 valid entries out of 32 from './dynamic_lucknow_coco_train_test/train/_annotations.coco.json'. Skipped 0. Found 0 entries with empty detections.\n"
     ]
    },
    {
     "data": {
      "text/plain": [
       "['brick kilns with chimney', 'background']"
      ]
     },
     "execution_count": 4,
     "metadata": {},
     "output_type": "execute_result"
    }
   ],
   "source": [
    "from maestro.trainer.common.datasets.coco import COCODataset\n",
    "\n",
    "test_dataset = COCODataset(\n",
    "    annotations_path=\"./dynamic_lucknow_coco_train_test/train/_annotations.coco.json\",\n",
    "    images_directory_path=\"./dynamic_lucknow_coco_train_test/train\",\n",
    "    # annotations_path=\"/home/shataxi.dubey/shataxi_work/vlm_on_planet/Florence-2/poker-cards-4/test/_annotations.coco.json\",\n",
    "    # images_directory_path=\"/home/shataxi.dubey/shataxi_work/vlm_on_planet/Florence-2/poker-cards-4/test\"\n",
    ")\n",
    "\n",
    "CLASSES = test_dataset.classes\n",
    "CLASSES"
   ]
  },
  {
   "cell_type": "code",
   "execution_count": 5,
   "metadata": {},
   "outputs": [
    {
     "data": {
      "text/plain": [
       "[('./dynamic_lucknow_coco_train_test/train/8978754_3076282.tif',\n",
       "  Detections(xyxy=array([[ 21, 122,  47, 153]]), mask=None, confidence=None, class_id=array([0]), tracker_id=None, data={}, metadata={})),\n",
       " ('./dynamic_lucknow_coco_train_test/train/8978754_3077505.tif',\n",
       "  Detections(xyxy=array([[  0,   0, 320, 320]]), mask=None, confidence=None, class_id=array([1]), tracker_id=None, data={}, metadata={})),\n",
       " ('./dynamic_lucknow_coco_train_test/train/8978754_3078728.tif',\n",
       "  Detections(xyxy=array([[  0,   0, 320, 320]]), mask=None, confidence=None, class_id=array([1]), tracker_id=None, data={}, metadata={})),\n",
       " ('./dynamic_lucknow_coco_train_test/train/8978754_3079951.tif',\n",
       "  Detections(xyxy=array([[  0,   0, 320, 320]]), mask=None, confidence=None, class_id=array([1]), tracker_id=None, data={}, metadata={})),\n",
       " ('./dynamic_lucknow_coco_train_test/train/8978754_3081174.tif',\n",
       "  Detections(xyxy=array([[  0,   0, 320, 320]]), mask=None, confidence=None, class_id=array([1]), tracker_id=None, data={}, metadata={})),\n",
       " ('./dynamic_lucknow_coco_train_test/train/8978754_3082397.tif',\n",
       "  Detections(xyxy=array([[  0,   0, 320, 320]]), mask=None, confidence=None, class_id=array([1]), tracker_id=None, data={}, metadata={})),\n",
       " ('./dynamic_lucknow_coco_train_test/train/8978754_3083620.tif',\n",
       "  Detections(xyxy=array([[  0,   0, 320, 320]]), mask=None, confidence=None, class_id=array([1]), tracker_id=None, data={}, metadata={})),\n",
       " ('./dynamic_lucknow_coco_train_test/train/8978754_3084843.tif',\n",
       "  Detections(xyxy=array([[  0,   0, 320, 320]]), mask=None, confidence=None, class_id=array([1]), tracker_id=None, data={}, metadata={})),\n",
       " ('./dynamic_lucknow_coco_train_test/train/8978754_3086066.tif',\n",
       "  Detections(xyxy=array([[  0,   0, 320, 320]]), mask=None, confidence=None, class_id=array([1]), tracker_id=None, data={}, metadata={})),\n",
       " ('./dynamic_lucknow_coco_train_test/train/8978754_3088512.tif',\n",
       "  Detections(xyxy=array([[  0,   0, 320, 320]]), mask=None, confidence=None, class_id=array([1]), tracker_id=None, data={}, metadata={})),\n",
       " ('./dynamic_lucknow_coco_train_test/train/8982423_3084843.tif',\n",
       "  Detections(xyxy=array([[233, 234, 260, 257]]), mask=None, confidence=None, class_id=array([0]), tracker_id=None, data={}, metadata={})),\n",
       " ('./dynamic_lucknow_coco_train_test/train/8982423_3144769.tif',\n",
       "  Detections(xyxy=array([[164, 200, 187, 218],\n",
       "         [293, 115, 312, 142]]), mask=None, confidence=None, class_id=array([0, 0]), tracker_id=None, data={}, metadata={})),\n",
       " ('./dynamic_lucknow_coco_train_test/train/8983646_3144769.tif',\n",
       "  Detections(xyxy=array([[ 37, 115,  56, 142],\n",
       "         [153, 103, 177, 138],\n",
       "         [ 55,  72,  75, 102]]), mask=None, confidence=None, class_id=array([0, 0, 0]), tracker_id=None, data={}, metadata={})),\n",
       " ('./dynamic_lucknow_coco_train_test/train/8984869_3079951.tif',\n",
       "  Detections(xyxy=array([[52, 24, 80, 45]]), mask=None, confidence=None, class_id=array([0]), tracker_id=None, data={}, metadata={})),\n",
       " ('./dynamic_lucknow_coco_train_test/train/8984869_3081174.tif',\n",
       "  Detections(xyxy=array([[ 52, 280,  80, 301]]), mask=None, confidence=None, class_id=array([0]), tracker_id=None, data={}, metadata={})),\n",
       " ('./dynamic_lucknow_coco_train_test/train/8984869_3137431.tif',\n",
       "  Detections(xyxy=array([[221, 178, 241, 200],\n",
       "         [259,  73, 294,  98]]), mask=None, confidence=None, class_id=array([0, 0]), tracker_id=None, data={}, metadata={})),\n",
       " ('./dynamic_lucknow_coco_train_test/train/8984869_3138654.tif',\n",
       "  Detections(xyxy=array([[269, 120, 297, 157]]), mask=None, confidence=None, class_id=array([0]), tracker_id=None, data={}, metadata={})),\n",
       " ('./dynamic_lucknow_coco_train_test/train/8986092_3137431.tif',\n",
       "  Detections(xyxy=array([[ 3, 73, 38, 98]]), mask=None, confidence=None, class_id=array([0]), tracker_id=None, data={}, metadata={})),\n",
       " ('./dynamic_lucknow_coco_train_test/train/8986092_3138654.tif',\n",
       "  Detections(xyxy=array([[ 13, 120,  41, 157]]), mask=None, confidence=None, class_id=array([0]), tracker_id=None, data={}, metadata={})),\n",
       " ('./dynamic_lucknow_coco_train_test/train/8986092_3139877.tif',\n",
       "  Detections(xyxy=array([[223,  77, 246, 107],\n",
       "         [ 63,  65,  80,  93]]), mask=None, confidence=None, class_id=array([0, 0]), tracker_id=None, data={}, metadata={})),\n",
       " ('./dynamic_lucknow_coco_train_test/train/8986092_3141100.tif',\n",
       "  Detections(xyxy=array([[271, 239, 295, 258],\n",
       "         [189, 195, 213, 218]]), mask=None, confidence=None, class_id=array([0, 0]), tracker_id=None, data={}, metadata={})),\n",
       " ('./dynamic_lucknow_coco_train_test/train/8986092_3142323.tif',\n",
       "  Detections(xyxy=array([[186,  77, 217, 103],\n",
       "         [258,  26, 283,  51]]), mask=None, confidence=None, class_id=array([0, 0]), tracker_id=None, data={}, metadata={})),\n",
       " ('./dynamic_lucknow_coco_train_test/train/8986092_3143546.tif',\n",
       "  Detections(xyxy=array([[258, 282, 283, 307]]), mask=None, confidence=None, class_id=array([0]), tracker_id=None, data={}, metadata={})),\n",
       " ('./dynamic_lucknow_coco_train_test/train/8987315_3137431.tif',\n",
       "  Detections(xyxy=array([[201,   5, 232,  45]]), mask=None, confidence=None, class_id=array([0]), tracker_id=None, data={}, metadata={})),\n",
       " ('./dynamic_lucknow_coco_train_test/train/8987315_3138654.tif',\n",
       "  Detections(xyxy=array([[201, 261, 232, 301],\n",
       "         [195,  28, 221,  54]]), mask=None, confidence=None, class_id=array([0, 0]), tracker_id=None, data={}, metadata={})),\n",
       " ('./dynamic_lucknow_coco_train_test/train/8987315_3139877.tif',\n",
       "  Detections(xyxy=array([[195, 284, 221, 310],\n",
       "         [154, 242, 183, 270],\n",
       "         [181, 184, 205, 211],\n",
       "         [158, 179, 188, 209],\n",
       "         [ 94, 173, 118, 199],\n",
       "         [ 46, 139,  70, 166]]), mask=None, confidence=None, class_id=array([0, 0, 0, 0, 0, 0]), tracker_id=None, data={}, metadata={})),\n",
       " ('./dynamic_lucknow_coco_train_test/train/8987315_3141100.tif',\n",
       "  Detections(xyxy=array([[ 15, 239,  39, 258],\n",
       "         [144, 205, 176, 230],\n",
       "         [178, 180, 205, 204]]), mask=None, confidence=None, class_id=array([0, 0, 0]), tracker_id=None, data={}, metadata={})),\n",
       " ('./dynamic_lucknow_coco_train_test/train/8987315_3143546.tif',\n",
       "  Detections(xyxy=array([[  2, 282,  27, 307]]), mask=None, confidence=None, class_id=array([0]), tracker_id=None, data={}, metadata={})),\n",
       " ('./dynamic_lucknow_coco_train_test/train/8987315_3144769.tif',\n",
       "  Detections(xyxy=array([[104, 131, 134, 161]]), mask=None, confidence=None, class_id=array([0]), tracker_id=None, data={}, metadata={})),\n",
       " ('./dynamic_lucknow_coco_train_test/train/8988538_3136208.tif',\n",
       "  Detections(xyxy=array([[221,  92, 250, 120],\n",
       "         [220,  24, 249,  51]]), mask=None, confidence=None, class_id=array([0, 0]), tracker_id=None, data={}, metadata={})),\n",
       " ('./dynamic_lucknow_coco_train_test/train/8988538_3137431.tif',\n",
       "  Detections(xyxy=array([[220, 280, 249, 307],\n",
       "         [ 56, 232,  87, 257],\n",
       "         [250, 218, 285, 255],\n",
       "         [233, 137, 261, 168],\n",
       "         [243,  99, 268, 127],\n",
       "         [ 83,  53,  95,  81],\n",
       "         [256,  37, 282,  61]]), mask=None, confidence=None, class_id=array([0, 0, 0, 0, 0, 0, 0]), tracker_id=None, data={}, metadata={})),\n",
       " ('./dynamic_lucknow_coco_train_test/train/8988538_3138654.tif',\n",
       "  Detections(xyxy=array([[256, 293, 282, 317],\n",
       "         [128, 245, 157, 269],\n",
       "         [275, 160, 303, 189]]), mask=None, confidence=None, class_id=array([0, 0, 0]), tracker_id=None, data={}, metadata={}))]"
      ]
     },
     "execution_count": 5,
     "metadata": {},
     "output_type": "execute_result"
    }
   ],
   "source": [
    "test_dataset.entries"
   ]
  },
  {
   "cell_type": "code",
   "execution_count": 6,
   "metadata": {},
   "outputs": [
    {
     "name": "stdout",
     "output_type": "stream",
     "text": [
      "[INFO] maestro - Creating data loaders from './dynamic_lucknow_coco_train_test'...\n",
      "[INFO] maestro - Detected COCO dataset format.\n",
      "[INFO] maestro - Found COCO split 'train' at: ./dynamic_lucknow_coco_train_test/train/_annotations.coco.json\n",
      "[INFO] maestro - Loaded 32 valid entries out of 32 from './dynamic_lucknow_coco_train_test/train/_annotations.coco.json'. Skipped 0. Found 0 entries with empty detections.\n",
      "[INFO] maestro - Found COCO split 'valid' at: ./dynamic_lucknow_coco_train_test/valid/_annotations.coco.json\n",
      "[INFO] maestro - Loaded 649 valid entries out of 649 from './dynamic_lucknow_coco_train_test/valid/_annotations.coco.json'. Skipped 0. Found 0 entries with empty detections.\n",
      "[INFO] maestro - Found COCO split 'test' at: ./dynamic_lucknow_coco_train_test/test/_annotations.coco.json\n",
      "[INFO] maestro - Loaded 649 valid entries out of 649 from './dynamic_lucknow_coco_train_test/test/_annotations.coco.json'. Skipped 0. Found 0 entries with empty detections.\n",
      "[INFO] maestro - Initializing data loaders...\n",
      "[INFO] maestro - Data loaders created successfully.\n"
     ]
    }
   ],
   "source": [
    "from maestro.trainer.models.florence_2.loaders import evaluation_collate_fn, train_collate_fn\n",
    "from maestro.trainer.models.florence_2.detection import (\n",
    "    detections_to_prefix_formatter,\n",
    "    detections_to_suffix_formatter,\n",
    ")\n",
    "\n",
    "from functools import partial\n",
    "\n",
    "from maestro.trainer.common.datasets.core import create_data_loaders\n",
    "\n",
    "train_loader, valid_loader, test_loader = create_data_loaders(\n",
    "                    dataset_location= './dynamic_lucknow_coco_train_test',\n",
    "                    train_batch_size= 32,\n",
    "                    train_collect_fn= partial(train_collate_fn, processor=processor),\n",
    "                    # train_num_workers=10,\n",
    "                    test_batch_size= 4,\n",
    "                    test_collect_fn= partial(evaluation_collate_fn, processor=processor),\n",
    "                    detections_to_prefix_formatter=detections_to_prefix_formatter,\n",
    "                    detections_to_suffix_formatter=detections_to_suffix_formatter,\n",
    "                    )"
   ]
  },
  {
   "cell_type": "code",
   "execution_count": 7,
   "metadata": {},
   "outputs": [
    {
     "data": {
      "text/plain": [
       "['brick kilns with chimney', 'background']"
      ]
     },
     "execution_count": 7,
     "metadata": {},
     "output_type": "execute_result"
    }
   ],
   "source": [
    "CLASSES = test_loader.dataset.coco_dataset.classes\n",
    "CLASSES"
   ]
  },
  {
   "cell_type": "code",
   "execution_count": 24,
   "metadata": {},
   "outputs": [],
   "source": [
    "def add_class_ids_and_confidence(detection):\n",
    "\n",
    "    detection.class_id = []\n",
    "    detection.confidence = []\n",
    "    if detection.data=={}:\n",
    "        return None\n",
    "    else:\n",
    "        for class_name in detection.data['class_name']:\n",
    "            try:\n",
    "                detection.class_id.append(CLASSES.index(class_name))\n",
    "            except:\n",
    "                detection.class_id.append(len(CLASSES)) # if class name is different from ['brick kilns with chimney', 'background'] assign class id other than 0 & 1\n",
    "            detection.confidence.append(1) # florence_2 does not give confidence score so no use of conf_threshold\n",
    "        \n",
    "    return detection"
   ]
  },
  {
   "cell_type": "code",
   "execution_count": 25,
   "metadata": {},
   "outputs": [
    {
     "name": "stderr",
     "output_type": "stream",
     "text": [
      "  1%|          | 1/163 [00:02<07:08,  2.65s/it]"
     ]
    },
    {
     "name": "stdout",
     "output_type": "stream",
     "text": [
      "{'<OD>': {'bboxes': [], 'labels': []}}\n",
      "{'<OD>': {'bboxes': [], 'labels': []}}\n",
      "{'<OD>': {'bboxes': [], 'labels': []}}\n",
      "{'<OD>': {'bboxes': [], 'labels': []}}\n",
      "Detections(xyxy=array([[1.6000e-01, 1.6000e-01, 3.2016e+02, 3.2016e+02]], dtype=float32), mask=None, confidence=None, class_id=None, tracker_id=None, data={'class_name': array(['background'], dtype='<U10')}, metadata={})\n",
      "Detections(xyxy=array([[1.6000e-01, 1.6000e-01, 3.2016e+02, 3.2016e+02]], dtype=float32), mask=None, confidence=None, class_id=None, tracker_id=None, data={'class_name': array(['background'], dtype='<U10')}, metadata={})\n",
      "Detections(xyxy=array([[1.6000e-01, 1.6000e-01, 3.2016e+02, 3.2016e+02]], dtype=float32), mask=None, confidence=None, class_id=None, tracker_id=None, data={'class_name': array(['background'], dtype='<U10')}, metadata={})\n",
      "Detections(xyxy=array([[1.6000e-01, 1.6000e-01, 3.2016e+02, 3.2016e+02]], dtype=float32), mask=None, confidence=None, class_id=None, tracker_id=None, data={'class_name': array(['background'], dtype='<U10')}, metadata={})\n"
     ]
    },
    {
     "name": "stderr",
     "output_type": "stream",
     "text": [
      "  1%|          | 2/163 [00:05<07:15,  2.71s/it]"
     ]
    },
    {
     "name": "stdout",
     "output_type": "stream",
     "text": [
      "{'<OD>': {'bboxes': [], 'labels': []}}\n",
      "{'<OD>': {'bboxes': [[0.1599999964237213, 0.1599999964237213, 319.5199890136719, 319.5199890136719]], 'labels': ['clock tower']}}\n",
      "{'<OD>': {'bboxes': [], 'labels': []}}\n",
      "{'<OD>': {'bboxes': [], 'labels': []}}\n",
      "Detections(xyxy=array([[1.6000e-01, 1.6000e-01, 3.2016e+02, 3.2016e+02]], dtype=float32), mask=None, confidence=None, class_id=None, tracker_id=None, data={'class_name': array(['background'], dtype='<U10')}, metadata={})\n",
      "Detections(xyxy=array([[1.6000e-01, 1.6000e-01, 3.2016e+02, 3.2016e+02]], dtype=float32), mask=None, confidence=None, class_id=None, tracker_id=None, data={'class_name': array(['background'], dtype='<U10')}, metadata={})\n",
      "Detections(xyxy=array([[1.6000e-01, 1.6000e-01, 3.2016e+02, 3.2016e+02]], dtype=float32), mask=None, confidence=None, class_id=None, tracker_id=None, data={'class_name': array(['background'], dtype='<U10')}, metadata={})\n",
      "Detections(xyxy=array([[1.6000e-01, 1.6000e-01, 3.2016e+02, 3.2016e+02]], dtype=float32), mask=None, confidence=None, class_id=None, tracker_id=None, data={'class_name': array(['background'], dtype='<U10')}, metadata={})\n"
     ]
    },
    {
     "name": "stderr",
     "output_type": "stream",
     "text": [
      "  2%|▏         | 3/163 [00:06<05:10,  1.94s/it]"
     ]
    },
    {
     "name": "stdout",
     "output_type": "stream",
     "text": [
      "{'<OD>': {'bboxes': [], 'labels': []}}\n",
      "{'<OD>': {'bboxes': [[0.1599999964237213, 0.1599999964237213, 319.5199890136719, 319.5199890136719]], 'labels': ['castle']}}\n",
      "{'<OD>': {'bboxes': [[0.1599999964237213, 0.1599999964237213, 319.5199890136719, 319.5199890136719]], 'labels': ['building']}}\n",
      "{'<OD>': {'bboxes': [], 'labels': []}}\n",
      "Detections(xyxy=array([[1.6000e-01, 1.6000e-01, 3.2016e+02, 3.2016e+02]], dtype=float32), mask=None, confidence=None, class_id=None, tracker_id=None, data={'class_name': array(['background'], dtype='<U10')}, metadata={})\n",
      "Detections(xyxy=array([[1.6000e-01, 1.6000e-01, 3.2016e+02, 3.2016e+02]], dtype=float32), mask=None, confidence=None, class_id=None, tracker_id=None, data={'class_name': array(['background'], dtype='<U10')}, metadata={})\n",
      "Detections(xyxy=array([[1.6000e-01, 1.6000e-01, 3.2016e+02, 3.2016e+02]], dtype=float32), mask=None, confidence=None, class_id=None, tracker_id=None, data={'class_name': array(['background'], dtype='<U10')}, metadata={})\n",
      "Detections(xyxy=array([[1.6000e-01, 1.6000e-01, 3.2016e+02, 3.2016e+02]], dtype=float32), mask=None, confidence=None, class_id=None, tracker_id=None, data={'class_name': array(['background'], dtype='<U10')}, metadata={})\n"
     ]
    },
    {
     "name": "stderr",
     "output_type": "stream",
     "text": [
      "  2%|▏         | 4/163 [00:06<03:37,  1.37s/it]"
     ]
    },
    {
     "name": "stdout",
     "output_type": "stream",
     "text": [
      "{'<OD>': {'bboxes': [[0.1599999964237213, 0.1599999964237213, 319.5199890136719, 319.5199890136719]], 'labels': ['building']}}\n",
      "{'<OD>': {'bboxes': [], 'labels': []}}\n",
      "{'<OD>': {'bboxes': [], 'labels': []}}\n",
      "{'<OD>': {'bboxes': [], 'labels': []}}\n",
      "Detections(xyxy=array([[1.6000e-01, 1.6000e-01, 3.2016e+02, 3.2016e+02]], dtype=float32), mask=None, confidence=None, class_id=None, tracker_id=None, data={'class_name': array(['background'], dtype='<U10')}, metadata={})\n",
      "Detections(xyxy=array([[1.6000e-01, 1.6000e-01, 3.2016e+02, 3.2016e+02]], dtype=float32), mask=None, confidence=None, class_id=None, tracker_id=None, data={'class_name': array(['background'], dtype='<U10')}, metadata={})\n",
      "Detections(xyxy=array([[1.6000e-01, 1.6000e-01, 3.2016e+02, 3.2016e+02]], dtype=float32), mask=None, confidence=None, class_id=None, tracker_id=None, data={'class_name': array(['background'], dtype='<U10')}, metadata={})\n",
      "Detections(xyxy=array([[1.6000e-01, 1.6000e-01, 3.2016e+02, 3.2016e+02]], dtype=float32), mask=None, confidence=None, class_id=None, tracker_id=None, data={'class_name': array(['background'], dtype='<U10')}, metadata={})\n"
     ]
    },
    {
     "name": "stderr",
     "output_type": "stream",
     "text": [
      "  3%|▎         | 5/163 [00:07<02:43,  1.04s/it]"
     ]
    },
    {
     "name": "stdout",
     "output_type": "stream",
     "text": [
      "{'<OD>': {'bboxes': [[0.1599999964237213, 0.1599999964237213, 319.5199890136719, 319.5199890136719]], 'labels': ['building']}}\n",
      "{'<OD>': {'bboxes': [], 'labels': []}}\n",
      "{'<OD>': {'bboxes': [], 'labels': []}}\n",
      "{'<OD>': {'bboxes': [[0.1599999964237213, 0.1599999964237213, 319.5199890136719, 319.5199890136719]], 'labels': ['building']}}\n",
      "Detections(xyxy=array([[1.6000e-01, 1.6000e-01, 3.2016e+02, 3.2016e+02]], dtype=float32), mask=None, confidence=None, class_id=None, tracker_id=None, data={'class_name': array(['background'], dtype='<U10')}, metadata={})\n",
      "Detections(xyxy=array([[1.6000e-01, 1.6000e-01, 3.2016e+02, 3.2016e+02]], dtype=float32), mask=None, confidence=None, class_id=None, tracker_id=None, data={'class_name': array(['background'], dtype='<U10')}, metadata={})\n",
      "Detections(xyxy=array([[1.6000e-01, 1.6000e-01, 3.2016e+02, 3.2016e+02]], dtype=float32), mask=None, confidence=None, class_id=None, tracker_id=None, data={'class_name': array(['background'], dtype='<U10')}, metadata={})\n",
      "Detections(xyxy=array([[1.6000e-01, 1.6000e-01, 3.2016e+02, 3.2016e+02]], dtype=float32), mask=None, confidence=None, class_id=None, tracker_id=None, data={'class_name': array(['background'], dtype='<U10')}, metadata={})\n"
     ]
    },
    {
     "name": "stderr",
     "output_type": "stream",
     "text": [
      "  4%|▎         | 6/163 [00:08<02:32,  1.03it/s]"
     ]
    },
    {
     "name": "stdout",
     "output_type": "stream",
     "text": [
      "{'<OD>': {'bboxes': [[0.1599999964237213, 0.1599999964237213, 319.5199890136719, 319.5199890136719]], 'labels': ['building']}}\n",
      "{'<OD>': {'bboxes': [], 'labels': []}}\n",
      "{'<OD>': {'bboxes': [[0.1599999964237213, 0.1599999964237213, 319.5199890136719, 319.5199890136719]], 'labels': ['building']}}\n",
      "{'<OD>': {'bboxes': [], 'labels': []}}\n",
      "Detections(xyxy=array([[1.6000e-01, 1.6000e-01, 3.2016e+02, 3.2016e+02]], dtype=float32), mask=None, confidence=None, class_id=None, tracker_id=None, data={'class_name': array(['background'], dtype='<U10')}, metadata={})\n",
      "Detections(xyxy=array([[1.6000e-01, 1.6000e-01, 3.2016e+02, 3.2016e+02]], dtype=float32), mask=None, confidence=None, class_id=None, tracker_id=None, data={'class_name': array(['background'], dtype='<U10')}, metadata={})\n",
      "Detections(xyxy=array([[1.6000e-01, 1.6000e-01, 3.2016e+02, 3.2016e+02]], dtype=float32), mask=None, confidence=None, class_id=None, tracker_id=None, data={'class_name': array(['background'], dtype='<U10')}, metadata={})\n",
      "Detections(xyxy=array([[1.6000e-01, 1.6000e-01, 3.2016e+02, 3.2016e+02]], dtype=float32), mask=None, confidence=None, class_id=None, tracker_id=None, data={'class_name': array(['background'], dtype='<U10')}, metadata={})\n"
     ]
    },
    {
     "name": "stderr",
     "output_type": "stream",
     "text": [
      "  4%|▍         | 7/163 [00:09<02:31,  1.03it/s]"
     ]
    },
    {
     "name": "stdout",
     "output_type": "stream",
     "text": [
      "{'<OD>': {'bboxes': [], 'labels': []}}\n",
      "{'<OD>': {'bboxes': [[0.1599999964237213, 0.1599999964237213, 319.5199890136719, 319.5199890136719]], 'labels': ['building']}}\n",
      "{'<OD>': {'bboxes': [], 'labels': []}}\n",
      "{'<OD>': {'bboxes': [], 'labels': []}}\n",
      "Detections(xyxy=array([[1.6000e-01, 1.6000e-01, 3.2016e+02, 3.2016e+02]], dtype=float32), mask=None, confidence=None, class_id=None, tracker_id=None, data={'class_name': array(['background'], dtype='<U10')}, metadata={})\n",
      "Detections(xyxy=array([[1.6000e-01, 1.6000e-01, 3.2016e+02, 3.2016e+02]], dtype=float32), mask=None, confidence=None, class_id=None, tracker_id=None, data={'class_name': array(['background'], dtype='<U10')}, metadata={})\n",
      "Detections(xyxy=array([[1.6000e-01, 1.6000e-01, 3.2016e+02, 3.2016e+02]], dtype=float32), mask=None, confidence=None, class_id=None, tracker_id=None, data={'class_name': array(['background'], dtype='<U10')}, metadata={})\n",
      "Detections(xyxy=array([[1.6000e-01, 1.6000e-01, 3.2016e+02, 3.2016e+02]], dtype=float32), mask=None, confidence=None, class_id=None, tracker_id=None, data={'class_name': array(['background'], dtype='<U10')}, metadata={})\n"
     ]
    },
    {
     "name": "stderr",
     "output_type": "stream",
     "text": [
      "  5%|▍         | 8/163 [00:09<02:06,  1.22it/s]"
     ]
    },
    {
     "name": "stdout",
     "output_type": "stream",
     "text": [
      "{'<OD>': {'bboxes': [], 'labels': []}}\n",
      "{'<OD>': {'bboxes': [], 'labels': []}}\n",
      "{'<OD>': {'bboxes': [], 'labels': []}}\n",
      "{'<OD>': {'bboxes': [], 'labels': []}}\n",
      "Detections(xyxy=array([[1.6000e-01, 1.6000e-01, 3.2016e+02, 3.2016e+02]], dtype=float32), mask=None, confidence=None, class_id=None, tracker_id=None, data={'class_name': array(['background'], dtype='<U10')}, metadata={})\n",
      "Detections(xyxy=array([[1.6000e-01, 1.6000e-01, 3.2016e+02, 3.2016e+02]], dtype=float32), mask=None, confidence=None, class_id=None, tracker_id=None, data={'class_name': array(['background'], dtype='<U10')}, metadata={})\n",
      "Detections(xyxy=array([[1.6000e-01, 1.6000e-01, 3.2016e+02, 3.2016e+02]], dtype=float32), mask=None, confidence=None, class_id=None, tracker_id=None, data={'class_name': array(['background'], dtype='<U10')}, metadata={})\n",
      "Detections(xyxy=array([[1.6000e-01, 1.6000e-01, 3.2016e+02, 3.2016e+02]], dtype=float32), mask=None, confidence=None, class_id=None, tracker_id=None, data={'class_name': array(['background'], dtype='<U10')}, metadata={})\n"
     ]
    },
    {
     "name": "stderr",
     "output_type": "stream",
     "text": [
      "  6%|▌         | 9/163 [00:10<02:05,  1.22it/s]"
     ]
    },
    {
     "name": "stdout",
     "output_type": "stream",
     "text": [
      "{'<OD>': {'bboxes': [], 'labels': []}}\n",
      "{'<OD>': {'bboxes': [], 'labels': []}}\n",
      "{'<OD>': {'bboxes': [], 'labels': []}}\n",
      "{'<OD>': {'bboxes': [[0.1599999964237213, 0.1599999964237213, 319.5199890136719, 319.5199890136719]], 'labels': ['building']}}\n",
      "Detections(xyxy=array([[1.6000e-01, 1.6000e-01, 3.2016e+02, 3.2016e+02]], dtype=float32), mask=None, confidence=None, class_id=None, tracker_id=None, data={'class_name': array(['background'], dtype='<U10')}, metadata={})\n",
      "Detections(xyxy=array([[1.6000e-01, 1.6000e-01, 3.2016e+02, 3.2016e+02]], dtype=float32), mask=None, confidence=None, class_id=None, tracker_id=None, data={'class_name': array(['background'], dtype='<U10')}, metadata={})\n",
      "Detections(xyxy=array([[1.6000e-01, 1.6000e-01, 3.2016e+02, 3.2016e+02]], dtype=float32), mask=None, confidence=None, class_id=None, tracker_id=None, data={'class_name': array(['background'], dtype='<U10')}, metadata={})\n",
      "Detections(xyxy=array([[1.6000e-01, 1.6000e-01, 3.2016e+02, 3.2016e+02]], dtype=float32), mask=None, confidence=None, class_id=None, tracker_id=None, data={'class_name': array(['background'], dtype='<U10')}, metadata={})\n"
     ]
    },
    {
     "name": "stderr",
     "output_type": "stream",
     "text": [
      "  6%|▌         | 10/163 [00:10<01:47,  1.42it/s]"
     ]
    },
    {
     "name": "stdout",
     "output_type": "stream",
     "text": [
      "{'<OD>': {'bboxes': [[0.1599999964237213, 0.1599999964237213, 319.5199890136719, 319.5199890136719]], 'labels': ['clock tower']}}\n",
      "{'<OD>': {'bboxes': [], 'labels': []}}\n",
      "{'<OD>': {'bboxes': [[0.1599999964237213, 0.1599999964237213, 319.5199890136719, 319.5199890136719]], 'labels': ['brick kilns with chimney']}}\n",
      "{'<OD>': {'bboxes': [[0.1599999964237213, 0.1599999964237213, 319.5199890136719, 319.5199890136719]], 'labels': ['castle']}}\n",
      "Detections(xyxy=array([[1.6000e-01, 1.6000e-01, 3.2016e+02, 3.2016e+02]], dtype=float32), mask=None, confidence=None, class_id=None, tracker_id=None, data={'class_name': array(['background'], dtype='<U10')}, metadata={})\n",
      "Detections(xyxy=array([[1.6000e-01, 1.6000e-01, 3.2016e+02, 3.2016e+02]], dtype=float32), mask=None, confidence=None, class_id=None, tracker_id=None, data={'class_name': array(['background'], dtype='<U10')}, metadata={})\n",
      "Detections(xyxy=array([[1.6000e-01, 1.6000e-01, 3.2016e+02, 3.2016e+02]], dtype=float32), mask=None, confidence=None, class_id=None, tracker_id=None, data={'class_name': array(['background'], dtype='<U10')}, metadata={})\n",
      "Detections(xyxy=array([[1.6000e-01, 1.6000e-01, 3.2016e+02, 3.2016e+02]], dtype=float32), mask=None, confidence=None, class_id=None, tracker_id=None, data={'class_name': array(['background'], dtype='<U10')}, metadata={})\n"
     ]
    },
    {
     "name": "stderr",
     "output_type": "stream",
     "text": [
      "  7%|▋         | 11/163 [00:11<01:35,  1.60it/s]"
     ]
    },
    {
     "name": "stdout",
     "output_type": "stream",
     "text": [
      "{'<OD>': {'bboxes': [[0.1599999964237213, 0.1599999964237213, 319.5199890136719, 319.5199890136719]], 'labels': ['maple']}}\n",
      "{'<OD>': {'bboxes': [], 'labels': []}}\n",
      "{'<OD>': {'bboxes': [], 'labels': []}}\n",
      "{'<OD>': {'bboxes': [], 'labels': []}}\n",
      "Detections(xyxy=array([[1.6000e-01, 1.6000e-01, 3.2016e+02, 3.2016e+02]], dtype=float32), mask=None, confidence=None, class_id=None, tracker_id=None, data={'class_name': array(['background'], dtype='<U10')}, metadata={})\n",
      "Detections(xyxy=array([[215.2 , 194.08, 241.12, 228.  ]], dtype=float32), mask=None, confidence=None, class_id=None, tracker_id=None, data={'class_name': array(['brick kilns with chimney'], dtype='<U24')}, metadata={})\n",
      "Detections(xyxy=array([[1.6000e-01, 1.6000e-01, 3.2016e+02, 3.2016e+02]], dtype=float32), mask=None, confidence=None, class_id=None, tracker_id=None, data={'class_name': array(['background'], dtype='<U10')}, metadata={})\n",
      "Detections(xyxy=array([[1.6000e-01, 1.6000e-01, 3.2016e+02, 3.2016e+02]], dtype=float32), mask=None, confidence=None, class_id=None, tracker_id=None, data={'class_name': array(['background'], dtype='<U10')}, metadata={})\n"
     ]
    },
    {
     "name": "stderr",
     "output_type": "stream",
     "text": [
      "  7%|▋         | 12/163 [00:11<01:26,  1.75it/s]"
     ]
    },
    {
     "name": "stdout",
     "output_type": "stream",
     "text": [
      "{'<OD>': {'bboxes': [], 'labels': []}}\n",
      "{'<OD>': {'bboxes': [], 'labels': []}}\n",
      "{'<OD>': {'bboxes': [], 'labels': []}}\n",
      "{'<OD>': {'bboxes': [], 'labels': []}}\n",
      "Detections(xyxy=array([[1.6000e-01, 1.6000e-01, 3.2016e+02, 3.2016e+02]], dtype=float32), mask=None, confidence=None, class_id=None, tracker_id=None, data={'class_name': array(['background'], dtype='<U10')}, metadata={})\n",
      "Detections(xyxy=array([[110.24    ,  96.159996, 138.08    , 121.119995]], dtype=float32), mask=None, confidence=None, class_id=None, tracker_id=None, data={'class_name': array(['brick kilns with chimney'], dtype='<U24')}, metadata={})\n",
      "Detections(xyxy=array([[1.6000e-01, 1.6000e-01, 3.2016e+02, 3.2016e+02]], dtype=float32), mask=None, confidence=None, class_id=None, tracker_id=None, data={'class_name': array(['background'], dtype='<U10')}, metadata={})\n",
      "Detections(xyxy=array([[1.6000e-01, 1.6000e-01, 3.2016e+02, 3.2016e+02]], dtype=float32), mask=None, confidence=None, class_id=None, tracker_id=None, data={'class_name': array(['background'], dtype='<U10')}, metadata={})\n"
     ]
    },
    {
     "name": "stderr",
     "output_type": "stream",
     "text": [
      "  8%|▊         | 13/163 [00:12<01:18,  1.90it/s]"
     ]
    },
    {
     "name": "stdout",
     "output_type": "stream",
     "text": [
      "{'<OD>': {'bboxes': [], 'labels': []}}\n",
      "{'<OD>': {'bboxes': [[0.1599999964237213, 0.1599999964237213, 319.5199890136719, 319.5199890136719]], 'labels': ['building']}}\n",
      "{'<OD>': {'bboxes': [], 'labels': []}}\n",
      "{'<OD>': {'bboxes': [[0.1599999964237213, 0.1599999964237213, 319.5199890136719, 319.5199890136719]], 'labels': ['castle']}}\n",
      "Detections(xyxy=array([[1.6000e-01, 1.6000e-01, 3.2016e+02, 3.2016e+02]], dtype=float32), mask=None, confidence=None, class_id=None, tracker_id=None, data={'class_name': array(['background'], dtype='<U10')}, metadata={})\n",
      "Detections(xyxy=array([[1.6000e-01, 1.6000e-01, 3.2016e+02, 3.2016e+02]], dtype=float32), mask=None, confidence=None, class_id=None, tracker_id=None, data={'class_name': array(['background'], dtype='<U10')}, metadata={})\n",
      "Detections(xyxy=array([[1.6000e-01, 1.6000e-01, 3.2016e+02, 3.2016e+02]], dtype=float32), mask=None, confidence=None, class_id=None, tracker_id=None, data={'class_name': array(['background'], dtype='<U10')}, metadata={})\n",
      "Detections(xyxy=array([[1.6000e-01, 1.6000e-01, 3.2016e+02, 3.2016e+02]], dtype=float32), mask=None, confidence=None, class_id=None, tracker_id=None, data={'class_name': array(['background'], dtype='<U10')}, metadata={})\n"
     ]
    },
    {
     "name": "stderr",
     "output_type": "stream",
     "text": [
      "  9%|▊         | 14/163 [00:12<01:13,  2.03it/s]"
     ]
    },
    {
     "name": "stdout",
     "output_type": "stream",
     "text": [
      "{'<OD>': {'bboxes': [], 'labels': []}}\n",
      "{'<OD>': {'bboxes': [[61.279998779296875, 208.47999572753906, 78.87999725341797, 223.1999969482422]], 'labels': ['brick kilns with chimney']}}\n",
      "{'<OD>': {'bboxes': [[0.1599999964237213, 0.1599999964237213, 319.5199890136719, 319.5199890136719]], 'labels': ['clock tower']}}\n",
      "{'<OD>': {'bboxes': [], 'labels': []}}\n",
      "Detections(xyxy=array([[1.6000e-01, 1.6000e-01, 3.2016e+02, 3.2016e+02]], dtype=float32), mask=None, confidence=None, class_id=None, tracker_id=None, data={'class_name': array(['background'], dtype='<U10')}, metadata={})\n",
      "Detections(xyxy=array([[1.6000e-01, 1.6000e-01, 3.2016e+02, 3.2016e+02]], dtype=float32), mask=None, confidence=None, class_id=None, tracker_id=None, data={'class_name': array(['background'], dtype='<U10')}, metadata={})\n",
      "Detections(xyxy=array([[1.6000e-01, 1.6000e-01, 3.2016e+02, 3.2016e+02]], dtype=float32), mask=None, confidence=None, class_id=None, tracker_id=None, data={'class_name': array(['background'], dtype='<U10')}, metadata={})\n",
      "Detections(xyxy=array([[1.6000e-01, 1.6000e-01, 3.2016e+02, 3.2016e+02]], dtype=float32), mask=None, confidence=None, class_id=None, tracker_id=None, data={'class_name': array(['background'], dtype='<U10')}, metadata={})\n"
     ]
    },
    {
     "name": "stderr",
     "output_type": "stream",
     "text": [
      "  9%|▉         | 15/163 [00:13<01:10,  2.10it/s]"
     ]
    },
    {
     "name": "stdout",
     "output_type": "stream",
     "text": [
      "{'<OD>': {'bboxes': [], 'labels': []}}\n",
      "{'<OD>': {'bboxes': [], 'labels': []}}\n",
      "{'<OD>': {'bboxes': [], 'labels': []}}\n",
      "{'<OD>': {'bboxes': [], 'labels': []}}\n",
      "Detections(xyxy=array([[1.6000e-01, 1.6000e-01, 3.2016e+02, 3.2016e+02]], dtype=float32), mask=None, confidence=None, class_id=None, tracker_id=None, data={'class_name': array(['background'], dtype='<U10')}, metadata={})\n",
      "Detections(xyxy=array([[1.6000e-01, 1.6000e-01, 3.2016e+02, 3.2016e+02]], dtype=float32), mask=None, confidence=None, class_id=None, tracker_id=None, data={'class_name': array(['background'], dtype='<U10')}, metadata={})\n",
      "Detections(xyxy=array([[1.6000e-01, 1.6000e-01, 3.2016e+02, 3.2016e+02]], dtype=float32), mask=None, confidence=None, class_id=None, tracker_id=None, data={'class_name': array(['background'], dtype='<U10')}, metadata={})\n",
      "Detections(xyxy=array([[1.6000e-01, 1.6000e-01, 3.2016e+02, 3.2016e+02]], dtype=float32), mask=None, confidence=None, class_id=None, tracker_id=None, data={'class_name': array(['background'], dtype='<U10')}, metadata={})\n"
     ]
    },
    {
     "name": "stderr",
     "output_type": "stream",
     "text": [
      " 10%|▉         | 16/163 [00:13<01:10,  2.07it/s]"
     ]
    },
    {
     "name": "stdout",
     "output_type": "stream",
     "text": [
      "{'<OD>': {'bboxes': [], 'labels': []}}\n",
      "{'<OD>': {'bboxes': [], 'labels': []}}\n",
      "{'<OD>': {'bboxes': [], 'labels': []}}\n",
      "{'<OD>': {'bboxes': [], 'labels': []}}\n",
      "Detections(xyxy=array([[1.6000e-01, 1.6000e-01, 3.2016e+02, 3.2016e+02]], dtype=float32), mask=None, confidence=None, class_id=None, tracker_id=None, data={'class_name': array(['background'], dtype='<U10')}, metadata={})\n",
      "Detections(xyxy=array([[1.6000e-01, 1.6000e-01, 3.2016e+02, 3.2016e+02]], dtype=float32), mask=None, confidence=None, class_id=None, tracker_id=None, data={'class_name': array(['background'], dtype='<U10')}, metadata={})\n",
      "Detections(xyxy=array([[1.6000e-01, 1.6000e-01, 3.2016e+02, 3.2016e+02]], dtype=float32), mask=None, confidence=None, class_id=None, tracker_id=None, data={'class_name': array(['background'], dtype='<U10')}, metadata={})\n",
      "Detections(xyxy=array([[1.6000e-01, 1.6000e-01, 3.2016e+02, 3.2016e+02]], dtype=float32), mask=None, confidence=None, class_id=None, tracker_id=None, data={'class_name': array(['background'], dtype='<U10')}, metadata={})\n"
     ]
    },
    {
     "name": "stderr",
     "output_type": "stream",
     "text": [
      " 10%|█         | 17/163 [00:14<01:11,  2.05it/s]"
     ]
    },
    {
     "name": "stdout",
     "output_type": "stream",
     "text": [
      "{'<OD>': {'bboxes': [], 'labels': []}}\n",
      "{'<OD>': {'bboxes': [], 'labels': []}}\n",
      "{'<OD>': {'bboxes': [[0.1599999964237213, 0.1599999964237213, 319.5199890136719, 319.5199890136719]], 'labels': ['building']}}\n",
      "{'<OD>': {'bboxes': [], 'labels': []}}\n",
      "Detections(xyxy=array([[1.6000e-01, 1.6000e-01, 3.2016e+02, 3.2016e+02]], dtype=float32), mask=None, confidence=None, class_id=None, tracker_id=None, data={'class_name': array(['background'], dtype='<U10')}, metadata={})\n",
      "Detections(xyxy=array([[1.6000e-01, 1.6000e-01, 3.2016e+02, 3.2016e+02]], dtype=float32), mask=None, confidence=None, class_id=None, tracker_id=None, data={'class_name': array(['background'], dtype='<U10')}, metadata={})\n",
      "Detections(xyxy=array([[1.6000e-01, 1.6000e-01, 3.2016e+02, 3.2016e+02]], dtype=float32), mask=None, confidence=None, class_id=None, tracker_id=None, data={'class_name': array(['background'], dtype='<U10')}, metadata={})\n",
      "Detections(xyxy=array([[1.6000e-01, 1.6000e-01, 3.2016e+02, 3.2016e+02]], dtype=float32), mask=None, confidence=None, class_id=None, tracker_id=None, data={'class_name': array(['background'], dtype='<U10')}, metadata={})\n"
     ]
    },
    {
     "name": "stderr",
     "output_type": "stream",
     "text": [
      " 11%|█         | 18/163 [00:14<01:10,  2.06it/s]"
     ]
    },
    {
     "name": "stdout",
     "output_type": "stream",
     "text": [
      "{'<OD>': {'bboxes': [], 'labels': []}}\n",
      "{'<OD>': {'bboxes': [], 'labels': []}}\n",
      "{'<OD>': {'bboxes': [], 'labels': []}}\n",
      "{'<OD>': {'bboxes': [], 'labels': []}}\n",
      "Detections(xyxy=array([[1.6000e-01, 1.6000e-01, 3.2016e+02, 3.2016e+02]], dtype=float32), mask=None, confidence=None, class_id=None, tracker_id=None, data={'class_name': array(['background'], dtype='<U10')}, metadata={})\n",
      "Detections(xyxy=array([[1.6000e-01, 1.6000e-01, 3.2016e+02, 3.2016e+02]], dtype=float32), mask=None, confidence=None, class_id=None, tracker_id=None, data={'class_name': array(['background'], dtype='<U10')}, metadata={})\n",
      "Detections(xyxy=array([[1.6000e-01, 1.6000e-01, 3.2016e+02, 3.2016e+02]], dtype=float32), mask=None, confidence=None, class_id=None, tracker_id=None, data={'class_name': array(['background'], dtype='<U10')}, metadata={})\n",
      "Detections(xyxy=array([[1.6000e-01, 1.6000e-01, 3.2016e+02, 3.2016e+02]], dtype=float32), mask=None, confidence=None, class_id=None, tracker_id=None, data={'class_name': array(['background'], dtype='<U10')}, metadata={})\n"
     ]
    },
    {
     "name": "stderr",
     "output_type": "stream",
     "text": [
      " 12%|█▏        | 19/163 [00:15<01:08,  2.11it/s]"
     ]
    },
    {
     "name": "stdout",
     "output_type": "stream",
     "text": [
      "{'<OD>': {'bboxes': [], 'labels': []}}\n",
      "{'<OD>': {'bboxes': [], 'labels': []}}\n",
      "{'<OD>': {'bboxes': [[0.1599999964237213, 0.1599999964237213, 319.5199890136719, 319.5199890136719]], 'labels': ['building']}}\n",
      "{'<OD>': {'bboxes': [], 'labels': []}}\n",
      "Detections(xyxy=array([[1.6000e-01, 1.6000e-01, 3.2016e+02, 3.2016e+02]], dtype=float32), mask=None, confidence=None, class_id=None, tracker_id=None, data={'class_name': array(['background'], dtype='<U10')}, metadata={})\n",
      "Detections(xyxy=array([[1.6000e-01, 1.6000e-01, 3.2016e+02, 3.2016e+02]], dtype=float32), mask=None, confidence=None, class_id=None, tracker_id=None, data={'class_name': array(['background'], dtype='<U10')}, metadata={})\n",
      "Detections(xyxy=array([[1.6000e-01, 1.6000e-01, 3.2016e+02, 3.2016e+02]], dtype=float32), mask=None, confidence=None, class_id=None, tracker_id=None, data={'class_name': array(['background'], dtype='<U10')}, metadata={})\n",
      "Detections(xyxy=array([[1.6000e-01, 1.6000e-01, 3.2016e+02, 3.2016e+02]], dtype=float32), mask=None, confidence=None, class_id=None, tracker_id=None, data={'class_name': array(['background'], dtype='<U10')}, metadata={})\n"
     ]
    },
    {
     "name": "stderr",
     "output_type": "stream",
     "text": [
      " 12%|█▏        | 20/163 [00:15<01:06,  2.14it/s]"
     ]
    },
    {
     "name": "stdout",
     "output_type": "stream",
     "text": [
      "{'<OD>': {'bboxes': [[6.239999771118164, 106.39999389648438, 43.36000061035156, 132.3199920654297]], 'labels': ['brick kilns with chimney']}}\n",
      "{'<OD>': {'bboxes': [], 'labels': []}}\n",
      "{'<OD>': {'bboxes': [], 'labels': []}}\n",
      "{'<OD>': {'bboxes': [], 'labels': []}}\n",
      "Detections(xyxy=array([[1.6000e-01, 1.6000e-01, 3.2016e+02, 3.2016e+02]], dtype=float32), mask=None, confidence=None, class_id=None, tracker_id=None, data={'class_name': array(['background'], dtype='<U10')}, metadata={})\n",
      "Detections(xyxy=array([[1.6000e-01, 1.6000e-01, 3.2016e+02, 3.2016e+02]], dtype=float32), mask=None, confidence=None, class_id=None, tracker_id=None, data={'class_name': array(['background'], dtype='<U10')}, metadata={})\n",
      "Detections(xyxy=array([[1.6000e-01, 1.6000e-01, 3.2016e+02, 3.2016e+02]], dtype=float32), mask=None, confidence=None, class_id=None, tracker_id=None, data={'class_name': array(['background'], dtype='<U10')}, metadata={})\n",
      "Detections(xyxy=array([[1.6000e-01, 1.6000e-01, 3.2016e+02, 3.2016e+02]], dtype=float32), mask=None, confidence=None, class_id=None, tracker_id=None, data={'class_name': array(['background'], dtype='<U10')}, metadata={})\n"
     ]
    },
    {
     "name": "stderr",
     "output_type": "stream",
     "text": [
      " 13%|█▎        | 21/163 [00:15<01:06,  2.14it/s]"
     ]
    },
    {
     "name": "stdout",
     "output_type": "stream",
     "text": [
      "{'<OD>': {'bboxes': [[0.1599999964237213, 0.1599999964237213, 319.5199890136719, 319.5199890136719]], 'labels': ['building']}}\n",
      "{'<OD>': {'bboxes': [], 'labels': []}}\n",
      "{'<OD>': {'bboxes': [], 'labels': []}}\n",
      "{'<OD>': {'bboxes': [], 'labels': []}}\n",
      "Detections(xyxy=array([[1.6000e-01, 1.6000e-01, 3.2016e+02, 3.2016e+02]], dtype=float32), mask=None, confidence=None, class_id=None, tracker_id=None, data={'class_name': array(['background'], dtype='<U10')}, metadata={})\n",
      "Detections(xyxy=array([[1.6000e-01, 1.6000e-01, 3.2016e+02, 3.2016e+02]], dtype=float32), mask=None, confidence=None, class_id=None, tracker_id=None, data={'class_name': array(['background'], dtype='<U10')}, metadata={})\n",
      "Detections(xyxy=array([[1.6000e-01, 1.6000e-01, 3.2016e+02, 3.2016e+02]], dtype=float32), mask=None, confidence=None, class_id=None, tracker_id=None, data={'class_name': array(['background'], dtype='<U10')}, metadata={})\n",
      "Detections(xyxy=array([[1.6000e-01, 1.6000e-01, 3.2016e+02, 3.2016e+02]], dtype=float32), mask=None, confidence=None, class_id=None, tracker_id=None, data={'class_name': array(['background'], dtype='<U10')}, metadata={})\n"
     ]
    },
    {
     "name": "stderr",
     "output_type": "stream",
     "text": [
      " 13%|█▎        | 22/163 [00:16<01:05,  2.16it/s]"
     ]
    },
    {
     "name": "stdout",
     "output_type": "stream",
     "text": [
      "{'<OD>': {'bboxes': [], 'labels': []}}\n",
      "{'<OD>': {'bboxes': [], 'labels': []}}\n",
      "{'<OD>': {'bboxes': [[0.1599999964237213, 0.1599999964237213, 319.5199890136719, 319.5199890136719]], 'labels': ['building']}}\n",
      "{'<OD>': {'bboxes': [], 'labels': []}}\n",
      "Detections(xyxy=array([[1.6000e-01, 1.6000e-01, 3.2016e+02, 3.2016e+02]], dtype=float32), mask=None, confidence=None, class_id=None, tracker_id=None, data={'class_name': array(['background'], dtype='<U10')}, metadata={})\n",
      "Detections(xyxy=array([[1.6000e-01, 1.6000e-01, 3.2016e+02, 3.2016e+02]], dtype=float32), mask=None, confidence=None, class_id=None, tracker_id=None, data={'class_name': array(['background'], dtype='<U10')}, metadata={})\n",
      "Detections(xyxy=array([[1.6000e-01, 1.6000e-01, 3.2016e+02, 3.2016e+02]], dtype=float32), mask=None, confidence=None, class_id=None, tracker_id=None, data={'class_name': array(['background'], dtype='<U10')}, metadata={})\n",
      "Detections(xyxy=array([[1.6000e-01, 1.6000e-01, 3.2016e+02, 3.2016e+02]], dtype=float32), mask=None, confidence=None, class_id=None, tracker_id=None, data={'class_name': array(['background'], dtype='<U10')}, metadata={})\n"
     ]
    },
    {
     "name": "stderr",
     "output_type": "stream",
     "text": [
      " 14%|█▍        | 23/163 [00:16<01:03,  2.20it/s]"
     ]
    },
    {
     "name": "stdout",
     "output_type": "stream",
     "text": [
      "{'<OD>': {'bboxes': [], 'labels': []}}\n",
      "{'<OD>': {'bboxes': [[0.1599999964237213, 0.1599999964237213, 319.5199890136719, 319.5199890136719]], 'labels': ['clock tower']}}\n",
      "{'<OD>': {'bboxes': [[0.1599999964237213, 0.1599999964237213, 319.5199890136719, 319.5199890136719]], 'labels': ['brick kilns with chimney']}}\n",
      "{'<OD>': {'bboxes': [], 'labels': []}}\n",
      "Detections(xyxy=array([[1.6000e-01, 1.6000e-01, 3.2016e+02, 3.2016e+02]], dtype=float32), mask=None, confidence=None, class_id=None, tracker_id=None, data={'class_name': array(['background'], dtype='<U10')}, metadata={})\n",
      "Detections(xyxy=array([[1.6000e-01, 1.6000e-01, 3.2016e+02, 3.2016e+02]], dtype=float32), mask=None, confidence=None, class_id=None, tracker_id=None, data={'class_name': array(['background'], dtype='<U10')}, metadata={})\n",
      "Detections(xyxy=array([[ 2.08    , 26.08    , 27.039999, 51.039997]], dtype=float32), mask=None, confidence=None, class_id=None, tracker_id=None, data={'class_name': array(['brick kilns with chimney'], dtype='<U24')}, metadata={})\n",
      "Detections(xyxy=array([[1.6000e-01, 1.6000e-01, 3.2016e+02, 3.2016e+02]], dtype=float32), mask=None, confidence=None, class_id=None, tracker_id=None, data={'class_name': array(['background'], dtype='<U10')}, metadata={})\n"
     ]
    },
    {
     "name": "stderr",
     "output_type": "stream",
     "text": [
      " 15%|█▍        | 24/163 [00:17<01:04,  2.15it/s]"
     ]
    },
    {
     "name": "stdout",
     "output_type": "stream",
     "text": [
      "{'<OD>': {'bboxes': [[0.1599999964237213, 0.1599999964237213, 319.5199890136719, 319.5199890136719]], 'labels': ['building']}}\n",
      "{'<OD>': {'bboxes': [[0.1599999964237213, 0.1599999964237213, 319.5199890136719, 319.5199890136719]], 'labels': ['building']}}\n",
      "{'<OD>': {'bboxes': [], 'labels': []}}\n",
      "{'<OD>': {'bboxes': [], 'labels': []}}\n",
      "Detections(xyxy=array([[1.6000e-01, 1.6000e-01, 3.2016e+02, 3.2016e+02]], dtype=float32), mask=None, confidence=None, class_id=None, tracker_id=None, data={'class_name': array(['background'], dtype='<U10')}, metadata={})\n",
      "Detections(xyxy=array([[1.6000e-01, 1.6000e-01, 3.2016e+02, 3.2016e+02]], dtype=float32), mask=None, confidence=None, class_id=None, tracker_id=None, data={'class_name': array(['background'], dtype='<U10')}, metadata={})\n",
      "Detections(xyxy=array([[1.6000e-01, 1.6000e-01, 3.2016e+02, 3.2016e+02]], dtype=float32), mask=None, confidence=None, class_id=None, tracker_id=None, data={'class_name': array(['background'], dtype='<U10')}, metadata={})\n",
      "Detections(xyxy=array([[1.6000e-01, 1.6000e-01, 3.2016e+02, 3.2016e+02]], dtype=float32), mask=None, confidence=None, class_id=None, tracker_id=None, data={'class_name': array(['background'], dtype='<U10')}, metadata={})\n"
     ]
    },
    {
     "name": "stderr",
     "output_type": "stream",
     "text": [
      " 15%|█▌        | 25/163 [00:17<01:04,  2.13it/s]"
     ]
    },
    {
     "name": "stdout",
     "output_type": "stream",
     "text": [
      "{'<OD>': {'bboxes': [], 'labels': []}}\n",
      "{'<OD>': {'bboxes': [[0.1599999964237213, 0.1599999964237213, 319.5199890136719, 319.5199890136719]], 'labels': ['building']}}\n",
      "{'<OD>': {'bboxes': [], 'labels': []}}\n",
      "{'<OD>': {'bboxes': [[0.1599999964237213, 0.1599999964237213, 319.5199890136719, 319.5199890136719]], 'labels': ['clock tower']}}\n",
      "Detections(xyxy=array([[1.6000e-01, 1.6000e-01, 3.2016e+02, 3.2016e+02]], dtype=float32), mask=None, confidence=None, class_id=None, tracker_id=None, data={'class_name': array(['background'], dtype='<U10')}, metadata={})\n",
      "Detections(xyxy=array([[1.6000e-01, 1.6000e-01, 3.2016e+02, 3.2016e+02]], dtype=float32), mask=None, confidence=None, class_id=None, tracker_id=None, data={'class_name': array(['background'], dtype='<U10')}, metadata={})\n",
      "Detections(xyxy=array([[1.6000e-01, 1.6000e-01, 3.2016e+02, 3.2016e+02]], dtype=float32), mask=None, confidence=None, class_id=None, tracker_id=None, data={'class_name': array(['background'], dtype='<U10')}, metadata={})\n",
      "Detections(xyxy=array([[1.6000e-01, 1.6000e-01, 3.2016e+02, 3.2016e+02]], dtype=float32), mask=None, confidence=None, class_id=None, tracker_id=None, data={'class_name': array(['background'], dtype='<U10')}, metadata={})\n"
     ]
    },
    {
     "name": "stderr",
     "output_type": "stream",
     "text": [
      " 16%|█▌        | 26/163 [00:18<01:02,  2.18it/s]"
     ]
    },
    {
     "name": "stdout",
     "output_type": "stream",
     "text": [
      "{'<OD>': {'bboxes': [], 'labels': []}}\n",
      "{'<OD>': {'bboxes': [], 'labels': []}}\n",
      "{'<OD>': {'bboxes': [[0.1599999964237213, 0.1599999964237213, 319.5199890136719, 319.5199890136719]], 'labels': ['building']}}\n",
      "{'<OD>': {'bboxes': [], 'labels': []}}\n",
      "Detections(xyxy=array([[1.6000e-01, 1.6000e-01, 3.2016e+02, 3.2016e+02]], dtype=float32), mask=None, confidence=None, class_id=None, tracker_id=None, data={'class_name': array(['background'], dtype='<U10')}, metadata={})\n",
      "Detections(xyxy=array([[1.6000e-01, 1.6000e-01, 3.2016e+02, 3.2016e+02]], dtype=float32), mask=None, confidence=None, class_id=None, tracker_id=None, data={'class_name': array(['background'], dtype='<U10')}, metadata={})\n",
      "Detections(xyxy=array([[1.6000e-01, 1.6000e-01, 3.2016e+02, 3.2016e+02]], dtype=float32), mask=None, confidence=None, class_id=None, tracker_id=None, data={'class_name': array(['background'], dtype='<U10')}, metadata={})\n",
      "Detections(xyxy=array([[1.6000e-01, 1.6000e-01, 3.2016e+02, 3.2016e+02]], dtype=float32), mask=None, confidence=None, class_id=None, tracker_id=None, data={'class_name': array(['background'], dtype='<U10')}, metadata={})\n"
     ]
    },
    {
     "name": "stderr",
     "output_type": "stream",
     "text": [
      " 17%|█▋        | 27/163 [00:18<01:02,  2.17it/s]"
     ]
    },
    {
     "name": "stdout",
     "output_type": "stream",
     "text": [
      "{'<OD>': {'bboxes': [], 'labels': []}}\n",
      "{'<OD>': {'bboxes': [], 'labels': []}}\n",
      "{'<OD>': {'bboxes': [[0.1599999964237213, 0.1599999964237213, 319.5199890136719, 319.5199890136719]], 'labels': ['building']}}\n",
      "{'<OD>': {'bboxes': [], 'labels': []}}\n",
      "Detections(xyxy=array([[1.6000e-01, 1.6000e-01, 3.2016e+02, 3.2016e+02]], dtype=float32), mask=None, confidence=None, class_id=None, tracker_id=None, data={'class_name': array(['background'], dtype='<U10')}, metadata={})\n",
      "Detections(xyxy=array([[1.6000e-01, 1.6000e-01, 3.2016e+02, 3.2016e+02]], dtype=float32), mask=None, confidence=None, class_id=None, tracker_id=None, data={'class_name': array(['background'], dtype='<U10')}, metadata={})\n",
      "Detections(xyxy=array([[1.6000e-01, 1.6000e-01, 3.2016e+02, 3.2016e+02]], dtype=float32), mask=None, confidence=None, class_id=None, tracker_id=None, data={'class_name': array(['background'], dtype='<U10')}, metadata={})\n",
      "Detections(xyxy=array([[1.6000e-01, 1.6000e-01, 3.2016e+02, 3.2016e+02]], dtype=float32), mask=None, confidence=None, class_id=None, tracker_id=None, data={'class_name': array(['background'], dtype='<U10')}, metadata={})\n"
     ]
    },
    {
     "name": "stderr",
     "output_type": "stream",
     "text": [
      " 17%|█▋        | 28/163 [00:19<01:03,  2.11it/s]"
     ]
    },
    {
     "name": "stdout",
     "output_type": "stream",
     "text": [
      "{'<OD>': {'bboxes': [[0.1599999964237213, 0.1599999964237213, 319.5199890136719, 319.5199890136719]], 'labels': ['brick kilns with chimney']}}\n",
      "{'<OD>': {'bboxes': [], 'labels': []}}\n",
      "{'<OD>': {'bboxes': [[0.1599999964237213, 0.1599999964237213, 319.5199890136719, 319.5199890136719]], 'labels': ['building']}}\n",
      "{'<OD>': {'bboxes': [], 'labels': []}}\n",
      "Detections(xyxy=array([[1.6000e-01, 1.6000e-01, 3.2016e+02, 3.2016e+02]], dtype=float32), mask=None, confidence=None, class_id=None, tracker_id=None, data={'class_name': array(['background'], dtype='<U10')}, metadata={})\n",
      "Detections(xyxy=array([[1.6000e-01, 1.6000e-01, 3.2016e+02, 3.2016e+02]], dtype=float32), mask=None, confidence=None, class_id=None, tracker_id=None, data={'class_name': array(['background'], dtype='<U10')}, metadata={})\n",
      "Detections(xyxy=array([[1.6000e-01, 1.6000e-01, 3.2016e+02, 3.2016e+02]], dtype=float32), mask=None, confidence=None, class_id=None, tracker_id=None, data={'class_name': array(['background'], dtype='<U10')}, metadata={})\n",
      "Detections(xyxy=array([[1.6000e-01, 1.6000e-01, 3.2016e+02, 3.2016e+02]], dtype=float32), mask=None, confidence=None, class_id=None, tracker_id=None, data={'class_name': array(['background'], dtype='<U10')}, metadata={})\n"
     ]
    },
    {
     "name": "stderr",
     "output_type": "stream",
     "text": [
      " 18%|█▊        | 29/163 [00:19<01:05,  2.05it/s]"
     ]
    },
    {
     "name": "stdout",
     "output_type": "stream",
     "text": [
      "{'<OD>': {'bboxes': [], 'labels': []}}\n",
      "{'<OD>': {'bboxes': [], 'labels': []}}\n",
      "{'<OD>': {'bboxes': [], 'labels': []}}\n",
      "{'<OD>': {'bboxes': [], 'labels': []}}\n",
      "Detections(xyxy=array([[1.6000e-01, 1.6000e-01, 3.2016e+02, 3.2016e+02]], dtype=float32), mask=None, confidence=None, class_id=None, tracker_id=None, data={'class_name': array(['background'], dtype='<U10')}, metadata={})\n",
      "Detections(xyxy=array([[1.6000e-01, 1.6000e-01, 3.2016e+02, 3.2016e+02]], dtype=float32), mask=None, confidence=None, class_id=None, tracker_id=None, data={'class_name': array(['background'], dtype='<U10')}, metadata={})\n",
      "Detections(xyxy=array([[1.6000e-01, 1.6000e-01, 3.2016e+02, 3.2016e+02]], dtype=float32), mask=None, confidence=None, class_id=None, tracker_id=None, data={'class_name': array(['background'], dtype='<U10')}, metadata={})\n",
      "Detections(xyxy=array([[1.6000e-01, 1.6000e-01, 3.2016e+02, 3.2016e+02]], dtype=float32), mask=None, confidence=None, class_id=None, tracker_id=None, data={'class_name': array(['background'], dtype='<U10')}, metadata={})\n"
     ]
    },
    {
     "name": "stderr",
     "output_type": "stream",
     "text": [
      " 18%|█▊        | 30/163 [00:20<01:03,  2.10it/s]"
     ]
    },
    {
     "name": "stdout",
     "output_type": "stream",
     "text": [
      "{'<OD>': {'bboxes': [], 'labels': []}}\n",
      "{'<OD>': {'bboxes': [], 'labels': []}}\n",
      "{'<OD>': {'bboxes': [], 'labels': []}}\n",
      "{'<OD>': {'bboxes': [], 'labels': []}}\n",
      "Detections(xyxy=array([[1.6000e-01, 1.6000e-01, 3.2016e+02, 3.2016e+02]], dtype=float32), mask=None, confidence=None, class_id=None, tracker_id=None, data={'class_name': array(['background'], dtype='<U10')}, metadata={})\n",
      "Detections(xyxy=array([[1.6000e-01, 1.6000e-01, 3.2016e+02, 3.2016e+02]], dtype=float32), mask=None, confidence=None, class_id=None, tracker_id=None, data={'class_name': array(['background'], dtype='<U10')}, metadata={})\n",
      "Detections(xyxy=array([[137.12, 159.2 , 169.12, 187.04]], dtype=float32), mask=None, confidence=None, class_id=None, tracker_id=None, data={'class_name': array(['brick kilns with chimney'], dtype='<U24')}, metadata={})\n",
      "Detections(xyxy=array([[ 96.159996,  83.04    , 124.32    , 112.159996]], dtype=float32), mask=None, confidence=None, class_id=None, tracker_id=None, data={'class_name': array(['brick kilns with chimney'], dtype='<U24')}, metadata={})\n"
     ]
    },
    {
     "name": "stderr",
     "output_type": "stream",
     "text": [
      " 19%|█▉        | 31/163 [00:20<01:07,  1.95it/s]"
     ]
    },
    {
     "name": "stdout",
     "output_type": "stream",
     "text": [
      "{'<OD>': {'bboxes': [], 'labels': []}}\n",
      "{'<OD>': {'bboxes': [], 'labels': []}}\n",
      "{'<OD>': {'bboxes': [], 'labels': []}}\n",
      "{'<OD>': {'bboxes': [], 'labels': []}}\n",
      "Detections(xyxy=array([[1.6000e-01, 1.6000e-01, 3.2016e+02, 3.2016e+02]], dtype=float32), mask=None, confidence=None, class_id=None, tracker_id=None, data={'class_name': array(['background'], dtype='<U10')}, metadata={})\n",
      "Detections(xyxy=array([[1.6000e-01, 1.6000e-01, 3.2016e+02, 3.2016e+02]], dtype=float32), mask=None, confidence=None, class_id=None, tracker_id=None, data={'class_name': array(['background'], dtype='<U10')}, metadata={})\n",
      "Detections(xyxy=array([[1.6000e-01, 1.6000e-01, 3.2016e+02, 3.2016e+02]], dtype=float32), mask=None, confidence=None, class_id=None, tracker_id=None, data={'class_name': array(['background'], dtype='<U10')}, metadata={})\n",
      "Detections(xyxy=array([[1.6000e-01, 1.6000e-01, 3.2016e+02, 3.2016e+02]], dtype=float32), mask=None, confidence=None, class_id=None, tracker_id=None, data={'class_name': array(['background'], dtype='<U10')}, metadata={})\n"
     ]
    },
    {
     "name": "stderr",
     "output_type": "stream",
     "text": [
      " 20%|█▉        | 32/163 [00:21<01:04,  2.03it/s]"
     ]
    },
    {
     "name": "stdout",
     "output_type": "stream",
     "text": [
      "{'<OD>': {'bboxes': [], 'labels': []}}\n",
      "{'<OD>': {'bboxes': [[0.1599999964237213, 0.1599999964237213, 319.5199890136719, 319.5199890136719]], 'labels': ['brick kilns with chimney']}}\n",
      "{'<OD>': {'bboxes': [], 'labels': []}}\n",
      "{'<OD>': {'bboxes': [[0.1599999964237213, 0.1599999964237213, 319.5199890136719, 319.5199890136719]], 'labels': ['building']}}\n",
      "Detections(xyxy=array([[1.6000e-01, 1.6000e-01, 3.2016e+02, 3.2016e+02]], dtype=float32), mask=None, confidence=None, class_id=None, tracker_id=None, data={'class_name': array(['background'], dtype='<U10')}, metadata={})\n",
      "Detections(xyxy=array([[1.6000e-01, 1.6000e-01, 3.2016e+02, 3.2016e+02]], dtype=float32), mask=None, confidence=None, class_id=None, tracker_id=None, data={'class_name': array(['background'], dtype='<U10')}, metadata={})\n",
      "Detections(xyxy=array([[1.6000e-01, 1.6000e-01, 3.2016e+02, 3.2016e+02]], dtype=float32), mask=None, confidence=None, class_id=None, tracker_id=None, data={'class_name': array(['background'], dtype='<U10')}, metadata={})\n",
      "Detections(xyxy=array([[1.6000e-01, 1.6000e-01, 3.2016e+02, 3.2016e+02]], dtype=float32), mask=None, confidence=None, class_id=None, tracker_id=None, data={'class_name': array(['background'], dtype='<U10')}, metadata={})\n"
     ]
    },
    {
     "name": "stderr",
     "output_type": "stream",
     "text": [
      " 20%|██        | 33/163 [00:21<01:04,  2.01it/s]"
     ]
    },
    {
     "name": "stdout",
     "output_type": "stream",
     "text": [
      "{'<OD>': {'bboxes': [], 'labels': []}}\n",
      "{'<OD>': {'bboxes': [[0.1599999964237213, 0.1599999964237213, 319.5199890136719, 319.5199890136719]], 'labels': ['brick kilns with chimney']}}\n",
      "{'<OD>': {'bboxes': [], 'labels': []}}\n",
      "{'<OD>': {'bboxes': [[0.1599999964237213, 0.1599999964237213, 319.5199890136719, 319.5199890136719]], 'labels': ['building']}}\n",
      "Detections(xyxy=array([[1.6000e-01, 1.6000e-01, 3.2016e+02, 3.2016e+02]], dtype=float32), mask=None, confidence=None, class_id=None, tracker_id=None, data={'class_name': array(['background'], dtype='<U10')}, metadata={})\n",
      "Detections(xyxy=array([[1.6000e-01, 1.6000e-01, 3.2016e+02, 3.2016e+02]], dtype=float32), mask=None, confidence=None, class_id=None, tracker_id=None, data={'class_name': array(['background'], dtype='<U10')}, metadata={})\n",
      "Detections(xyxy=array([[1.6000e-01, 1.6000e-01, 3.2016e+02, 3.2016e+02]], dtype=float32), mask=None, confidence=None, class_id=None, tracker_id=None, data={'class_name': array(['background'], dtype='<U10')}, metadata={})\n",
      "Detections(xyxy=array([[1.6000e-01, 1.6000e-01, 3.2016e+02, 3.2016e+02]], dtype=float32), mask=None, confidence=None, class_id=None, tracker_id=None, data={'class_name': array(['background'], dtype='<U10')}, metadata={})\n"
     ]
    },
    {
     "name": "stderr",
     "output_type": "stream",
     "text": [
      " 21%|██        | 34/163 [00:22<01:04,  2.00it/s]"
     ]
    },
    {
     "name": "stdout",
     "output_type": "stream",
     "text": [
      "{'<OD>': {'bboxes': [[0.1599999964237213, 0.1599999964237213, 319.5199890136719, 319.5199890136719]], 'labels': ['building']}}\n",
      "{'<OD>': {'bboxes': [[0.1599999964237213, 0.1599999964237213, 319.5199890136719, 319.5199890136719]], 'labels': ['building']}}\n",
      "{'<OD>': {'bboxes': [[0.1599999964237213, 0.1599999964237213, 319.5199890136719, 319.5199890136719]], 'labels': ['building']}}\n",
      "{'<OD>': {'bboxes': [], 'labels': []}}\n",
      "Detections(xyxy=array([[1.6000e-01, 1.6000e-01, 3.2016e+02, 3.2016e+02]], dtype=float32), mask=None, confidence=None, class_id=None, tracker_id=None, data={'class_name': array(['background'], dtype='<U10')}, metadata={})\n",
      "Detections(xyxy=array([[1.6000e-01, 1.6000e-01, 3.2016e+02, 3.2016e+02]], dtype=float32), mask=None, confidence=None, class_id=None, tracker_id=None, data={'class_name': array(['background'], dtype='<U10')}, metadata={})\n",
      "Detections(xyxy=array([[1.6000e-01, 1.6000e-01, 3.2016e+02, 3.2016e+02]], dtype=float32), mask=None, confidence=None, class_id=None, tracker_id=None, data={'class_name': array(['background'], dtype='<U10')}, metadata={})\n",
      "Detections(xyxy=array([[1.6000e-01, 1.6000e-01, 3.2016e+02, 3.2016e+02]], dtype=float32), mask=None, confidence=None, class_id=None, tracker_id=None, data={'class_name': array(['background'], dtype='<U10')}, metadata={})\n"
     ]
    },
    {
     "name": "stderr",
     "output_type": "stream",
     "text": [
      " 21%|██▏       | 35/163 [00:22<01:03,  2.02it/s]"
     ]
    },
    {
     "name": "stdout",
     "output_type": "stream",
     "text": [
      "{'<OD>': {'bboxes': [[0.1599999964237213, 0.1599999964237213, 319.5199890136719, 319.5199890136719]], 'labels': ['building']}}\n",
      "{'<OD>': {'bboxes': [], 'labels': []}}\n",
      "{'<OD>': {'bboxes': [[0.1599999964237213, 0.1599999964237213, 319.5199890136719, 319.5199890136719]], 'labels': ['building']}}\n",
      "{'<OD>': {'bboxes': [[0.1599999964237213, 0.1599999964237213, 319.5199890136719, 319.5199890136719]], 'labels': ['brick kilns with chimneys and chimneys with chimney chimney']}}\n",
      "Detections(xyxy=array([[1.6000e-01, 1.6000e-01, 3.2016e+02, 3.2016e+02]], dtype=float32), mask=None, confidence=None, class_id=None, tracker_id=None, data={'class_name': array(['background'], dtype='<U10')}, metadata={})\n",
      "Detections(xyxy=array([[1.6000e-01, 1.6000e-01, 3.2016e+02, 3.2016e+02]], dtype=float32), mask=None, confidence=None, class_id=None, tracker_id=None, data={'class_name': array(['background'], dtype='<U10')}, metadata={})\n",
      "Detections(xyxy=array([[1.6000e-01, 1.6000e-01, 3.2016e+02, 3.2016e+02]], dtype=float32), mask=None, confidence=None, class_id=None, tracker_id=None, data={'class_name': array(['background'], dtype='<U10')}, metadata={})\n",
      "Detections(xyxy=array([[1.6000e-01, 1.6000e-01, 3.2016e+02, 3.2016e+02]], dtype=float32), mask=None, confidence=None, class_id=None, tracker_id=None, data={'class_name': array(['background'], dtype='<U10')}, metadata={})\n"
     ]
    },
    {
     "name": "stderr",
     "output_type": "stream",
     "text": [
      " 22%|██▏       | 36/163 [00:23<01:00,  2.11it/s]"
     ]
    },
    {
     "name": "stdout",
     "output_type": "stream",
     "text": [
      "{'<OD>': {'bboxes': [], 'labels': []}}\n",
      "{'<OD>': {'bboxes': [], 'labels': []}}\n",
      "{'<OD>': {'bboxes': [], 'labels': []}}\n",
      "{'<OD>': {'bboxes': [], 'labels': []}}\n",
      "Detections(xyxy=array([[1.6000e-01, 1.6000e-01, 3.2016e+02, 3.2016e+02]], dtype=float32), mask=None, confidence=None, class_id=None, tracker_id=None, data={'class_name': array(['background'], dtype='<U10')}, metadata={})\n",
      "Detections(xyxy=array([[1.6000e-01, 1.6000e-01, 3.2016e+02, 3.2016e+02]], dtype=float32), mask=None, confidence=None, class_id=None, tracker_id=None, data={'class_name': array(['background'], dtype='<U10')}, metadata={})\n",
      "Detections(xyxy=array([[1.6000e-01, 1.6000e-01, 3.2016e+02, 3.2016e+02]], dtype=float32), mask=None, confidence=None, class_id=None, tracker_id=None, data={'class_name': array(['background'], dtype='<U10')}, metadata={})\n",
      "Detections(xyxy=array([[1.6000e-01, 1.6000e-01, 3.2016e+02, 3.2016e+02]], dtype=float32), mask=None, confidence=None, class_id=None, tracker_id=None, data={'class_name': array(['background'], dtype='<U10')}, metadata={})\n"
     ]
    },
    {
     "name": "stderr",
     "output_type": "stream",
     "text": [
      " 23%|██▎       | 37/163 [00:23<01:01,  2.04it/s]"
     ]
    },
    {
     "name": "stdout",
     "output_type": "stream",
     "text": [
      "{'<OD>': {'bboxes': [], 'labels': []}}\n",
      "{'<OD>': {'bboxes': [], 'labels': []}}\n",
      "{'<OD>': {'bboxes': [], 'labels': []}}\n",
      "{'<OD>': {'bboxes': [], 'labels': []}}\n",
      "Detections(xyxy=array([[1.6000e-01, 1.6000e-01, 3.2016e+02, 3.2016e+02]], dtype=float32), mask=None, confidence=None, class_id=None, tracker_id=None, data={'class_name': array(['background'], dtype='<U10')}, metadata={})\n",
      "Detections(xyxy=array([[ 42.079998, 289.12    ,  69.28    , 309.28    ],\n",
      "       [168.16    , 220.31999 , 196.      , 250.08    ],\n",
      "       [ 51.039997, 197.28    ,  82.08    , 223.2     ]], dtype=float32), mask=None, confidence=None, class_id=None, tracker_id=None, data={'class_name': array(['brick kilns with chimney', 'brick kilns with chimney',\n",
      "       'brick kilns with chimney'], dtype='<U24')}, metadata={})\n",
      "Detections(xyxy=array([[1.6000e-01, 1.6000e-01, 3.2016e+02, 3.2016e+02]], dtype=float32), mask=None, confidence=None, class_id=None, tracker_id=None, data={'class_name': array(['background'], dtype='<U10')}, metadata={})\n",
      "Detections(xyxy=array([[1.6000e-01, 1.6000e-01, 3.2016e+02, 3.2016e+02]], dtype=float32), mask=None, confidence=None, class_id=None, tracker_id=None, data={'class_name': array(['background'], dtype='<U10')}, metadata={})\n"
     ]
    },
    {
     "name": "stderr",
     "output_type": "stream",
     "text": [
      " 23%|██▎       | 38/163 [00:24<01:02,  2.00it/s]"
     ]
    },
    {
     "name": "stdout",
     "output_type": "stream",
     "text": [
      "{'<OD>': {'bboxes': [[0.1599999964237213, 0.1599999964237213, 319.5199890136719, 319.5199890136719]], 'labels': ['building']}}\n",
      "{'<OD>': {'bboxes': [], 'labels': []}}\n",
      "{'<OD>': {'bboxes': [], 'labels': []}}\n",
      "{'<OD>': {'bboxes': [[0.1599999964237213, 134.239990234375, 22.239999771118164, 162.72000122070312]], 'labels': ['brick kilns with chimney']}}\n",
      "Detections(xyxy=array([[1.6000e-01, 1.6000e-01, 3.2016e+02, 3.2016e+02]], dtype=float32), mask=None, confidence=None, class_id=None, tracker_id=None, data={'class_name': array(['background'], dtype='<U10')}, metadata={})\n",
      "Detections(xyxy=array([[1.6000e-01, 1.6000e-01, 3.2016e+02, 3.2016e+02]], dtype=float32), mask=None, confidence=None, class_id=None, tracker_id=None, data={'class_name': array(['background'], dtype='<U10')}, metadata={})\n",
      "Detections(xyxy=array([[1.6000e-01, 1.6000e-01, 3.2016e+02, 3.2016e+02]], dtype=float32), mask=None, confidence=None, class_id=None, tracker_id=None, data={'class_name': array(['background'], dtype='<U10')}, metadata={})\n",
      "Detections(xyxy=array([[1.6000e-01, 1.6000e-01, 3.2016e+02, 3.2016e+02]], dtype=float32), mask=None, confidence=None, class_id=None, tracker_id=None, data={'class_name': array(['background'], dtype='<U10')}, metadata={})\n"
     ]
    },
    {
     "name": "stderr",
     "output_type": "stream",
     "text": [
      " 24%|██▍       | 39/163 [00:24<00:58,  2.14it/s]"
     ]
    },
    {
     "name": "stdout",
     "output_type": "stream",
     "text": [
      "{'<OD>': {'bboxes': [[0.1599999964237213, 0.1599999964237213, 319.5199890136719, 319.5199890136719]], 'labels': ['building']}}\n",
      "{'<OD>': {'bboxes': [[0.1599999964237213, 0.1599999964237213, 319.5199890136719, 319.5199890136719]], 'labels': ['building']}}\n",
      "{'<OD>': {'bboxes': [], 'labels': []}}\n",
      "{'<OD>': {'bboxes': [[0.1599999964237213, 0.1599999964237213, 319.5199890136719, 319.5199890136719]], 'labels': ['brick kilns with chimney']}}\n",
      "Detections(xyxy=array([[1.6000e-01, 1.6000e-01, 3.2016e+02, 3.2016e+02]], dtype=float32), mask=None, confidence=None, class_id=None, tracker_id=None, data={'class_name': array(['background'], dtype='<U10')}, metadata={})\n",
      "Detections(xyxy=array([[1.6000e-01, 1.6000e-01, 3.2016e+02, 3.2016e+02]], dtype=float32), mask=None, confidence=None, class_id=None, tracker_id=None, data={'class_name': array(['background'], dtype='<U10')}, metadata={})\n",
      "Detections(xyxy=array([[55.199997, 25.119999, 76.32    , 51.039997]], dtype=float32), mask=None, confidence=None, class_id=None, tracker_id=None, data={'class_name': array(['brick kilns with chimney'], dtype='<U24')}, metadata={})\n",
      "Detections(xyxy=array([[ 55.199997, 281.12    ,  76.32    , 307.03998 ]], dtype=float32), mask=None, confidence=None, class_id=None, tracker_id=None, data={'class_name': array(['brick kilns with chimney'], dtype='<U24')}, metadata={})\n"
     ]
    },
    {
     "name": "stderr",
     "output_type": "stream",
     "text": [
      " 25%|██▍       | 40/163 [00:25<00:56,  2.16it/s]"
     ]
    },
    {
     "name": "stdout",
     "output_type": "stream",
     "text": [
      "{'<OD>': {'bboxes': [], 'labels': []}}\n",
      "{'<OD>': {'bboxes': [], 'labels': []}}\n",
      "{'<OD>': {'bboxes': [[6.559999942779541, 195.0399932861328, 21.279998779296875, 211.0399932861328]], 'labels': ['brick kilns with chimney']}}\n",
      "{'<OD>': {'bboxes': [[0.1599999964237213, 0.1599999964237213, 319.5199890136719, 319.5199890136719]], 'labels': ['building']}}\n",
      "Detections(xyxy=array([[1.6000e-01, 1.6000e-01, 3.2016e+02, 3.2016e+02]], dtype=float32), mask=None, confidence=None, class_id=None, tracker_id=None, data={'class_name': array(['background'], dtype='<U10')}, metadata={})\n",
      "Detections(xyxy=array([[1.6000e-01, 1.6000e-01, 3.2016e+02, 3.2016e+02]], dtype=float32), mask=None, confidence=None, class_id=None, tracker_id=None, data={'class_name': array(['background'], dtype='<U10')}, metadata={})\n",
      "Detections(xyxy=array([[1.6000e-01, 1.6000e-01, 3.2016e+02, 3.2016e+02]], dtype=float32), mask=None, confidence=None, class_id=None, tracker_id=None, data={'class_name': array(['background'], dtype='<U10')}, metadata={})\n",
      "Detections(xyxy=array([[288.16    ,  51.039997, 316.32    ,  79.2     ]], dtype=float32), mask=None, confidence=None, class_id=None, tracker_id=None, data={'class_name': array(['brick kilns with chimney'], dtype='<U24')}, metadata={})\n"
     ]
    },
    {
     "name": "stderr",
     "output_type": "stream",
     "text": [
      " 25%|██▌       | 41/163 [00:25<00:56,  2.14it/s]"
     ]
    },
    {
     "name": "stdout",
     "output_type": "stream",
     "text": [
      "{'<OD>': {'bboxes': [], 'labels': []}}\n",
      "{'<OD>': {'bboxes': [], 'labels': []}}\n",
      "{'<OD>': {'bboxes': [], 'labels': []}}\n",
      "{'<OD>': {'bboxes': [], 'labels': []}}\n",
      "Detections(xyxy=array([[1.6000e-01, 1.6000e-01, 3.2016e+02, 3.2016e+02]], dtype=float32), mask=None, confidence=None, class_id=None, tracker_id=None, data={'class_name': array(['background'], dtype='<U10')}, metadata={})\n",
      "Detections(xyxy=array([[1.6000e-01, 1.6000e-01, 3.2016e+02, 3.2016e+02]], dtype=float32), mask=None, confidence=None, class_id=None, tracker_id=None, data={'class_name': array(['background'], dtype='<U10')}, metadata={})\n",
      "Detections(xyxy=array([[1.6000e-01, 1.6000e-01, 3.2016e+02, 3.2016e+02]], dtype=float32), mask=None, confidence=None, class_id=None, tracker_id=None, data={'class_name': array(['background'], dtype='<U10')}, metadata={})\n",
      "Detections(xyxy=array([[1.6000e-01, 1.6000e-01, 3.2016e+02, 3.2016e+02]], dtype=float32), mask=None, confidence=None, class_id=None, tracker_id=None, data={'class_name': array(['background'], dtype='<U10')}, metadata={})\n"
     ]
    },
    {
     "name": "stderr",
     "output_type": "stream",
     "text": [
      " 26%|██▌       | 42/163 [00:25<00:56,  2.15it/s]"
     ]
    },
    {
     "name": "stdout",
     "output_type": "stream",
     "text": [
      "{'<OD>': {'bboxes': [[0.1599999964237213, 0.1599999964237213, 319.5199890136719, 319.5199890136719]], 'labels': ['building']}}\n",
      "{'<OD>': {'bboxes': [[0.1599999964237213, 0.1599999964237213, 319.5199890136719, 319.5199890136719]], 'labels': ['building']}}\n",
      "{'<OD>': {'bboxes': [], 'labels': []}}\n",
      "{'<OD>': {'bboxes': [[0.1599999964237213, 0.1599999964237213, 319.5199890136719, 319.5199890136719]], 'labels': ['building']}}\n",
      "Detections(xyxy=array([[1.6000e-01, 1.6000e-01, 3.2016e+02, 3.2016e+02]], dtype=float32), mask=None, confidence=None, class_id=None, tracker_id=None, data={'class_name': array(['background'], dtype='<U10')}, metadata={})\n",
      "Detections(xyxy=array([[1.6000e-01, 1.6000e-01, 3.2016e+02, 3.2016e+02]], dtype=float32), mask=None, confidence=None, class_id=None, tracker_id=None, data={'class_name': array(['background'], dtype='<U10')}, metadata={})\n",
      "Detections(xyxy=array([[1.6000e-01, 1.6000e-01, 3.2016e+02, 3.2016e+02]], dtype=float32), mask=None, confidence=None, class_id=None, tracker_id=None, data={'class_name': array(['background'], dtype='<U10')}, metadata={})\n",
      "Detections(xyxy=array([[1.6000e-01, 1.6000e-01, 3.2016e+02, 3.2016e+02]], dtype=float32), mask=None, confidence=None, class_id=None, tracker_id=None, data={'class_name': array(['background'], dtype='<U10')}, metadata={})\n"
     ]
    },
    {
     "name": "stderr",
     "output_type": "stream",
     "text": [
      " 26%|██▋       | 43/163 [00:28<01:56,  1.03it/s]"
     ]
    },
    {
     "name": "stdout",
     "output_type": "stream",
     "text": [
      "{'<OD>': {'bboxes': [[0.1599999964237213, 0.1599999964237213, 319.5199890136719, 319.5199890136719]], 'labels': ['building']}}\n",
      "{'<OD>': {'bboxes': [[0.1599999964237213, 48.79999923706055, 15.199999809265137, 65.1199951171875]], 'labels': ['brick kilns with chimney']}}\n",
      "{'<OD>': {'bboxes': [[0.1599999964237213, 0.1599999964237213, 319.5199890136719, 319.5199890136719]], 'labels': ['building']}}\n",
      "{'<OD>': {'bboxes': [[0.1599999964237213, 0.1599999964237213, 319.5199890136719, 319.5199890136719]], 'labels': ['building']}}\n",
      "Detections(xyxy=array([[1.6000e-01, 1.6000e-01, 3.2016e+02, 3.2016e+02]], dtype=float32), mask=None, confidence=None, class_id=None, tracker_id=None, data={'class_name': array(['background'], dtype='<U10')}, metadata={})\n",
      "Detections(xyxy=array([[32.16    , 51.039997, 60.32    , 79.2     ]], dtype=float32), mask=None, confidence=None, class_id=None, tracker_id=None, data={'class_name': array(['brick kilns with chimney'], dtype='<U24')}, metadata={})\n",
      "Detections(xyxy=array([[1.6000e-01, 1.6000e-01, 3.2016e+02, 3.2016e+02]], dtype=float32), mask=None, confidence=None, class_id=None, tracker_id=None, data={'class_name': array(['background'], dtype='<U10')}, metadata={})\n",
      "Detections(xyxy=array([[1.6000e-01, 1.6000e-01, 3.2016e+02, 3.2016e+02]], dtype=float32), mask=None, confidence=None, class_id=None, tracker_id=None, data={'class_name': array(['background'], dtype='<U10')}, metadata={})\n"
     ]
    },
    {
     "name": "stderr",
     "output_type": "stream",
     "text": [
      " 27%|██▋       | 44/163 [00:31<03:03,  1.55s/it]"
     ]
    },
    {
     "name": "stdout",
     "output_type": "stream",
     "text": [
      "{'<OD>': {'bboxes': [[0.1599999964237213, 0.1599999964237213, 319.5199890136719, 319.5199890136719]], 'labels': ['building']}}\n",
      "{'<OD>': {'bboxes': [], 'labels': []}}\n",
      "{'<OD>': {'bboxes': [[0.1599999964237213, 0.1599999964237213, 319.5199890136719, 319.5199890136719]], 'labels': ['building']}}\n",
      "{'<OD>': {'bboxes': [], 'labels': []}}\n",
      "Detections(xyxy=array([[215.2 , 218.08, 241.12, 242.08]], dtype=float32), mask=None, confidence=None, class_id=None, tracker_id=None, data={'class_name': array(['brick kilns with chimney'], dtype='<U24')}, metadata={})\n",
      "Detections(xyxy=array([[176.16, 212.  , 201.12, 237.28]], dtype=float32), mask=None, confidence=None, class_id=None, tracker_id=None, data={'class_name': array(['brick kilns with chimney'], dtype='<U24')}, metadata={})\n",
      "Detections(xyxy=array([[1.6000e-01, 1.6000e-01, 3.2016e+02, 3.2016e+02]], dtype=float32), mask=None, confidence=None, class_id=None, tracker_id=None, data={'class_name': array(['background'], dtype='<U10')}, metadata={})\n",
      "Detections(xyxy=array([[1.6000e-01, 1.6000e-01, 3.2016e+02, 3.2016e+02]], dtype=float32), mask=None, confidence=None, class_id=None, tracker_id=None, data={'class_name': array(['background'], dtype='<U10')}, metadata={})\n"
     ]
    },
    {
     "name": "stderr",
     "output_type": "stream",
     "text": [
      " 28%|██▊       | 45/163 [00:33<03:52,  1.97s/it]"
     ]
    },
    {
     "name": "stdout",
     "output_type": "stream",
     "text": [
      "{'<OD>': {'bboxes': [], 'labels': []}}\n",
      "{'<OD>': {'bboxes': [[0.1599999964237213, 0.1599999964237213, 319.5199890136719, 319.5199890136719]], 'labels': ['building']}}\n",
      "{'<OD>': {'bboxes': [[0.1599999964237213, 0.1599999964237213, 319.5199890136719, 319.5199890136719]], 'labels': ['building']}}\n",
      "{'<OD>': {'bboxes': [], 'labels': []}}\n",
      "Detections(xyxy=array([[1.6000e-01, 1.6000e-01, 3.2016e+02, 3.2016e+02]], dtype=float32), mask=None, confidence=None, class_id=None, tracker_id=None, data={'class_name': array(['background'], dtype='<U10')}, metadata={})\n",
      "Detections(xyxy=array([[1.6000e-01, 1.6000e-01, 3.2016e+02, 3.2016e+02]], dtype=float32), mask=None, confidence=None, class_id=None, tracker_id=None, data={'class_name': array(['background'], dtype='<U10')}, metadata={})\n",
      "Detections(xyxy=array([[1.6000e-01, 1.6000e-01, 3.2016e+02, 3.2016e+02]], dtype=float32), mask=None, confidence=None, class_id=None, tracker_id=None, data={'class_name': array(['background'], dtype='<U10')}, metadata={})\n",
      "Detections(xyxy=array([[1.6000e-01, 1.6000e-01, 3.2016e+02, 3.2016e+02]], dtype=float32), mask=None, confidence=None, class_id=None, tracker_id=None, data={'class_name': array(['background'], dtype='<U10')}, metadata={})\n"
     ]
    },
    {
     "name": "stderr",
     "output_type": "stream",
     "text": [
      " 28%|██▊       | 46/163 [00:36<04:21,  2.23s/it]"
     ]
    },
    {
     "name": "stdout",
     "output_type": "stream",
     "text": [
      "{'<OD>': {'bboxes': [[0.1599999964237213, 0.1599999964237213, 319.5199890136719, 319.5199890136719]], 'labels': ['building']}}\n",
      "{'<OD>': {'bboxes': [[0.1599999964237213, 0.1599999964237213, 319.5199890136719, 319.5199890136719]], 'labels': ['building']}}\n",
      "{'<OD>': {'bboxes': [], 'labels': []}}\n",
      "{'<OD>': {'bboxes': [[0.1599999964237213, 0.1599999964237213, 319.5199890136719, 319.5199890136719]], 'labels': ['brick kilns with chimney']}}\n",
      "Detections(xyxy=array([[1.6000e-01, 1.6000e-01, 3.2016e+02, 3.2016e+02]], dtype=float32), mask=None, confidence=None, class_id=None, tracker_id=None, data={'class_name': array(['background'], dtype='<U10')}, metadata={})\n",
      "Detections(xyxy=array([[1.6000e-01, 1.6000e-01, 3.2016e+02, 3.2016e+02]], dtype=float32), mask=None, confidence=None, class_id=None, tracker_id=None, data={'class_name': array(['background'], dtype='<U10')}, metadata={})\n",
      "Detections(xyxy=array([[1.6000e-01, 1.6000e-01, 3.2016e+02, 3.2016e+02]], dtype=float32), mask=None, confidence=None, class_id=None, tracker_id=None, data={'class_name': array(['background'], dtype='<U10')}, metadata={})\n",
      "Detections(xyxy=array([[1.6000e-01, 1.6000e-01, 3.2016e+02, 3.2016e+02]], dtype=float32), mask=None, confidence=None, class_id=None, tracker_id=None, data={'class_name': array(['background'], dtype='<U10')}, metadata={})\n"
     ]
    },
    {
     "name": "stderr",
     "output_type": "stream",
     "text": [
      " 29%|██▉       | 47/163 [00:37<03:15,  1.68s/it]"
     ]
    },
    {
     "name": "stdout",
     "output_type": "stream",
     "text": [
      "{'<OD>': {'bboxes': [], 'labels': []}}\n",
      "{'<OD>': {'bboxes': [[232.1599884033203, 127.19999694824219, 265.7599792480469, 160.16000366210938]], 'labels': ['brick kilns with chimney']}}\n",
      "{'<OD>': {'bboxes': [[0.1599999964237213, 0.1599999964237213, 319.5199890136719, 319.5199890136719]], 'labels': ['building']}}\n",
      "{'<OD>': {'bboxes': [[0.1599999964237213, 0.1599999964237213, 319.5199890136719, 319.5199890136719]], 'labels': ['building']}}\n",
      "Detections(xyxy=array([[1.6000e-01, 1.6000e-01, 3.2016e+02, 3.2016e+02]], dtype=float32), mask=None, confidence=None, class_id=None, tracker_id=None, data={'class_name': array(['background'], dtype='<U10')}, metadata={})\n",
      "Detections(xyxy=array([[235.04, 129.12, 260.  , 155.04]], dtype=float32), mask=None, confidence=None, class_id=None, tracker_id=None, data={'class_name': array(['brick kilns with chimney'], dtype='<U24')}, metadata={})\n",
      "Detections(xyxy=array([[1.6000e-01, 1.6000e-01, 3.2016e+02, 3.2016e+02]], dtype=float32), mask=None, confidence=None, class_id=None, tracker_id=None, data={'class_name': array(['background'], dtype='<U10')}, metadata={})\n",
      "Detections(xyxy=array([[1.6000e-01, 1.6000e-01, 3.2016e+02, 3.2016e+02]], dtype=float32), mask=None, confidence=None, class_id=None, tracker_id=None, data={'class_name': array(['background'], dtype='<U10')}, metadata={})\n"
     ]
    },
    {
     "name": "stderr",
     "output_type": "stream",
     "text": [
      " 29%|██▉       | 48/163 [00:37<02:31,  1.32s/it]"
     ]
    },
    {
     "name": "stdout",
     "output_type": "stream",
     "text": [
      "{'<OD>': {'bboxes': [], 'labels': []}}\n",
      "{'<OD>': {'bboxes': [[0.1599999964237213, 0.1599999964237213, 319.5199890136719, 319.5199890136719]], 'labels': ['building']}}\n",
      "{'<OD>': {'bboxes': [], 'labels': []}}\n",
      "{'<OD>': {'bboxes': [[0.1599999964237213, 0.1599999964237213, 319.5199890136719, 319.5199890136719]], 'labels': ['building']}}\n",
      "Detections(xyxy=array([[1.6000e-01, 1.6000e-01, 3.2016e+02, 3.2016e+02]], dtype=float32), mask=None, confidence=None, class_id=None, tracker_id=None, data={'class_name': array(['background'], dtype='<U10')}, metadata={})\n",
      "Detections(xyxy=array([[1.6000e-01, 1.6000e-01, 3.2016e+02, 3.2016e+02]], dtype=float32), mask=None, confidence=None, class_id=None, tracker_id=None, data={'class_name': array(['background'], dtype='<U10')}, metadata={})\n",
      "Detections(xyxy=array([[1.6000e-01, 1.6000e-01, 3.2016e+02, 3.2016e+02]], dtype=float32), mask=None, confidence=None, class_id=None, tracker_id=None, data={'class_name': array(['background'], dtype='<U10')}, metadata={})\n",
      "Detections(xyxy=array([[1.6000e-01, 1.6000e-01, 3.2016e+02, 3.2016e+02]], dtype=float32), mask=None, confidence=None, class_id=None, tracker_id=None, data={'class_name': array(['background'], dtype='<U10')}, metadata={})\n"
     ]
    },
    {
     "name": "stderr",
     "output_type": "stream",
     "text": [
      " 30%|███       | 49/163 [00:38<02:02,  1.08s/it]"
     ]
    },
    {
     "name": "stdout",
     "output_type": "stream",
     "text": [
      "{'<OD>': {'bboxes': [], 'labels': []}}\n",
      "{'<OD>': {'bboxes': [], 'labels': []}}\n",
      "{'<OD>': {'bboxes': [], 'labels': []}}\n",
      "{'<OD>': {'bboxes': [], 'labels': []}}\n",
      "Detections(xyxy=array([[1.6000e-01, 1.6000e-01, 3.2016e+02, 3.2016e+02]], dtype=float32), mask=None, confidence=None, class_id=None, tracker_id=None, data={'class_name': array(['background'], dtype='<U10')}, metadata={})\n",
      "Detections(xyxy=array([[1.6000e-01, 1.6000e-01, 3.2016e+02, 3.2016e+02]], dtype=float32), mask=None, confidence=None, class_id=None, tracker_id=None, data={'class_name': array(['background'], dtype='<U10')}, metadata={})\n",
      "Detections(xyxy=array([[1.6000e-01, 1.6000e-01, 3.2016e+02, 3.2016e+02]], dtype=float32), mask=None, confidence=None, class_id=None, tracker_id=None, data={'class_name': array(['background'], dtype='<U10')}, metadata={})\n",
      "Detections(xyxy=array([[1.6000e-01, 1.6000e-01, 3.2016e+02, 3.2016e+02]], dtype=float32), mask=None, confidence=None, class_id=None, tracker_id=None, data={'class_name': array(['background'], dtype='<U10')}, metadata={})\n"
     ]
    },
    {
     "name": "stderr",
     "output_type": "stream",
     "text": [
      " 31%|███       | 50/163 [00:39<02:12,  1.17s/it]"
     ]
    },
    {
     "name": "stdout",
     "output_type": "stream",
     "text": [
      "{'<OD>': {'bboxes': [[0.1599999964237213, 0.1599999964237213, 319.5199890136719, 319.5199890136719]], 'labels': ['building']}}\n",
      "{'<OD>': {'bboxes': [], 'labels': []}}\n",
      "{'<OD>': {'bboxes': [[0.1599999964237213, 0.1599999964237213, 319.5199890136719, 319.5199890136719]], 'labels': ['building']}}\n",
      "{'<OD>': {'bboxes': [[0.1599999964237213, 0.1599999964237213, 319.5199890136719, 319.5199890136719]], 'labels': ['building']}}\n",
      "Detections(xyxy=array([[136.16    , 189.28    , 163.04    , 215.2     ],\n",
      "       [ 19.039999, 132.      ,  50.079998, 163.04    ]], dtype=float32), mask=None, confidence=None, class_id=None, tracker_id=None, data={'class_name': array(['brick kilns with chimney', 'brick kilns with chimney'],\n",
      "      dtype='<U24')}, metadata={})\n",
      "Detections(xyxy=array([[1.6000e-01, 1.6000e-01, 3.2016e+02, 3.2016e+02]], dtype=float32), mask=None, confidence=None, class_id=None, tracker_id=None, data={'class_name': array(['background'], dtype='<U10')}, metadata={})\n",
      "Detections(xyxy=array([[1.6000e-01, 1.6000e-01, 3.2016e+02, 3.2016e+02]], dtype=float32), mask=None, confidence=None, class_id=None, tracker_id=None, data={'class_name': array(['background'], dtype='<U10')}, metadata={})\n",
      "Detections(xyxy=array([[1.6000e-01, 1.6000e-01, 3.2016e+02, 3.2016e+02]], dtype=float32), mask=None, confidence=None, class_id=None, tracker_id=None, data={'class_name': array(['background'], dtype='<U10')}, metadata={})\n"
     ]
    },
    {
     "name": "stderr",
     "output_type": "stream",
     "text": [
      " 31%|███▏      | 51/163 [00:40<02:00,  1.08s/it]"
     ]
    },
    {
     "name": "stdout",
     "output_type": "stream",
     "text": [
      "{'<OD>': {'bboxes': [], 'labels': []}}\n",
      "{'<OD>': {'bboxes': [], 'labels': []}}\n",
      "{'<OD>': {'bboxes': [], 'labels': []}}\n",
      "{'<OD>': {'bboxes': [], 'labels': []}}\n",
      "Detections(xyxy=array([[1.6000e-01, 1.6000e-01, 3.2016e+02, 3.2016e+02]], dtype=float32), mask=None, confidence=None, class_id=None, tracker_id=None, data={'class_name': array(['background'], dtype='<U10')}, metadata={})\n",
      "Detections(xyxy=array([[1.6000e-01, 1.6000e-01, 3.2016e+02, 3.2016e+02]], dtype=float32), mask=None, confidence=None, class_id=None, tracker_id=None, data={'class_name': array(['background'], dtype='<U10')}, metadata={})\n",
      "Detections(xyxy=array([[1.6000e-01, 1.6000e-01, 3.2016e+02, 3.2016e+02]], dtype=float32), mask=None, confidence=None, class_id=None, tracker_id=None, data={'class_name': array(['background'], dtype='<U10')}, metadata={})\n",
      "Detections(xyxy=array([[ 59.039997, 171.04    ,  83.04    , 195.04    ],\n",
      "       [155.04    , 166.23999 , 188.31999 , 195.04    ],\n",
      "       [172.31999 , 149.28    , 196.      , 172.31999 ],\n",
      "       [ 88.159996, 140.31999 , 116.      , 167.2     ],\n",
      "       [129.12    ,  74.08    , 139.04    , 104.159996],\n",
      "       [270.24    ,  70.24    , 294.24    ,  86.24    ]], dtype=float32), mask=None, confidence=None, class_id=None, tracker_id=None, data={'class_name': array(['brick kilns with chimney', 'brick kilns with chimney',\n",
      "       'brick kilns with chimney', 'brick kilns with chimney',\n",
      "       'brick kilns with chimney', 'brick kilns with chimney'],\n",
      "      dtype='<U24')}, metadata={})\n"
     ]
    },
    {
     "name": "stderr",
     "output_type": "stream",
     "text": [
      " 32%|███▏      | 52/163 [00:41<02:07,  1.15s/it]"
     ]
    },
    {
     "name": "stdout",
     "output_type": "stream",
     "text": [
      "{'<OD>': {'bboxes': [[0.1599999964237213, 0.1599999964237213, 319.5199890136719, 319.5199890136719]], 'labels': ['building']}}\n",
      "{'<OD>': {'bboxes': [[0.1599999964237213, 0.1599999964237213, 319.5199890136719, 319.5199890136719]], 'labels': ['building']}}\n",
      "{'<OD>': {'bboxes': [[0.1599999964237213, 0.1599999964237213, 319.5199890136719, 319.5199890136719]], 'labels': ['building']}}\n",
      "{'<OD>': {'bboxes': [], 'labels': []}}\n",
      "Detections(xyxy=array([[1.6000e-01, 1.6000e-01, 3.2016e+02, 3.2016e+02]], dtype=float32), mask=None, confidence=None, class_id=None, tracker_id=None, data={'class_name': array(['background'], dtype='<U10')}, metadata={})\n",
      "Detections(xyxy=array([[1.6000e-01, 1.6000e-01, 3.2016e+02, 3.2016e+02]], dtype=float32), mask=None, confidence=None, class_id=None, tracker_id=None, data={'class_name': array(['background'], dtype='<U10')}, metadata={})\n",
      "Detections(xyxy=array([[1.6000e-01, 1.6000e-01, 3.2016e+02, 3.2016e+02]], dtype=float32), mask=None, confidence=None, class_id=None, tracker_id=None, data={'class_name': array(['background'], dtype='<U10')}, metadata={})\n",
      "Detections(xyxy=array([[1.6000e-01, 1.6000e-01, 3.2016e+02, 3.2016e+02]], dtype=float32), mask=None, confidence=None, class_id=None, tracker_id=None, data={'class_name': array(['background'], dtype='<U10')}, metadata={})\n"
     ]
    },
    {
     "name": "stderr",
     "output_type": "stream",
     "text": [
      " 33%|███▎      | 53/163 [00:42<01:57,  1.07s/it]"
     ]
    },
    {
     "name": "stdout",
     "output_type": "stream",
     "text": [
      "{'<OD>': {'bboxes': [], 'labels': []}}\n",
      "{'<OD>': {'bboxes': [], 'labels': []}}\n",
      "{'<OD>': {'bboxes': [], 'labels': []}}\n",
      "{'<OD>': {'bboxes': [], 'labels': []}}\n",
      "Detections(xyxy=array([[1.6000e-01, 1.6000e-01, 3.2016e+02, 3.2016e+02]], dtype=float32), mask=None, confidence=None, class_id=None, tracker_id=None, data={'class_name': array(['background'], dtype='<U10')}, metadata={})\n",
      "Detections(xyxy=array([[1.6000e-01, 1.6000e-01, 3.2016e+02, 3.2016e+02]], dtype=float32), mask=None, confidence=None, class_id=None, tracker_id=None, data={'class_name': array(['background'], dtype='<U10')}, metadata={})\n",
      "Detections(xyxy=array([[1.6000e-01, 1.6000e-01, 3.2016e+02, 3.2016e+02]], dtype=float32), mask=None, confidence=None, class_id=None, tracker_id=None, data={'class_name': array(['background'], dtype='<U10')}, metadata={})\n",
      "Detections(xyxy=array([[1.6000e-01, 1.6000e-01, 3.2016e+02, 3.2016e+02]], dtype=float32), mask=None, confidence=None, class_id=None, tracker_id=None, data={'class_name': array(['background'], dtype='<U10')}, metadata={})\n"
     ]
    },
    {
     "name": "stderr",
     "output_type": "stream",
     "text": [
      " 33%|███▎      | 54/163 [00:43<01:47,  1.01it/s]"
     ]
    },
    {
     "name": "stdout",
     "output_type": "stream",
     "text": [
      "{'<OD>': {'bboxes': [], 'labels': []}}\n",
      "{'<OD>': {'bboxes': [], 'labels': []}}\n",
      "{'<OD>': {'bboxes': [[0.1599999964237213, 0.1599999964237213, 319.5199890136719, 319.5199890136719]], 'labels': ['building']}}\n",
      "{'<OD>': {'bboxes': [[4.319999694824219, 240.79998779296875, 30.8799991607666, 265.1199951171875]], 'labels': ['brick kilns with chimney']}}\n",
      "Detections(xyxy=array([[1.6000e-01, 1.6000e-01, 3.2016e+02, 3.2016e+02]], dtype=float32), mask=None, confidence=None, class_id=None, tracker_id=None, data={'class_name': array(['background'], dtype='<U10')}, metadata={})\n",
      "Detections(xyxy=array([[251.04   , 194.08   , 281.12   , 224.15999],\n",
      "       [ 78.24   , 134.23999, 101.28   , 150.23999]], dtype=float32), mask=None, confidence=None, class_id=None, tracker_id=None, data={'class_name': array(['brick kilns with chimney', 'brick kilns with chimney'],\n",
      "      dtype='<U24')}, metadata={})\n",
      "Detections(xyxy=array([[1.6000e-01, 1.6000e-01, 3.2016e+02, 3.2016e+02]], dtype=float32), mask=None, confidence=None, class_id=None, tracker_id=None, data={'class_name': array(['background'], dtype='<U10')}, metadata={})\n",
      "Detections(xyxy=array([[1.6000e-01, 1.6000e-01, 3.2016e+02, 3.2016e+02]], dtype=float32), mask=None, confidence=None, class_id=None, tracker_id=None, data={'class_name': array(['background'], dtype='<U10')}, metadata={})\n"
     ]
    },
    {
     "name": "stderr",
     "output_type": "stream",
     "text": [
      " 34%|███▎      | 55/163 [00:44<01:44,  1.04it/s]"
     ]
    },
    {
     "name": "stdout",
     "output_type": "stream",
     "text": [
      "{'<OD>': {'bboxes': [[0.1599999964237213, 0.1599999964237213, 319.5199890136719, 319.5199890136719]], 'labels': ['building']}}\n",
      "{'<OD>': {'bboxes': [[0.1599999964237213, 0.1599999964237213, 319.5199890136719, 319.5199890136719]], 'labels': ['building']}}\n",
      "{'<OD>': {'bboxes': [[0.1599999964237213, 0.1599999964237213, 319.5199890136719, 319.5199890136719]], 'labels': ['castle']}}\n",
      "{'<OD>': {'bboxes': [[0.1599999964237213, 0.1599999964237213, 319.5199890136719, 319.5199890136719]], 'labels': ['building']}}\n",
      "Detections(xyxy=array([[1.6000e-01, 1.6000e-01, 3.2016e+02, 3.2016e+02]], dtype=float32), mask=None, confidence=None, class_id=None, tracker_id=None, data={'class_name': array(['background'], dtype='<U10')}, metadata={})\n",
      "Detections(xyxy=array([[1.6000e-01, 1.6000e-01, 3.2016e+02, 3.2016e+02]], dtype=float32), mask=None, confidence=None, class_id=None, tracker_id=None, data={'class_name': array(['background'], dtype='<U10')}, metadata={})\n",
      "Detections(xyxy=array([[1.6000e-01, 1.6000e-01, 3.2016e+02, 3.2016e+02]], dtype=float32), mask=None, confidence=None, class_id=None, tracker_id=None, data={'class_name': array(['background'], dtype='<U10')}, metadata={})\n",
      "Detections(xyxy=array([[1.6000e-01, 1.6000e-01, 3.2016e+02, 3.2016e+02]], dtype=float32), mask=None, confidence=None, class_id=None, tracker_id=None, data={'class_name': array(['background'], dtype='<U10')}, metadata={})\n"
     ]
    },
    {
     "name": "stderr",
     "output_type": "stream",
     "text": [
      " 34%|███▍      | 56/163 [00:45<01:43,  1.04it/s]"
     ]
    },
    {
     "name": "stdout",
     "output_type": "stream",
     "text": [
      "{'<OD>': {'bboxes': [], 'labels': []}}\n",
      "{'<OD>': {'bboxes': [], 'labels': []}}\n",
      "{'<OD>': {'bboxes': [], 'labels': []}}\n",
      "{'<OD>': {'bboxes': [], 'labels': []}}\n",
      "Detections(xyxy=array([[1.6000e-01, 1.6000e-01, 3.2016e+02, 3.2016e+02]], dtype=float32), mask=None, confidence=None, class_id=None, tracker_id=None, data={'class_name': array(['background'], dtype='<U10')}, metadata={})\n",
      "Detections(xyxy=array([[1.6000e-01, 1.6000e-01, 3.2016e+02, 3.2016e+02]], dtype=float32), mask=None, confidence=None, class_id=None, tracker_id=None, data={'class_name': array(['background'], dtype='<U10')}, metadata={})\n",
      "Detections(xyxy=array([[1.6000e-01, 1.6000e-01, 3.2016e+02, 3.2016e+02]], dtype=float32), mask=None, confidence=None, class_id=None, tracker_id=None, data={'class_name': array(['background'], dtype='<U10')}, metadata={})\n",
      "Detections(xyxy=array([[1.6000e-01, 1.6000e-01, 3.2016e+02, 3.2016e+02]], dtype=float32), mask=None, confidence=None, class_id=None, tracker_id=None, data={'class_name': array(['background'], dtype='<U10')}, metadata={})\n"
     ]
    },
    {
     "name": "stderr",
     "output_type": "stream",
     "text": [
      " 35%|███▍      | 57/163 [00:46<01:43,  1.02it/s]"
     ]
    },
    {
     "name": "stdout",
     "output_type": "stream",
     "text": [
      "{'<OD>': {'bboxes': [], 'labels': []}}\n",
      "{'<OD>': {'bboxes': [], 'labels': []}}\n",
      "{'<OD>': {'bboxes': [[0.1599999964237213, 196.3199920654297, 27.03999900817871, 226.39999389648438]], 'labels': ['brick kilns with chimney']}}\n",
      "{'<OD>': {'bboxes': [], 'labels': []}}\n",
      "Detections(xyxy=array([[265.12    , 112.159996, 295.19998 , 138.08    ]], dtype=float32), mask=None, confidence=None, class_id=None, tracker_id=None, data={'class_name': array(['brick kilns with chimney'], dtype='<U24')}, metadata={})\n",
      "Detections(xyxy=array([[1.6000e-01, 1.6000e-01, 3.2016e+02, 3.2016e+02]], dtype=float32), mask=None, confidence=None, class_id=None, tracker_id=None, data={'class_name': array(['background'], dtype='<U10')}, metadata={})\n",
      "Detections(xyxy=array([[1.6000e-01, 1.6000e-01, 3.2016e+02, 3.2016e+02]], dtype=float32), mask=None, confidence=None, class_id=None, tracker_id=None, data={'class_name': array(['background'], dtype='<U10')}, metadata={})\n",
      "Detections(xyxy=array([[1.6000e-01, 1.6000e-01, 3.2016e+02, 3.2016e+02]], dtype=float32), mask=None, confidence=None, class_id=None, tracker_id=None, data={'class_name': array(['background'], dtype='<U10')}, metadata={})\n"
     ]
    },
    {
     "name": "stderr",
     "output_type": "stream",
     "text": [
      " 36%|███▌      | 58/163 [00:47<01:39,  1.05it/s]"
     ]
    },
    {
     "name": "stdout",
     "output_type": "stream",
     "text": [
      "{'<OD>': {'bboxes': [[0.1599999964237213, 0.1599999964237213, 319.5199890136719, 319.5199890136719]], 'labels': ['building']}}\n",
      "{'<OD>': {'bboxes': [[63.19999694824219, 172.0, 76.63999938964844, 192.8000030517578]], 'labels': ['brick kilns with chimney']}}\n",
      "{'<OD>': {'bboxes': [], 'labels': []}}\n",
      "{'<OD>': {'bboxes': [[0.1599999964237213, 0.1599999964237213, 319.5199890136719, 319.5199890136719]], 'labels': ['building']}}\n",
      "Detections(xyxy=array([[1.6000e-01, 1.6000e-01, 3.2016e+02, 3.2016e+02]], dtype=float32), mask=None, confidence=None, class_id=None, tracker_id=None, data={'class_name': array(['background'], dtype='<U10')}, metadata={})\n",
      "Detections(xyxy=array([[1.6000e-01, 1.6000e-01, 3.2016e+02, 3.2016e+02]], dtype=float32), mask=None, confidence=None, class_id=None, tracker_id=None, data={'class_name': array(['background'], dtype='<U10')}, metadata={})\n",
      "Detections(xyxy=array([[1.6000e-01, 1.6000e-01, 3.2016e+02, 3.2016e+02]], dtype=float32), mask=None, confidence=None, class_id=None, tracker_id=None, data={'class_name': array(['background'], dtype='<U10')}, metadata={})\n",
      "Detections(xyxy=array([[1.6000e-01, 1.6000e-01, 3.2016e+02, 3.2016e+02]], dtype=float32), mask=None, confidence=None, class_id=None, tracker_id=None, data={'class_name': array(['background'], dtype='<U10')}, metadata={})\n"
     ]
    },
    {
     "name": "stderr",
     "output_type": "stream",
     "text": [
      " 36%|███▌      | 59/163 [00:48<01:40,  1.03it/s]"
     ]
    },
    {
     "name": "stdout",
     "output_type": "stream",
     "text": [
      "{'<OD>': {'bboxes': [], 'labels': []}}\n",
      "{'<OD>': {'bboxes': [[0.1599999964237213, 0.1599999964237213, 319.5199890136719, 319.5199890136719]], 'labels': ['building']}}\n",
      "{'<OD>': {'bboxes': [[0.1599999964237213, 0.1599999964237213, 319.5199890136719, 319.5199890136719]], 'labels': ['building']}}\n",
      "{'<OD>': {'bboxes': [], 'labels': []}}\n",
      "Detections(xyxy=array([[1.6000e-01, 1.6000e-01, 3.2016e+02, 3.2016e+02]], dtype=float32), mask=None, confidence=None, class_id=None, tracker_id=None, data={'class_name': array(['background'], dtype='<U10')}, metadata={})\n",
      "Detections(xyxy=array([[1.6000e-01, 1.6000e-01, 3.2016e+02, 3.2016e+02]], dtype=float32), mask=None, confidence=None, class_id=None, tracker_id=None, data={'class_name': array(['background'], dtype='<U10')}, metadata={})\n",
      "Detections(xyxy=array([[1.6000e-01, 1.6000e-01, 3.2016e+02, 3.2016e+02]], dtype=float32), mask=None, confidence=None, class_id=None, tracker_id=None, data={'class_name': array(['background'], dtype='<U10')}, metadata={})\n",
      "Detections(xyxy=array([[1.6000e-01, 1.6000e-01, 3.2016e+02, 3.2016e+02]], dtype=float32), mask=None, confidence=None, class_id=None, tracker_id=None, data={'class_name': array(['background'], dtype='<U10')}, metadata={})\n"
     ]
    },
    {
     "name": "stderr",
     "output_type": "stream",
     "text": [
      " 37%|███▋      | 60/163 [00:49<01:35,  1.08it/s]"
     ]
    },
    {
     "name": "stdout",
     "output_type": "stream",
     "text": [
      "{'<OD>': {'bboxes': [], 'labels': []}}\n",
      "{'<OD>': {'bboxes': [[0.1599999964237213, 0.1599999964237213, 319.5199890136719, 319.5199890136719]], 'labels': ['building']}}\n",
      "{'<OD>': {'bboxes': [], 'labels': []}}\n",
      "{'<OD>': {'bboxes': [[0.1599999964237213, 0.1599999964237213, 319.5199890136719, 319.5199890136719]], 'labels': ['brick kilns with chimney']}}\n",
      "Detections(xyxy=array([[1.6000e-01, 1.6000e-01, 3.2016e+02, 3.2016e+02]], dtype=float32), mask=None, confidence=None, class_id=None, tracker_id=None, data={'class_name': array(['background'], dtype='<U10')}, metadata={})\n",
      "Detections(xyxy=array([[129.12   , 127.2    , 152.16   , 150.23999]], dtype=float32), mask=None, confidence=None, class_id=None, tracker_id=None, data={'class_name': array(['brick kilns with chimney'], dtype='<U24')}, metadata={})\n",
      "Detections(xyxy=array([[1.6000e-01, 1.6000e-01, 3.2016e+02, 3.2016e+02]], dtype=float32), mask=None, confidence=None, class_id=None, tracker_id=None, data={'class_name': array(['background'], dtype='<U10')}, metadata={})\n",
      "Detections(xyxy=array([[1.6000e-01, 1.6000e-01, 3.2016e+02, 3.2016e+02]], dtype=float32), mask=None, confidence=None, class_id=None, tracker_id=None, data={'class_name': array(['background'], dtype='<U10')}, metadata={})\n"
     ]
    },
    {
     "name": "stderr",
     "output_type": "stream",
     "text": [
      " 37%|███▋      | 61/163 [00:49<01:32,  1.10it/s]"
     ]
    },
    {
     "name": "stdout",
     "output_type": "stream",
     "text": [
      "{'<OD>': {'bboxes': [[0.1599999964237213, 0.1599999964237213, 319.5199890136719, 319.5199890136719]], 'labels': ['maple']}}\n",
      "{'<OD>': {'bboxes': [], 'labels': []}}\n",
      "{'<OD>': {'bboxes': [[0.1599999964237213, 0.1599999964237213, 319.5199890136719, 319.5199890136719]], 'labels': ['building']}}\n",
      "{'<OD>': {'bboxes': [[0.1599999964237213, 0.1599999964237213, 319.5199890136719, 319.5199890136719]], 'labels': ['brick kiln']}}\n",
      "Detections(xyxy=array([[1.6000e-01, 1.6000e-01, 3.2016e+02, 3.2016e+02]], dtype=float32), mask=None, confidence=None, class_id=None, tracker_id=None, data={'class_name': array(['background'], dtype='<U10')}, metadata={})\n",
      "Detections(xyxy=array([[1.6000e-01, 1.6000e-01, 3.2016e+02, 3.2016e+02]], dtype=float32), mask=None, confidence=None, class_id=None, tracker_id=None, data={'class_name': array(['background'], dtype='<U10')}, metadata={})\n",
      "Detections(xyxy=array([[1.6000e-01, 1.6000e-01, 3.2016e+02, 3.2016e+02]], dtype=float32), mask=None, confidence=None, class_id=None, tracker_id=None, data={'class_name': array(['background'], dtype='<U10')}, metadata={})\n",
      "Detections(xyxy=array([[1.6000e-01, 1.6000e-01, 3.2016e+02, 3.2016e+02]], dtype=float32), mask=None, confidence=None, class_id=None, tracker_id=None, data={'class_name': array(['background'], dtype='<U10')}, metadata={})\n"
     ]
    },
    {
     "name": "stderr",
     "output_type": "stream",
     "text": [
      " 38%|███▊      | 62/163 [00:50<01:28,  1.15it/s]"
     ]
    },
    {
     "name": "stdout",
     "output_type": "stream",
     "text": [
      "{'<OD>': {'bboxes': [[0.1599999964237213, 0.1599999964237213, 319.5199890136719, 319.5199890136719]], 'labels': ['building']}}\n",
      "{'<OD>': {'bboxes': [[0.1599999964237213, 0.1599999964237213, 319.5199890136719, 319.5199890136719]], 'labels': ['building']}}\n",
      "{'<OD>': {'bboxes': [[0.1599999964237213, 0.1599999964237213, 319.5199890136719, 319.5199890136719]], 'labels': ['building']}}\n",
      "{'<OD>': {'bboxes': [], 'labels': []}}\n",
      "Detections(xyxy=array([[1.6000e-01, 1.6000e-01, 3.2016e+02, 3.2016e+02]], dtype=float32), mask=None, confidence=None, class_id=None, tracker_id=None, data={'class_name': array(['background'], dtype='<U10')}, metadata={})\n",
      "Detections(xyxy=array([[1.6000e-01, 1.6000e-01, 3.2016e+02, 3.2016e+02]], dtype=float32), mask=None, confidence=None, class_id=None, tracker_id=None, data={'class_name': array(['background'], dtype='<U10')}, metadata={})\n",
      "Detections(xyxy=array([[1.6000e-01, 1.6000e-01, 3.2016e+02, 3.2016e+02]], dtype=float32), mask=None, confidence=None, class_id=None, tracker_id=None, data={'class_name': array(['background'], dtype='<U10')}, metadata={})\n",
      "Detections(xyxy=array([[ 67.04   , 214.23999,  94.24   , 233.12   ],\n",
      "       [109.28   , 198.23999, 123.04   , 223.2    ]], dtype=float32), mask=None, confidence=None, class_id=None, tracker_id=None, data={'class_name': array(['brick kilns with chimney', 'brick kilns with chimney'],\n",
      "      dtype='<U24')}, metadata={})\n"
     ]
    },
    {
     "name": "stderr",
     "output_type": "stream",
     "text": [
      " 39%|███▊      | 63/163 [00:51<01:37,  1.02it/s]"
     ]
    },
    {
     "name": "stdout",
     "output_type": "stream",
     "text": [
      "{'<OD>': {'bboxes': [[0.1599999964237213, 0.1599999964237213, 319.5199890136719, 319.5199890136719]], 'labels': ['building']}}\n",
      "{'<OD>': {'bboxes': [], 'labels': []}}\n",
      "{'<OD>': {'bboxes': [], 'labels': []}}\n",
      "{'<OD>': {'bboxes': [[0.1599999964237213, 0.1599999964237213, 319.5199890136719, 319.5199890136719]], 'labels': ['building']}}\n",
      "Detections(xyxy=array([[1.6000e-01, 1.6000e-01, 3.2016e+02, 3.2016e+02]], dtype=float32), mask=None, confidence=None, class_id=None, tracker_id=None, data={'class_name': array(['background'], dtype='<U10')}, metadata={})\n",
      "Detections(xyxy=array([[1.6000e-01, 1.6000e-01, 3.2016e+02, 3.2016e+02]], dtype=float32), mask=None, confidence=None, class_id=None, tracker_id=None, data={'class_name': array(['background'], dtype='<U10')}, metadata={})\n",
      "Detections(xyxy=array([[1.6000e-01, 1.6000e-01, 3.2016e+02, 3.2016e+02]], dtype=float32), mask=None, confidence=None, class_id=None, tracker_id=None, data={'class_name': array(['background'], dtype='<U10')}, metadata={})\n",
      "Detections(xyxy=array([[1.6000e-01, 1.6000e-01, 3.2016e+02, 3.2016e+02]], dtype=float32), mask=None, confidence=None, class_id=None, tracker_id=None, data={'class_name': array(['background'], dtype='<U10')}, metadata={})\n"
     ]
    },
    {
     "name": "stderr",
     "output_type": "stream",
     "text": [
      " 39%|███▉      | 64/163 [00:52<01:34,  1.05it/s]"
     ]
    },
    {
     "name": "stdout",
     "output_type": "stream",
     "text": [
      "{'<OD>': {'bboxes': [], 'labels': []}}\n",
      "{'<OD>': {'bboxes': [[0.1599999964237213, 0.1599999964237213, 319.5199890136719, 319.5199890136719]], 'labels': ['brick kilns']}}\n",
      "{'<OD>': {'bboxes': [], 'labels': []}}\n",
      "{'<OD>': {'bboxes': [[0.1599999964237213, 0.1599999964237213, 319.5199890136719, 319.5199890136719]], 'labels': ['building']}}\n",
      "Detections(xyxy=array([[1.6000e-01, 1.6000e-01, 3.2016e+02, 3.2016e+02]], dtype=float32), mask=None, confidence=None, class_id=None, tracker_id=None, data={'class_name': array(['background'], dtype='<U10')}, metadata={})\n",
      "Detections(xyxy=array([[143.2     ,  79.2     , 169.12    ,  97.119995]], dtype=float32), mask=None, confidence=None, class_id=None, tracker_id=None, data={'class_name': array(['brick kilns with chimney'], dtype='<U24')}, metadata={})\n",
      "Detections(xyxy=array([[1.6000e-01, 1.6000e-01, 3.2016e+02, 3.2016e+02]], dtype=float32), mask=None, confidence=None, class_id=None, tracker_id=None, data={'class_name': array(['background'], dtype='<U10')}, metadata={})\n",
      "Detections(xyxy=array([[1.6000e-01, 1.6000e-01, 3.2016e+02, 3.2016e+02]], dtype=float32), mask=None, confidence=None, class_id=None, tracker_id=None, data={'class_name': array(['background'], dtype='<U10')}, metadata={})\n"
     ]
    },
    {
     "name": "stderr",
     "output_type": "stream",
     "text": [
      " 40%|███▉      | 65/163 [00:53<01:36,  1.01it/s]"
     ]
    },
    {
     "name": "stdout",
     "output_type": "stream",
     "text": [
      "{'<OD>': {'bboxes': [], 'labels': []}}\n",
      "{'<OD>': {'bboxes': [[0.1599999964237213, 0.1599999964237213, 319.5199890136719, 319.5199890136719]], 'labels': ['building']}}\n",
      "{'<OD>': {'bboxes': [[0.1599999964237213, 0.1599999964237213, 319.5199890136719, 319.5199890136719]], 'labels': ['building']}}\n",
      "{'<OD>': {'bboxes': [[0.1599999964237213, 0.1599999964237213, 319.5199890136719, 319.5199890136719]], 'labels': ['building']}}\n",
      "Detections(xyxy=array([[1.6000e-01, 1.6000e-01, 3.2016e+02, 3.2016e+02]], dtype=float32), mask=None, confidence=None, class_id=None, tracker_id=None, data={'class_name': array(['background'], dtype='<U10')}, metadata={})\n",
      "Detections(xyxy=array([[1.6000e-01, 1.6000e-01, 3.2016e+02, 3.2016e+02]], dtype=float32), mask=None, confidence=None, class_id=None, tracker_id=None, data={'class_name': array(['background'], dtype='<U10')}, metadata={})\n",
      "Detections(xyxy=array([[1.6000e-01, 1.6000e-01, 3.2016e+02, 3.2016e+02]], dtype=float32), mask=None, confidence=None, class_id=None, tracker_id=None, data={'class_name': array(['background'], dtype='<U10')}, metadata={})\n",
      "Detections(xyxy=array([[1.6000e-01, 1.6000e-01, 3.2016e+02, 3.2016e+02]], dtype=float32), mask=None, confidence=None, class_id=None, tracker_id=None, data={'class_name': array(['background'], dtype='<U10')}, metadata={})\n"
     ]
    },
    {
     "name": "stderr",
     "output_type": "stream",
     "text": [
      " 40%|████      | 66/163 [00:54<01:28,  1.09it/s]"
     ]
    },
    {
     "name": "stdout",
     "output_type": "stream",
     "text": [
      "{'<OD>': {'bboxes': [], 'labels': []}}\n",
      "{'<OD>': {'bboxes': [], 'labels': []}}\n",
      "{'<OD>': {'bboxes': [], 'labels': []}}\n",
      "{'<OD>': {'bboxes': [[0.1599999964237213, 0.1599999964237213, 319.5199890136719, 319.5199890136719]], 'labels': ['building']}}\n",
      "Detections(xyxy=array([[280.16, 237.28, 306.08, 258.08]], dtype=float32), mask=None, confidence=None, class_id=None, tracker_id=None, data={'class_name': array(['brick kilns with chimney'], dtype='<U24')}, metadata={})\n",
      "Detections(xyxy=array([[1.6000e-01, 1.6000e-01, 3.2016e+02, 3.2016e+02]], dtype=float32), mask=None, confidence=None, class_id=None, tracker_id=None, data={'class_name': array(['background'], dtype='<U10')}, metadata={})\n",
      "Detections(xyxy=array([[227.04    ,  38.239998, 246.23999 ,  67.04    ]], dtype=float32), mask=None, confidence=None, class_id=None, tracker_id=None, data={'class_name': array(['brick kilns with chimney'], dtype='<U24')}, metadata={})\n",
      "Detections(xyxy=array([[1.6000e-01, 1.6000e-01, 3.2016e+02, 3.2016e+02]], dtype=float32), mask=None, confidence=None, class_id=None, tracker_id=None, data={'class_name': array(['background'], dtype='<U10')}, metadata={})\n"
     ]
    },
    {
     "name": "stderr",
     "output_type": "stream",
     "text": [
      " 41%|████      | 67/163 [00:55<01:25,  1.12it/s]"
     ]
    },
    {
     "name": "stdout",
     "output_type": "stream",
     "text": [
      "{'<OD>': {'bboxes': [[0.1599999964237213, 0.1599999964237213, 319.5199890136719, 319.5199890136719]], 'labels': ['building']}}\n",
      "{'<OD>': {'bboxes': [[0.1599999964237213, 0.1599999964237213, 319.5199890136719, 319.5199890136719]], 'labels': ['building']}}\n",
      "{'<OD>': {'bboxes': [[71.19999694824219, 190.239990234375, 102.23999786376953, 213.27999877929688]], 'labels': ['brick kilns with chimney']}}\n",
      "{'<OD>': {'bboxes': [], 'labels': []}}\n",
      "Detections(xyxy=array([[1.6000e-01, 1.6000e-01, 3.2016e+02, 3.2016e+02]], dtype=float32), mask=None, confidence=None, class_id=None, tracker_id=None, data={'class_name': array(['background'], dtype='<U10')}, metadata={})\n",
      "Detections(xyxy=array([[1.6000e-01, 1.6000e-01, 3.2016e+02, 3.2016e+02]], dtype=float32), mask=None, confidence=None, class_id=None, tracker_id=None, data={'class_name': array(['background'], dtype='<U10')}, metadata={})\n",
      "Detections(xyxy=array([[109.28    , 243.04    , 136.16    , 270.24    ],\n",
      "       [ 72.159996, 186.08    , 103.2     , 211.04    ],\n",
      "       [236.31999 , 134.23999 , 269.28    , 164.      ]], dtype=float32), mask=None, confidence=None, class_id=None, tracker_id=None, data={'class_name': array(['brick kilns with chimney', 'brick kilns with chimney',\n",
      "       'brick kilns with chimney'], dtype='<U24')}, metadata={})\n",
      "Detections(xyxy=array([[1.6000e-01, 1.6000e-01, 3.2016e+02, 3.2016e+02]], dtype=float32), mask=None, confidence=None, class_id=None, tracker_id=None, data={'class_name': array(['background'], dtype='<U10')}, metadata={})\n"
     ]
    },
    {
     "name": "stderr",
     "output_type": "stream",
     "text": [
      " 42%|████▏     | 68/163 [00:56<01:24,  1.13it/s]"
     ]
    },
    {
     "name": "stdout",
     "output_type": "stream",
     "text": [
      "{'<OD>': {'bboxes': [], 'labels': []}}\n",
      "{'<OD>': {'bboxes': [[0.1599999964237213, 0.1599999964237213, 319.5199890136719, 319.5199890136719]], 'labels': ['brick kilns with chimney']}}\n",
      "{'<OD>': {'bboxes': [], 'labels': []}}\n",
      "{'<OD>': {'bboxes': [], 'labels': []}}\n",
      "Detections(xyxy=array([[1.6000e-01, 1.6000e-01, 3.2016e+02, 3.2016e+02]], dtype=float32), mask=None, confidence=None, class_id=None, tracker_id=None, data={'class_name': array(['background'], dtype='<U10')}, metadata={})\n",
      "Detections(xyxy=array([[1.6000e-01, 1.6000e-01, 3.2016e+02, 3.2016e+02]], dtype=float32), mask=None, confidence=None, class_id=None, tracker_id=None, data={'class_name': array(['background'], dtype='<U10')}, metadata={})\n",
      "Detections(xyxy=array([[1.6000e-01, 1.6000e-01, 3.2016e+02, 3.2016e+02]], dtype=float32), mask=None, confidence=None, class_id=None, tracker_id=None, data={'class_name': array(['background'], dtype='<U10')}, metadata={})\n",
      "Detections(xyxy=array([[ 89.119995, 158.23999 , 120.159996, 191.2     ]], dtype=float32), mask=None, confidence=None, class_id=None, tracker_id=None, data={'class_name': array(['brick kilns with chimney'], dtype='<U24')}, metadata={})\n"
     ]
    },
    {
     "name": "stderr",
     "output_type": "stream",
     "text": [
      " 42%|████▏     | 69/163 [00:57<01:23,  1.12it/s]"
     ]
    },
    {
     "name": "stdout",
     "output_type": "stream",
     "text": [
      "{'<OD>': {'bboxes': [], 'labels': []}}\n",
      "{'<OD>': {'bboxes': [], 'labels': []}}\n",
      "{'<OD>': {'bboxes': [], 'labels': []}}\n",
      "{'<OD>': {'bboxes': [], 'labels': []}}\n",
      "Detections(xyxy=array([[ 78.24   , 272.16   , 108.32   , 307.03998]], dtype=float32), mask=None, confidence=None, class_id=None, tracker_id=None, data={'class_name': array(['brick kilns with chimney'], dtype='<U24')}, metadata={})\n",
      "Detections(xyxy=array([[1.6000e-01, 1.6000e-01, 3.2016e+02, 3.2016e+02]], dtype=float32), mask=None, confidence=None, class_id=None, tracker_id=None, data={'class_name': array(['background'], dtype='<U10')}, metadata={})\n",
      "Detections(xyxy=array([[1.6000e-01, 1.6000e-01, 3.2016e+02, 3.2016e+02]], dtype=float32), mask=None, confidence=None, class_id=None, tracker_id=None, data={'class_name': array(['background'], dtype='<U10')}, metadata={})\n",
      "Detections(xyxy=array([[1.6000e-01, 1.6000e-01, 3.2016e+02, 3.2016e+02]], dtype=float32), mask=None, confidence=None, class_id=None, tracker_id=None, data={'class_name': array(['background'], dtype='<U10')}, metadata={})\n"
     ]
    },
    {
     "name": "stderr",
     "output_type": "stream",
     "text": [
      " 43%|████▎     | 70/163 [00:58<01:25,  1.08it/s]"
     ]
    },
    {
     "name": "stdout",
     "output_type": "stream",
     "text": [
      "{'<OD>': {'bboxes': [[12.319999694824219, 60.63999938964844, 32.47999954223633, 76.63999938964844]], 'labels': ['brick kilns with chimney']}}\n",
      "{'<OD>': {'bboxes': [[0.1599999964237213, 0.1599999964237213, 319.5199890136719, 319.5199890136719]], 'labels': ['building']}}\n",
      "{'<OD>': {'bboxes': [], 'labels': []}}\n",
      "{'<OD>': {'bboxes': [], 'labels': []}}\n",
      "Detections(xyxy=array([[1.6000e-01, 1.6000e-01, 3.2016e+02, 3.2016e+02]], dtype=float32), mask=None, confidence=None, class_id=None, tracker_id=None, data={'class_name': array(['background'], dtype='<U10')}, metadata={})\n",
      "Detections(xyxy=array([[1.6000e-01, 1.6000e-01, 3.2016e+02, 3.2016e+02]], dtype=float32), mask=None, confidence=None, class_id=None, tracker_id=None, data={'class_name': array(['background'], dtype='<U10')}, metadata={})\n",
      "Detections(xyxy=array([[1.6000e-01, 1.6000e-01, 3.2016e+02, 3.2016e+02]], dtype=float32), mask=None, confidence=None, class_id=None, tracker_id=None, data={'class_name': array(['background'], dtype='<U10')}, metadata={})\n",
      "Detections(xyxy=array([[ 85.28    , 148.      , 114.079994, 177.12    ]], dtype=float32), mask=None, confidence=None, class_id=None, tracker_id=None, data={'class_name': array(['brick kilns with chimney'], dtype='<U24')}, metadata={})\n"
     ]
    },
    {
     "name": "stderr",
     "output_type": "stream",
     "text": [
      " 44%|████▎     | 71/163 [00:58<01:13,  1.26it/s]"
     ]
    },
    {
     "name": "stdout",
     "output_type": "stream",
     "text": [
      "{'<OD>': {'bboxes': [], 'labels': []}}\n",
      "{'<OD>': {'bboxes': [[0.1599999964237213, 0.1599999964237213, 319.5199890136719, 319.5199890136719]], 'labels': ['building']}}\n",
      "{'<OD>': {'bboxes': [[0.1599999964237213, 0.1599999964237213, 319.5199890136719, 319.5199890136719]], 'labels': ['building']}}\n",
      "{'<OD>': {'bboxes': [[0.1599999964237213, 0.1599999964237213, 319.5199890136719, 319.5199890136719]], 'labels': ['building']}}\n",
      "Detections(xyxy=array([[1.6000e-01, 1.6000e-01, 3.2016e+02, 3.2016e+02]], dtype=float32), mask=None, confidence=None, class_id=None, tracker_id=None, data={'class_name': array(['background'], dtype='<U10')}, metadata={})\n",
      "Detections(xyxy=array([[1.6000e-01, 1.6000e-01, 3.2016e+02, 3.2016e+02]], dtype=float32), mask=None, confidence=None, class_id=None, tracker_id=None, data={'class_name': array(['background'], dtype='<U10')}, metadata={})\n",
      "Detections(xyxy=array([[1.6000e-01, 1.6000e-01, 3.2016e+02, 3.2016e+02]], dtype=float32), mask=None, confidence=None, class_id=None, tracker_id=None, data={'class_name': array(['background'], dtype='<U10')}, metadata={})\n",
      "Detections(xyxy=array([[1.6000e-01, 1.6000e-01, 3.2016e+02, 3.2016e+02]], dtype=float32), mask=None, confidence=None, class_id=None, tracker_id=None, data={'class_name': array(['background'], dtype='<U10')}, metadata={})\n"
     ]
    },
    {
     "name": "stderr",
     "output_type": "stream",
     "text": [
      " 44%|████▍     | 72/163 [00:59<01:17,  1.17it/s]"
     ]
    },
    {
     "name": "stdout",
     "output_type": "stream",
     "text": [
      "{'<OD>': {'bboxes': [[0.1599999964237213, 0.1599999964237213, 319.5199890136719, 319.5199890136719]], 'labels': ['castle']}}\n",
      "{'<OD>': {'bboxes': [[0.1599999964237213, 0.1599999964237213, 319.5199890136719, 319.5199890136719]], 'labels': ['building']}}\n",
      "{'<OD>': {'bboxes': [], 'labels': []}}\n",
      "{'<OD>': {'bboxes': [], 'labels': []}}\n",
      "Detections(xyxy=array([[1.6000e-01, 1.6000e-01, 3.2016e+02, 3.2016e+02]], dtype=float32), mask=None, confidence=None, class_id=None, tracker_id=None, data={'class_name': array(['background'], dtype='<U10')}, metadata={})\n",
      "Detections(xyxy=array([[1.6000e-01, 1.6000e-01, 3.2016e+02, 3.2016e+02]], dtype=float32), mask=None, confidence=None, class_id=None, tracker_id=None, data={'class_name': array(['background'], dtype='<U10')}, metadata={})\n",
      "Detections(xyxy=array([[1.6000e-01, 1.6000e-01, 3.2016e+02, 3.2016e+02]], dtype=float32), mask=None, confidence=None, class_id=None, tracker_id=None, data={'class_name': array(['background'], dtype='<U10')}, metadata={})\n",
      "Detections(xyxy=array([[1.6000e-01, 1.6000e-01, 3.2016e+02, 3.2016e+02]], dtype=float32), mask=None, confidence=None, class_id=None, tracker_id=None, data={'class_name': array(['background'], dtype='<U10')}, metadata={})\n"
     ]
    },
    {
     "name": "stderr",
     "output_type": "stream",
     "text": [
      " 45%|████▍     | 73/163 [01:00<01:19,  1.14it/s]"
     ]
    },
    {
     "name": "stdout",
     "output_type": "stream",
     "text": [
      "{'<OD>': {'bboxes': [], 'labels': []}}\n",
      "{'<OD>': {'bboxes': [[253.9199981689453, 162.72000122070312, 265.7599792480469, 184.1599884033203]], 'labels': ['brick kilns with chimney']}}\n",
      "{'<OD>': {'bboxes': [[0.1599999964237213, 0.1599999964237213, 319.5199890136719, 319.5199890136719]], 'labels': ['building']}}\n",
      "{'<OD>': {'bboxes': [], 'labels': []}}\n",
      "Detections(xyxy=array([[1.6000e-01, 1.6000e-01, 3.2016e+02, 3.2016e+02]], dtype=float32), mask=None, confidence=None, class_id=None, tracker_id=None, data={'class_name': array(['background'], dtype='<U10')}, metadata={})\n",
      "Detections(xyxy=array([[1.6000e-01, 1.6000e-01, 3.2016e+02, 3.2016e+02]], dtype=float32), mask=None, confidence=None, class_id=None, tracker_id=None, data={'class_name': array(['background'], dtype='<U10')}, metadata={})\n",
      "Detections(xyxy=array([[1.6000e-01, 1.6000e-01, 3.2016e+02, 3.2016e+02]], dtype=float32), mask=None, confidence=None, class_id=None, tracker_id=None, data={'class_name': array(['background'], dtype='<U10')}, metadata={})\n",
      "Detections(xyxy=array([[ 50.079998, 237.28    ,  74.08    , 258.08    ]], dtype=float32), mask=None, confidence=None, class_id=None, tracker_id=None, data={'class_name': array(['brick kilns with chimney'], dtype='<U24')}, metadata={})\n"
     ]
    },
    {
     "name": "stderr",
     "output_type": "stream",
     "text": [
      " 45%|████▌     | 74/163 [01:01<01:18,  1.14it/s]"
     ]
    },
    {
     "name": "stdout",
     "output_type": "stream",
     "text": [
      "{'<OD>': {'bboxes': [[191.83999633789062, 91.04000091552734, 225.75999450683594, 127.19999694824219]], 'labels': ['brick kilns with chimney']}}\n",
      "{'<OD>': {'bboxes': [[0.1599999964237213, 0.1599999964237213, 319.5199890136719, 319.5199890136719]], 'labels': ['building']}}\n",
      "{'<OD>': {'bboxes': [[0.1599999964237213, 0.1599999964237213, 319.5199890136719, 319.5199890136719]], 'labels': ['building']}}\n",
      "{'<OD>': {'bboxes': [[0.1599999964237213, 0.1599999964237213, 319.5199890136719, 319.5199890136719]], 'labels': ['building']}}\n",
      "Detections(xyxy=array([[1.6000e-01, 1.6000e-01, 3.2016e+02, 3.2016e+02]], dtype=float32), mask=None, confidence=None, class_id=None, tracker_id=None, data={'class_name': array(['background'], dtype='<U10')}, metadata={})\n",
      "Detections(xyxy=array([[1.6000e-01, 1.6000e-01, 3.2016e+02, 3.2016e+02]], dtype=float32), mask=None, confidence=None, class_id=None, tracker_id=None, data={'class_name': array(['background'], dtype='<U10')}, metadata={})\n",
      "Detections(xyxy=array([[1.6000e-01, 1.6000e-01, 3.2016e+02, 3.2016e+02]], dtype=float32), mask=None, confidence=None, class_id=None, tracker_id=None, data={'class_name': array(['background'], dtype='<U10')}, metadata={})\n",
      "Detections(xyxy=array([[1.6000e-01, 1.6000e-01, 3.2016e+02, 3.2016e+02]], dtype=float32), mask=None, confidence=None, class_id=None, tracker_id=None, data={'class_name': array(['background'], dtype='<U10')}, metadata={})\n"
     ]
    },
    {
     "name": "stderr",
     "output_type": "stream",
     "text": [
      " 46%|████▌     | 75/163 [01:02<01:12,  1.22it/s]"
     ]
    },
    {
     "name": "stdout",
     "output_type": "stream",
     "text": [
      "{'<OD>': {'bboxes': [[0.1599999964237213, 0.1599999964237213, 319.5199890136719, 319.5199890136719]], 'labels': ['castle']}}\n",
      "{'<OD>': {'bboxes': [[0.1599999964237213, 0.1599999964237213, 319.5199890136719, 319.5199890136719]], 'labels': ['building']}}\n",
      "{'<OD>': {'bboxes': [], 'labels': []}}\n",
      "{'<OD>': {'bboxes': [], 'labels': []}}\n",
      "Detections(xyxy=array([[1.6000e-01, 1.6000e-01, 3.2016e+02, 3.2016e+02]], dtype=float32), mask=None, confidence=None, class_id=None, tracker_id=None, data={'class_name': array(['background'], dtype='<U10')}, metadata={})\n",
      "Detections(xyxy=array([[1.6000e-01, 1.6000e-01, 3.2016e+02, 3.2016e+02]], dtype=float32), mask=None, confidence=None, class_id=None, tracker_id=None, data={'class_name': array(['background'], dtype='<U10')}, metadata={})\n",
      "Detections(xyxy=array([[1.6000e-01, 1.6000e-01, 3.2016e+02, 3.2016e+02]], dtype=float32), mask=None, confidence=None, class_id=None, tracker_id=None, data={'class_name': array(['background'], dtype='<U10')}, metadata={})\n",
      "Detections(xyxy=array([[1.6000e-01, 1.6000e-01, 3.2016e+02, 3.2016e+02]], dtype=float32), mask=None, confidence=None, class_id=None, tracker_id=None, data={'class_name': array(['background'], dtype='<U10')}, metadata={})\n"
     ]
    },
    {
     "name": "stderr",
     "output_type": "stream",
     "text": [
      " 47%|████▋     | 76/163 [01:02<01:07,  1.28it/s]"
     ]
    },
    {
     "name": "stdout",
     "output_type": "stream",
     "text": [
      "{'<OD>': {'bboxes': [], 'labels': []}}\n",
      "{'<OD>': {'bboxes': [], 'labels': []}}\n",
      "{'<OD>': {'bboxes': [], 'labels': []}}\n",
      "{'<OD>': {'bboxes': [], 'labels': []}}\n",
      "Detections(xyxy=array([[1.6000e-01, 1.6000e-01, 3.2016e+02, 3.2016e+02]], dtype=float32), mask=None, confidence=None, class_id=None, tracker_id=None, data={'class_name': array(['background'], dtype='<U10')}, metadata={})\n",
      "Detections(xyxy=array([[1.6000e-01, 1.6000e-01, 3.2016e+02, 3.2016e+02]], dtype=float32), mask=None, confidence=None, class_id=None, tracker_id=None, data={'class_name': array(['background'], dtype='<U10')}, metadata={})\n",
      "Detections(xyxy=array([[1.6000e-01, 1.6000e-01, 3.2016e+02, 3.2016e+02]], dtype=float32), mask=None, confidence=None, class_id=None, tracker_id=None, data={'class_name': array(['background'], dtype='<U10')}, metadata={})\n",
      "Detections(xyxy=array([[1.6000e-01, 1.6000e-01, 3.2016e+02, 3.2016e+02]], dtype=float32), mask=None, confidence=None, class_id=None, tracker_id=None, data={'class_name': array(['background'], dtype='<U10')}, metadata={})\n"
     ]
    },
    {
     "name": "stderr",
     "output_type": "stream",
     "text": [
      " 47%|████▋     | 77/163 [01:03<01:03,  1.35it/s]"
     ]
    },
    {
     "name": "stdout",
     "output_type": "stream",
     "text": [
      "{'<OD>': {'bboxes': [], 'labels': []}}\n",
      "{'<OD>': {'bboxes': [], 'labels': []}}\n",
      "{'<OD>': {'bboxes': [[0.1599999964237213, 162.39999389648438, 9.760000228881836, 184.1599884033203]], 'labels': ['brick kilns with chimney']}}\n",
      "{'<OD>': {'bboxes': [[0.1599999964237213, 293.2799987792969, 6.559999942779541, 300.0]], 'labels': ['brick kilns with chimney']}}\n",
      "Detections(xyxy=array([[1.6000e-01, 1.6000e-01, 3.2016e+02, 3.2016e+02]], dtype=float32), mask=None, confidence=None, class_id=None, tracker_id=None, data={'class_name': array(['background'], dtype='<U10')}, metadata={})\n",
      "Detections(xyxy=array([[1.6000e-01, 1.6000e-01, 3.2016e+02, 3.2016e+02]], dtype=float32), mask=None, confidence=None, class_id=None, tracker_id=None, data={'class_name': array(['background'], dtype='<U10')}, metadata={})\n",
      "Detections(xyxy=array([[1.6000e-01, 1.6000e-01, 3.2016e+02, 3.2016e+02]], dtype=float32), mask=None, confidence=None, class_id=None, tracker_id=None, data={'class_name': array(['background'], dtype='<U10')}, metadata={})\n",
      "Detections(xyxy=array([[207.2     ,  58.079998, 231.2     ,  86.24    ]], dtype=float32), mask=None, confidence=None, class_id=None, tracker_id=None, data={'class_name': array(['brick kilns with chimney'], dtype='<U24')}, metadata={})\n"
     ]
    },
    {
     "name": "stderr",
     "output_type": "stream",
     "text": [
      " 48%|████▊     | 78/163 [01:04<01:05,  1.29it/s]"
     ]
    },
    {
     "name": "stdout",
     "output_type": "stream",
     "text": [
      "{'<OD>': {'bboxes': [[0.1599999964237213, 0.1599999964237213, 319.5199890136719, 319.5199890136719]], 'labels': ['building']}}\n",
      "{'<OD>': {'bboxes': [[0.1599999964237213, 0.1599999964237213, 319.5199890136719, 319.5199890136719]], 'labels': ['building']}}\n",
      "{'<OD>': {'bboxes': [[0.1599999964237213, 0.1599999964237213, 319.5199890136719, 319.5199890136719]], 'labels': ['building']}}\n",
      "{'<OD>': {'bboxes': [[0.1599999964237213, 0.1599999964237213, 319.5199890136719, 319.5199890136719]], 'labels': ['building']}}\n",
      "Detections(xyxy=array([[238.23999 , 276.      , 263.19998 , 300.32    ],\n",
      "       [ 56.16    ,  12.32    ,  73.119995,  36.      ]], dtype=float32), mask=None, confidence=None, class_id=None, tracker_id=None, data={'class_name': array(['brick kilns with chimney', 'brick kilns with chimney'],\n",
      "      dtype='<U24')}, metadata={})\n",
      "Detections(xyxy=array([[1.6000e-01, 1.6000e-01, 3.2016e+02, 3.2016e+02]], dtype=float32), mask=None, confidence=None, class_id=None, tracker_id=None, data={'class_name': array(['background'], dtype='<U10')}, metadata={})\n",
      "Detections(xyxy=array([[1.6000e-01, 1.6000e-01, 3.2016e+02, 3.2016e+02]], dtype=float32), mask=None, confidence=None, class_id=None, tracker_id=None, data={'class_name': array(['background'], dtype='<U10')}, metadata={})\n",
      "Detections(xyxy=array([[1.6000e-01, 1.6000e-01, 3.2016e+02, 3.2016e+02]], dtype=float32), mask=None, confidence=None, class_id=None, tracker_id=None, data={'class_name': array(['background'], dtype='<U10')}, metadata={})\n"
     ]
    },
    {
     "name": "stderr",
     "output_type": "stream",
     "text": [
      " 48%|████▊     | 79/163 [01:05<01:04,  1.30it/s]"
     ]
    },
    {
     "name": "stdout",
     "output_type": "stream",
     "text": [
      "{'<OD>': {'bboxes': [], 'labels': []}}\n",
      "{'<OD>': {'bboxes': [[0.1599999964237213, 0.1599999964237213, 319.5199890136719, 319.5199890136719]], 'labels': ['building']}}\n",
      "{'<OD>': {'bboxes': [[0.1599999964237213, 0.1599999964237213, 319.5199890136719, 319.5199890136719]], 'labels': ['building']}}\n",
      "{'<OD>': {'bboxes': [], 'labels': []}}\n",
      "Detections(xyxy=array([[1.6000e-01, 1.6000e-01, 3.2016e+02, 3.2016e+02]], dtype=float32), mask=None, confidence=None, class_id=None, tracker_id=None, data={'class_name': array(['background'], dtype='<U10')}, metadata={})\n",
      "Detections(xyxy=array([[1.6000e-01, 1.6000e-01, 3.2016e+02, 3.2016e+02]], dtype=float32), mask=None, confidence=None, class_id=None, tracker_id=None, data={'class_name': array(['background'], dtype='<U10')}, metadata={})\n",
      "Detections(xyxy=array([[1.6000e-01, 1.6000e-01, 3.2016e+02, 3.2016e+02]], dtype=float32), mask=None, confidence=None, class_id=None, tracker_id=None, data={'class_name': array(['background'], dtype='<U10')}, metadata={})\n",
      "Detections(xyxy=array([[1.6000e-01, 1.6000e-01, 3.2016e+02, 3.2016e+02]], dtype=float32), mask=None, confidence=None, class_id=None, tracker_id=None, data={'class_name': array(['background'], dtype='<U10')}, metadata={})\n"
     ]
    },
    {
     "name": "stderr",
     "output_type": "stream",
     "text": [
      " 49%|████▉     | 80/163 [01:05<01:01,  1.35it/s]"
     ]
    },
    {
     "name": "stdout",
     "output_type": "stream",
     "text": [
      "{'<OD>': {'bboxes': [], 'labels': []}}\n",
      "{'<OD>': {'bboxes': [[0.1599999964237213, 0.1599999964237213, 319.5199890136719, 319.5199890136719]], 'labels': ['brick kilns with chimney']}}\n",
      "{'<OD>': {'bboxes': [], 'labels': []}}\n",
      "{'<OD>': {'bboxes': [[284.32000732421875, 119.19999694824219, 312.1600036621094, 142.239990234375]], 'labels': ['brick kilns with chimney']}}\n",
      "Detections(xyxy=array([[1.6000e-01, 1.6000e-01, 3.2016e+02, 3.2016e+02]], dtype=float32), mask=None, confidence=None, class_id=None, tracker_id=None, data={'class_name': array(['background'], dtype='<U10')}, metadata={})\n",
      "Detections(xyxy=array([[1.6000e-01, 1.6000e-01, 3.2016e+02, 3.2016e+02]], dtype=float32), mask=None, confidence=None, class_id=None, tracker_id=None, data={'class_name': array(['background'], dtype='<U10')}, metadata={})\n",
      "Detections(xyxy=array([[1.6000e-01, 1.6000e-01, 3.2016e+02, 3.2016e+02]], dtype=float32), mask=None, confidence=None, class_id=None, tracker_id=None, data={'class_name': array(['background'], dtype='<U10')}, metadata={})\n",
      "Detections(xyxy=array([[282.08, 117.28, 313.12, 143.2 ]], dtype=float32), mask=None, confidence=None, class_id=None, tracker_id=None, data={'class_name': array(['brick kilns with chimney'], dtype='<U24')}, metadata={})\n"
     ]
    },
    {
     "name": "stderr",
     "output_type": "stream",
     "text": [
      " 50%|████▉     | 81/163 [01:06<00:56,  1.44it/s]"
     ]
    },
    {
     "name": "stdout",
     "output_type": "stream",
     "text": [
      "{'<OD>': {'bboxes': [], 'labels': []}}\n",
      "{'<OD>': {'bboxes': [], 'labels': []}}\n",
      "{'<OD>': {'bboxes': [], 'labels': []}}\n",
      "{'<OD>': {'bboxes': [], 'labels': []}}\n",
      "Detections(xyxy=array([[1.6000e-01, 1.6000e-01, 3.2016e+02, 3.2016e+02]], dtype=float32), mask=None, confidence=None, class_id=None, tracker_id=None, data={'class_name': array(['background'], dtype='<U10')}, metadata={})\n",
      "Detections(xyxy=array([[1.6000e-01, 1.6000e-01, 3.2016e+02, 3.2016e+02]], dtype=float32), mask=None, confidence=None, class_id=None, tracker_id=None, data={'class_name': array(['background'], dtype='<U10')}, metadata={})\n",
      "Detections(xyxy=array([[1.6000e-01, 1.6000e-01, 3.2016e+02, 3.2016e+02]], dtype=float32), mask=None, confidence=None, class_id=None, tracker_id=None, data={'class_name': array(['background'], dtype='<U10')}, metadata={})\n",
      "Detections(xyxy=array([[206.23999 , 118.24    , 229.28    , 142.23999 ],\n",
      "       [ 20.      ,  39.2     ,  46.239998,  67.04    ]], dtype=float32), mask=None, confidence=None, class_id=None, tracker_id=None, data={'class_name': array(['brick kilns with chimney', 'brick kilns with chimney'],\n",
      "      dtype='<U24')}, metadata={})\n"
     ]
    },
    {
     "name": "stderr",
     "output_type": "stream",
     "text": [
      " 50%|█████     | 82/163 [01:07<00:59,  1.37it/s]"
     ]
    },
    {
     "name": "stdout",
     "output_type": "stream",
     "text": [
      "{'<OD>': {'bboxes': [], 'labels': []}}\n",
      "{'<OD>': {'bboxes': [], 'labels': []}}\n",
      "{'<OD>': {'bboxes': [], 'labels': []}}\n",
      "{'<OD>': {'bboxes': [[0.1599999964237213, 0.1599999964237213, 319.5199890136719, 319.5199890136719]], 'labels': ['building']}}\n",
      "Detections(xyxy=array([[1.6000e-01, 1.6000e-01, 3.2016e+02, 3.2016e+02]], dtype=float32), mask=None, confidence=None, class_id=None, tracker_id=None, data={'class_name': array(['background'], dtype='<U10')}, metadata={})\n",
      "Detections(xyxy=array([[1.6000e-01, 1.6000e-01, 3.2016e+02, 3.2016e+02]], dtype=float32), mask=None, confidence=None, class_id=None, tracker_id=None, data={'class_name': array(['background'], dtype='<U10')}, metadata={})\n",
      "Detections(xyxy=array([[1.6000e-01, 1.6000e-01, 3.2016e+02, 3.2016e+02]], dtype=float32), mask=None, confidence=None, class_id=None, tracker_id=None, data={'class_name': array(['background'], dtype='<U10')}, metadata={})\n",
      "Detections(xyxy=array([[1.6000e-01, 1.6000e-01, 3.2016e+02, 3.2016e+02]], dtype=float32), mask=None, confidence=None, class_id=None, tracker_id=None, data={'class_name': array(['background'], dtype='<U10')}, metadata={})\n"
     ]
    },
    {
     "name": "stderr",
     "output_type": "stream",
     "text": [
      " 51%|█████     | 83/163 [01:07<00:55,  1.43it/s]"
     ]
    },
    {
     "name": "stdout",
     "output_type": "stream",
     "text": [
      "{'<OD>': {'bboxes': [[0.1599999964237213, 0.1599999964237213, 319.5199890136719, 319.5199890136719]], 'labels': ['building']}}\n",
      "{'<OD>': {'bboxes': [[0.1599999964237213, 0.1599999964237213, 319.5199890136719, 319.5199890136719]], 'labels': ['building']}}\n",
      "{'<OD>': {'bboxes': [[0.1599999964237213, 0.1599999964237213, 319.5199890136719, 319.5199890136719]], 'labels': ['building']}}\n",
      "{'<OD>': {'bboxes': [[0.1599999964237213, 0.1599999964237213, 319.5199890136719, 319.5199890136719]], 'labels': ['brick kilns with chimney']}}\n",
      "Detections(xyxy=array([[1.6000e-01, 1.6000e-01, 3.2016e+02, 3.2016e+02]], dtype=float32), mask=None, confidence=None, class_id=None, tracker_id=None, data={'class_name': array(['background'], dtype='<U10')}, metadata={})\n",
      "Detections(xyxy=array([[1.6000e-01, 1.6000e-01, 3.2016e+02, 3.2016e+02]], dtype=float32), mask=None, confidence=None, class_id=None, tracker_id=None, data={'class_name': array(['background'], dtype='<U10')}, metadata={})\n",
      "Detections(xyxy=array([[1.6000e-01, 1.6000e-01, 3.2016e+02, 3.2016e+02]], dtype=float32), mask=None, confidence=None, class_id=None, tracker_id=None, data={'class_name': array(['background'], dtype='<U10')}, metadata={})\n",
      "Detections(xyxy=array([[1.6000e-01, 1.6000e-01, 3.2016e+02, 3.2016e+02]], dtype=float32), mask=None, confidence=None, class_id=None, tracker_id=None, data={'class_name': array(['background'], dtype='<U10')}, metadata={})\n"
     ]
    },
    {
     "name": "stderr",
     "output_type": "stream",
     "text": [
      " 52%|█████▏    | 84/163 [01:08<00:55,  1.43it/s]"
     ]
    },
    {
     "name": "stdout",
     "output_type": "stream",
     "text": [
      "{'<OD>': {'bboxes': [], 'labels': []}}\n",
      "{'<OD>': {'bboxes': [], 'labels': []}}\n",
      "{'<OD>': {'bboxes': [[0.1599999964237213, 217.1199951171875, 6.239999771118164, 229.59999084472656]], 'labels': ['brick kilns with chimney']}}\n",
      "{'<OD>': {'bboxes': [], 'labels': []}}\n",
      "Detections(xyxy=array([[1.6000e-01, 1.6000e-01, 3.2016e+02, 3.2016e+02]], dtype=float32), mask=None, confidence=None, class_id=None, tracker_id=None, data={'class_name': array(['background'], dtype='<U10')}, metadata={})\n",
      "Detections(xyxy=array([[1.6000e-01, 1.6000e-01, 3.2016e+02, 3.2016e+02]], dtype=float32), mask=None, confidence=None, class_id=None, tracker_id=None, data={'class_name': array(['background'], dtype='<U10')}, metadata={})\n",
      "Detections(xyxy=array([[1.6000e-01, 1.6000e-01, 3.2016e+02, 3.2016e+02]], dtype=float32), mask=None, confidence=None, class_id=None, tracker_id=None, data={'class_name': array(['background'], dtype='<U10')}, metadata={})\n",
      "Detections(xyxy=array([[1.6000e-01, 1.6000e-01, 3.2016e+02, 3.2016e+02]], dtype=float32), mask=None, confidence=None, class_id=None, tracker_id=None, data={'class_name': array(['background'], dtype='<U10')}, metadata={})\n"
     ]
    },
    {
     "name": "stderr",
     "output_type": "stream",
     "text": [
      " 52%|█████▏    | 85/163 [01:09<00:54,  1.42it/s]"
     ]
    },
    {
     "name": "stdout",
     "output_type": "stream",
     "text": [
      "{'<OD>': {'bboxes': [], 'labels': []}}\n",
      "{'<OD>': {'bboxes': [[0.1599999964237213, 0.1599999964237213, 319.5199890136719, 319.5199890136719]], 'labels': ['building']}}\n",
      "{'<OD>': {'bboxes': [[0.1599999964237213, 0.1599999964237213, 319.5199890136719, 319.5199890136719]], 'labels': ['building']}}\n",
      "{'<OD>': {'bboxes': [], 'labels': []}}\n",
      "Detections(xyxy=array([[1.6000e-01, 1.6000e-01, 3.2016e+02, 3.2016e+02]], dtype=float32), mask=None, confidence=None, class_id=None, tracker_id=None, data={'class_name': array(['background'], dtype='<U10')}, metadata={})\n",
      "Detections(xyxy=array([[ 71.2     , 260.      ,  97.119995, 281.12    ]], dtype=float32), mask=None, confidence=None, class_id=None, tracker_id=None, data={'class_name': array(['brick kilns with chimney'], dtype='<U24')}, metadata={})\n",
      "Detections(xyxy=array([[1.6000e-01, 1.6000e-01, 3.2016e+02, 3.2016e+02]], dtype=float32), mask=None, confidence=None, class_id=None, tracker_id=None, data={'class_name': array(['background'], dtype='<U10')}, metadata={})\n",
      "Detections(xyxy=array([[1.6000e-01, 1.6000e-01, 3.2016e+02, 3.2016e+02]], dtype=float32), mask=None, confidence=None, class_id=None, tracker_id=None, data={'class_name': array(['background'], dtype='<U10')}, metadata={})\n"
     ]
    },
    {
     "name": "stderr",
     "output_type": "stream",
     "text": [
      " 53%|█████▎    | 86/163 [01:10<00:53,  1.43it/s]"
     ]
    },
    {
     "name": "stdout",
     "output_type": "stream",
     "text": [
      "{'<OD>': {'bboxes': [[0.1599999964237213, 0.1599999964237213, 319.5199890136719, 319.5199890136719]], 'labels': ['building']}}\n",
      "{'<OD>': {'bboxes': [], 'labels': []}}\n",
      "{'<OD>': {'bboxes': [[0.1599999964237213, 0.1599999964237213, 319.5199890136719, 319.5199890136719]], 'labels': ['brick building']}}\n",
      "{'<OD>': {'bboxes': [], 'labels': []}}\n",
      "Detections(xyxy=array([[1.6000e-01, 1.6000e-01, 3.2016e+02, 3.2016e+02]], dtype=float32), mask=None, confidence=None, class_id=None, tracker_id=None, data={'class_name': array(['background'], dtype='<U10')}, metadata={})\n",
      "Detections(xyxy=array([[1.6000e-01, 1.6000e-01, 3.2016e+02, 3.2016e+02]], dtype=float32), mask=None, confidence=None, class_id=None, tracker_id=None, data={'class_name': array(['background'], dtype='<U10')}, metadata={})\n",
      "Detections(xyxy=array([[1.6000e-01, 1.6000e-01, 3.2016e+02, 3.2016e+02]], dtype=float32), mask=None, confidence=None, class_id=None, tracker_id=None, data={'class_name': array(['background'], dtype='<U10')}, metadata={})\n",
      "Detections(xyxy=array([[1.6000e-01, 1.6000e-01, 3.2016e+02, 3.2016e+02]], dtype=float32), mask=None, confidence=None, class_id=None, tracker_id=None, data={'class_name': array(['background'], dtype='<U10')}, metadata={})\n"
     ]
    },
    {
     "name": "stderr",
     "output_type": "stream",
     "text": [
      " 53%|█████▎    | 87/163 [01:10<00:51,  1.47it/s]"
     ]
    },
    {
     "name": "stdout",
     "output_type": "stream",
     "text": [
      "{'<OD>': {'bboxes': [[0.1599999964237213, 0.1599999964237213, 319.5199890136719, 319.5199890136719]], 'labels': ['brick kilns with chimney']}}\n",
      "{'<OD>': {'bboxes': [], 'labels': []}}\n",
      "{'<OD>': {'bboxes': [], 'labels': []}}\n",
      "{'<OD>': {'bboxes': [[0.1599999964237213, 0.1599999964237213, 319.5199890136719, 319.5199890136719]], 'labels': ['clock tower']}}\n",
      "Detections(xyxy=array([[1.6000e-01, 1.6000e-01, 3.2016e+02, 3.2016e+02]], dtype=float32), mask=None, confidence=None, class_id=None, tracker_id=None, data={'class_name': array(['background'], dtype='<U10')}, metadata={})\n",
      "Detections(xyxy=array([[1.6000e-01, 1.6000e-01, 3.2016e+02, 3.2016e+02]], dtype=float32), mask=None, confidence=None, class_id=None, tracker_id=None, data={'class_name': array(['background'], dtype='<U10')}, metadata={})\n",
      "Detections(xyxy=array([[1.6000e-01, 1.6000e-01, 3.2016e+02, 3.2016e+02]], dtype=float32), mask=None, confidence=None, class_id=None, tracker_id=None, data={'class_name': array(['background'], dtype='<U10')}, metadata={})\n",
      "Detections(xyxy=array([[1.6000e-01, 1.6000e-01, 3.2016e+02, 3.2016e+02]], dtype=float32), mask=None, confidence=None, class_id=None, tracker_id=None, data={'class_name': array(['background'], dtype='<U10')}, metadata={})\n"
     ]
    },
    {
     "name": "stderr",
     "output_type": "stream",
     "text": [
      " 54%|█████▍    | 88/163 [01:11<00:51,  1.46it/s]"
     ]
    },
    {
     "name": "stdout",
     "output_type": "stream",
     "text": [
      "{'<OD>': {'bboxes': [], 'labels': []}}\n",
      "{'<OD>': {'bboxes': [], 'labels': []}}\n",
      "{'<OD>': {'bboxes': [], 'labels': []}}\n",
      "{'<OD>': {'bboxes': [[0.1599999964237213, 0.1599999964237213, 319.5199890136719, 319.5199890136719]], 'labels': ['building']}}\n",
      "Detections(xyxy=array([[1.6000e-01, 1.6000e-01, 3.2016e+02, 3.2016e+02]], dtype=float32), mask=None, confidence=None, class_id=None, tracker_id=None, data={'class_name': array(['background'], dtype='<U10')}, metadata={})\n",
      "Detections(xyxy=array([[1.6000e-01, 1.6000e-01, 3.2016e+02, 3.2016e+02]], dtype=float32), mask=None, confidence=None, class_id=None, tracker_id=None, data={'class_name': array(['background'], dtype='<U10')}, metadata={})\n",
      "Detections(xyxy=array([[1.6000e-01, 1.6000e-01, 3.2016e+02, 3.2016e+02]], dtype=float32), mask=None, confidence=None, class_id=None, tracker_id=None, data={'class_name': array(['background'], dtype='<U10')}, metadata={})\n",
      "Detections(xyxy=array([[1.6000e-01, 1.6000e-01, 3.2016e+02, 3.2016e+02]], dtype=float32), mask=None, confidence=None, class_id=None, tracker_id=None, data={'class_name': array(['background'], dtype='<U10')}, metadata={})\n"
     ]
    },
    {
     "name": "stderr",
     "output_type": "stream",
     "text": [
      " 55%|█████▍    | 89/163 [01:12<00:52,  1.42it/s]"
     ]
    },
    {
     "name": "stdout",
     "output_type": "stream",
     "text": [
      "{'<OD>': {'bboxes': [[0.1599999964237213, 0.1599999964237213, 319.5199890136719, 319.5199890136719]], 'labels': ['building']}}\n",
      "{'<OD>': {'bboxes': [[0.1599999964237213, 0.1599999964237213, 319.5199890136719, 319.5199890136719]], 'labels': ['brick chimney']}}\n",
      "{'<OD>': {'bboxes': [[0.1599999964237213, 0.1599999964237213, 319.5199890136719, 319.5199890136719]], 'labels': ['clock tower']}}\n",
      "{'<OD>': {'bboxes': [], 'labels': []}}\n",
      "Detections(xyxy=array([[1.6000e-01, 1.6000e-01, 3.2016e+02, 3.2016e+02]], dtype=float32), mask=None, confidence=None, class_id=None, tracker_id=None, data={'class_name': array(['background'], dtype='<U10')}, metadata={})\n",
      "Detections(xyxy=array([[1.6000e-01, 1.6000e-01, 3.2016e+02, 3.2016e+02]], dtype=float32), mask=None, confidence=None, class_id=None, tracker_id=None, data={'class_name': array(['background'], dtype='<U10')}, metadata={})\n",
      "Detections(xyxy=array([[1.6000e-01, 1.6000e-01, 3.2016e+02, 3.2016e+02]], dtype=float32), mask=None, confidence=None, class_id=None, tracker_id=None, data={'class_name': array(['background'], dtype='<U10')}, metadata={})\n",
      "Detections(xyxy=array([[1.6000e-01, 1.6000e-01, 3.2016e+02, 3.2016e+02]], dtype=float32), mask=None, confidence=None, class_id=None, tracker_id=None, data={'class_name': array(['background'], dtype='<U10')}, metadata={})\n"
     ]
    },
    {
     "name": "stderr",
     "output_type": "stream",
     "text": [
      " 55%|█████▌    | 90/163 [01:12<00:50,  1.46it/s]"
     ]
    },
    {
     "name": "stdout",
     "output_type": "stream",
     "text": [
      "{'<OD>': {'bboxes': [], 'labels': []}}\n",
      "{'<OD>': {'bboxes': [], 'labels': []}}\n",
      "{'<OD>': {'bboxes': [[0.1599999964237213, 0.1599999964237213, 319.5199890136719, 319.5199890136719]], 'labels': ['building']}}\n",
      "{'<OD>': {'bboxes': [[0.1599999964237213, 0.1599999964237213, 319.5199890136719, 319.5199890136719]], 'labels': ['building']}}\n",
      "Detections(xyxy=array([[1.6000e-01, 1.6000e-01, 3.2016e+02, 3.2016e+02]], dtype=float32), mask=None, confidence=None, class_id=None, tracker_id=None, data={'class_name': array(['background'], dtype='<U10')}, metadata={})\n",
      "Detections(xyxy=array([[1.6000e-01, 1.6000e-01, 3.2016e+02, 3.2016e+02]], dtype=float32), mask=None, confidence=None, class_id=None, tracker_id=None, data={'class_name': array(['background'], dtype='<U10')}, metadata={})\n",
      "Detections(xyxy=array([[1.6000e-01, 1.6000e-01, 3.2016e+02, 3.2016e+02]], dtype=float32), mask=None, confidence=None, class_id=None, tracker_id=None, data={'class_name': array(['background'], dtype='<U10')}, metadata={})\n",
      "Detections(xyxy=array([[1.6000e-01, 1.6000e-01, 3.2016e+02, 3.2016e+02]], dtype=float32), mask=None, confidence=None, class_id=None, tracker_id=None, data={'class_name': array(['background'], dtype='<U10')}, metadata={})\n"
     ]
    },
    {
     "name": "stderr",
     "output_type": "stream",
     "text": [
      " 56%|█████▌    | 91/163 [01:13<00:49,  1.44it/s]"
     ]
    },
    {
     "name": "stdout",
     "output_type": "stream",
     "text": [
      "{'<OD>': {'bboxes': [], 'labels': []}}\n",
      "{'<OD>': {'bboxes': [[0.1599999964237213, 0.1599999964237213, 319.5199890136719, 319.5199890136719]], 'labels': ['building']}}\n",
      "{'<OD>': {'bboxes': [[0.1599999964237213, 0.1599999964237213, 319.5199890136719, 319.5199890136719]], 'labels': ['building']}}\n",
      "{'<OD>': {'bboxes': [[0.1599999964237213, 0.1599999964237213, 319.5199890136719, 319.5199890136719]], 'labels': ['broccoli']}}\n",
      "Detections(xyxy=array([[1.6000e-01, 1.6000e-01, 3.2016e+02, 3.2016e+02]], dtype=float32), mask=None, confidence=None, class_id=None, tracker_id=None, data={'class_name': array(['background'], dtype='<U10')}, metadata={})\n",
      "Detections(xyxy=array([[1.6000e-01, 1.6000e-01, 3.2016e+02, 3.2016e+02]], dtype=float32), mask=None, confidence=None, class_id=None, tracker_id=None, data={'class_name': array(['background'], dtype='<U10')}, metadata={})\n",
      "Detections(xyxy=array([[1.6000e-01, 1.6000e-01, 3.2016e+02, 3.2016e+02]], dtype=float32), mask=None, confidence=None, class_id=None, tracker_id=None, data={'class_name': array(['background'], dtype='<U10')}, metadata={})\n",
      "Detections(xyxy=array([[1.6000e-01, 1.6000e-01, 3.2016e+02, 3.2016e+02]], dtype=float32), mask=None, confidence=None, class_id=None, tracker_id=None, data={'class_name': array(['background'], dtype='<U10')}, metadata={})\n"
     ]
    },
    {
     "name": "stderr",
     "output_type": "stream",
     "text": [
      " 56%|█████▋    | 92/163 [01:14<00:47,  1.50it/s]"
     ]
    },
    {
     "name": "stdout",
     "output_type": "stream",
     "text": [
      "{'<OD>': {'bboxes': [], 'labels': []}}\n",
      "{'<OD>': {'bboxes': [[0.1599999964237213, 0.1599999964237213, 319.5199890136719, 319.5199890136719]], 'labels': ['clock tower']}}\n",
      "{'<OD>': {'bboxes': [[0.1599999964237213, 0.1599999964237213, 319.5199890136719, 319.5199890136719]], 'labels': ['clock tower']}}\n",
      "{'<OD>': {'bboxes': [[0.1599999964237213, 245.27999877929688, 9.760000228881836, 258.0799865722656]], 'labels': ['brick kilns with chimney']}}\n",
      "Detections(xyxy=array([[1.6000e-01, 1.6000e-01, 3.2016e+02, 3.2016e+02]], dtype=float32), mask=None, confidence=None, class_id=None, tracker_id=None, data={'class_name': array(['background'], dtype='<U10')}, metadata={})\n",
      "Detections(xyxy=array([[1.6000e-01, 1.6000e-01, 3.2016e+02, 3.2016e+02]], dtype=float32), mask=None, confidence=None, class_id=None, tracker_id=None, data={'class_name': array(['background'], dtype='<U10')}, metadata={})\n",
      "Detections(xyxy=array([[1.6000e-01, 1.6000e-01, 3.2016e+02, 3.2016e+02]], dtype=float32), mask=None, confidence=None, class_id=None, tracker_id=None, data={'class_name': array(['background'], dtype='<U10')}, metadata={})\n",
      "Detections(xyxy=array([[1.6000e-01, 1.6000e-01, 3.2016e+02, 3.2016e+02]], dtype=float32), mask=None, confidence=None, class_id=None, tracker_id=None, data={'class_name': array(['background'], dtype='<U10')}, metadata={})\n"
     ]
    },
    {
     "name": "stderr",
     "output_type": "stream",
     "text": [
      " 57%|█████▋    | 93/163 [01:14<00:46,  1.50it/s]"
     ]
    },
    {
     "name": "stdout",
     "output_type": "stream",
     "text": [
      "{'<OD>': {'bboxes': [], 'labels': []}}\n",
      "{'<OD>': {'bboxes': [[0.1599999964237213, 0.1599999964237213, 319.5199890136719, 319.5199890136719]], 'labels': ['brick kilns with chimney']}}\n",
      "{'<OD>': {'bboxes': [[0.1599999964237213, 0.1599999964237213, 319.5199890136719, 319.5199890136719]], 'labels': ['building']}}\n",
      "{'<OD>': {'bboxes': [[0.1599999964237213, 0.1599999964237213, 319.5199890136719, 319.5199890136719]], 'labels': ['building']}}\n",
      "Detections(xyxy=array([[1.6000e-01, 1.6000e-01, 3.2016e+02, 3.2016e+02]], dtype=float32), mask=None, confidence=None, class_id=None, tracker_id=None, data={'class_name': array(['background'], dtype='<U10')}, metadata={})\n",
      "Detections(xyxy=array([[1.6000e-01, 1.6000e-01, 3.2016e+02, 3.2016e+02]], dtype=float32), mask=None, confidence=None, class_id=None, tracker_id=None, data={'class_name': array(['background'], dtype='<U10')}, metadata={})\n",
      "Detections(xyxy=array([[1.6000e-01, 1.6000e-01, 3.2016e+02, 3.2016e+02]], dtype=float32), mask=None, confidence=None, class_id=None, tracker_id=None, data={'class_name': array(['background'], dtype='<U10')}, metadata={})\n",
      "Detections(xyxy=array([[1.6000e-01, 1.6000e-01, 3.2016e+02, 3.2016e+02]], dtype=float32), mask=None, confidence=None, class_id=None, tracker_id=None, data={'class_name': array(['background'], dtype='<U10')}, metadata={})\n"
     ]
    },
    {
     "name": "stderr",
     "output_type": "stream",
     "text": [
      " 58%|█████▊    | 94/163 [01:15<00:45,  1.51it/s]"
     ]
    },
    {
     "name": "stdout",
     "output_type": "stream",
     "text": [
      "{'<OD>': {'bboxes': [[0.1599999964237213, 0.1599999964237213, 319.5199890136719, 319.5199890136719]], 'labels': ['building']}}\n",
      "{'<OD>': {'bboxes': [[0.1599999964237213, 0.1599999964237213, 319.5199890136719, 319.5199890136719]], 'labels': ['building']}}\n",
      "{'<OD>': {'bboxes': [[0.1599999964237213, 0.1599999964237213, 319.5199890136719, 319.5199890136719]], 'labels': ['brick kilns with chimney']}}\n",
      "{'<OD>': {'bboxes': [[0.1599999964237213, 0.1599999964237213, 319.5199890136719, 319.5199890136719]], 'labels': ['brick kilns with chimney']}}\n",
      "Detections(xyxy=array([[1.6000e-01, 1.6000e-01, 3.2016e+02, 3.2016e+02]], dtype=float32), mask=None, confidence=None, class_id=None, tracker_id=None, data={'class_name': array(['background'], dtype='<U10')}, metadata={})\n",
      "Detections(xyxy=array([[1.6000e-01, 1.6000e-01, 3.2016e+02, 3.2016e+02]], dtype=float32), mask=None, confidence=None, class_id=None, tracker_id=None, data={'class_name': array(['background'], dtype='<U10')}, metadata={})\n",
      "Detections(xyxy=array([[1.6000e-01, 1.6000e-01, 3.2016e+02, 3.2016e+02]], dtype=float32), mask=None, confidence=None, class_id=None, tracker_id=None, data={'class_name': array(['background'], dtype='<U10')}, metadata={})\n",
      "Detections(xyxy=array([[1.6000e-01, 1.6000e-01, 3.2016e+02, 3.2016e+02]], dtype=float32), mask=None, confidence=None, class_id=None, tracker_id=None, data={'class_name': array(['background'], dtype='<U10')}, metadata={})\n"
     ]
    },
    {
     "name": "stderr",
     "output_type": "stream",
     "text": [
      " 58%|█████▊    | 95/163 [01:16<00:46,  1.45it/s]"
     ]
    },
    {
     "name": "stdout",
     "output_type": "stream",
     "text": [
      "{'<OD>': {'bboxes': [[0.1599999964237213, 0.1599999964237213, 319.5199890136719, 319.5199890136719]], 'labels': ['clock tower']}}\n",
      "{'<OD>': {'bboxes': [], 'labels': []}}\n",
      "{'<OD>': {'bboxes': [], 'labels': []}}\n",
      "{'<OD>': {'bboxes': [], 'labels': []}}\n",
      "Detections(xyxy=array([[1.6000e-01, 1.6000e-01, 3.2016e+02, 3.2016e+02]], dtype=float32), mask=None, confidence=None, class_id=None, tracker_id=None, data={'class_name': array(['background'], dtype='<U10')}, metadata={})\n",
      "Detections(xyxy=array([[1.6000e-01, 1.6000e-01, 3.2016e+02, 3.2016e+02]], dtype=float32), mask=None, confidence=None, class_id=None, tracker_id=None, data={'class_name': array(['background'], dtype='<U10')}, metadata={})\n",
      "Detections(xyxy=array([[1.6000e-01, 1.6000e-01, 3.2016e+02, 3.2016e+02]], dtype=float32), mask=None, confidence=None, class_id=None, tracker_id=None, data={'class_name': array(['background'], dtype='<U10')}, metadata={})\n",
      "Detections(xyxy=array([[1.6000e-01, 1.6000e-01, 3.2016e+02, 3.2016e+02]], dtype=float32), mask=None, confidence=None, class_id=None, tracker_id=None, data={'class_name': array(['background'], dtype='<U10')}, metadata={})\n"
     ]
    },
    {
     "name": "stderr",
     "output_type": "stream",
     "text": [
      " 59%|█████▉    | 96/163 [01:16<00:47,  1.40it/s]"
     ]
    },
    {
     "name": "stdout",
     "output_type": "stream",
     "text": [
      "{'<OD>': {'bboxes': [], 'labels': []}}\n",
      "{'<OD>': {'bboxes': [[0.1599999964237213, 0.1599999964237213, 319.5199890136719, 319.5199890136719]], 'labels': ['clock tower']}}\n",
      "{'<OD>': {'bboxes': [], 'labels': []}}\n",
      "{'<OD>': {'bboxes': [[0.1599999964237213, 0.1599999964237213, 319.5199890136719, 319.5199890136719]], 'labels': ['building']}}\n",
      "Detections(xyxy=array([[1.6000e-01, 1.6000e-01, 3.2016e+02, 3.2016e+02]], dtype=float32), mask=None, confidence=None, class_id=None, tracker_id=None, data={'class_name': array(['background'], dtype='<U10')}, metadata={})\n",
      "Detections(xyxy=array([[1.6000e-01, 1.6000e-01, 3.2016e+02, 3.2016e+02]], dtype=float32), mask=None, confidence=None, class_id=None, tracker_id=None, data={'class_name': array(['background'], dtype='<U10')}, metadata={})\n",
      "Detections(xyxy=array([[1.6000e-01, 1.6000e-01, 3.2016e+02, 3.2016e+02]], dtype=float32), mask=None, confidence=None, class_id=None, tracker_id=None, data={'class_name': array(['background'], dtype='<U10')}, metadata={})\n",
      "Detections(xyxy=array([[1.6000e-01, 1.6000e-01, 3.2016e+02, 3.2016e+02]], dtype=float32), mask=None, confidence=None, class_id=None, tracker_id=None, data={'class_name': array(['background'], dtype='<U10')}, metadata={})\n"
     ]
    },
    {
     "name": "stderr",
     "output_type": "stream",
     "text": [
      " 60%|█████▉    | 97/163 [01:17<00:46,  1.40it/s]"
     ]
    },
    {
     "name": "stdout",
     "output_type": "stream",
     "text": [
      "{'<OD>': {'bboxes': [[0.1599999964237213, 0.1599999964237213, 319.5199890136719, 319.5199890136719]], 'labels': ['building']}}\n",
      "{'<OD>': {'bboxes': [], 'labels': []}}\n",
      "{'<OD>': {'bboxes': [], 'labels': []}}\n",
      "{'<OD>': {'bboxes': [], 'labels': []}}\n",
      "Detections(xyxy=array([[1.6000e-01, 1.6000e-01, 3.2016e+02, 3.2016e+02]], dtype=float32), mask=None, confidence=None, class_id=None, tracker_id=None, data={'class_name': array(['background'], dtype='<U10')}, metadata={})\n",
      "Detections(xyxy=array([[1.6000e-01, 1.6000e-01, 3.2016e+02, 3.2016e+02]], dtype=float32), mask=None, confidence=None, class_id=None, tracker_id=None, data={'class_name': array(['background'], dtype='<U10')}, metadata={})\n",
      "Detections(xyxy=array([[1.6000e-01, 1.6000e-01, 3.2016e+02, 3.2016e+02]], dtype=float32), mask=None, confidence=None, class_id=None, tracker_id=None, data={'class_name': array(['background'], dtype='<U10')}, metadata={})\n",
      "Detections(xyxy=array([[1.6000e-01, 1.6000e-01, 3.2016e+02, 3.2016e+02]], dtype=float32), mask=None, confidence=None, class_id=None, tracker_id=None, data={'class_name': array(['background'], dtype='<U10')}, metadata={})\n"
     ]
    },
    {
     "name": "stderr",
     "output_type": "stream",
     "text": [
      " 60%|██████    | 98/163 [01:18<00:48,  1.35it/s]"
     ]
    },
    {
     "name": "stdout",
     "output_type": "stream",
     "text": [
      "{'<OD>': {'bboxes': [[0.1599999964237213, 0.1599999964237213, 319.5199890136719, 319.5199890136719]], 'labels': ['building']}}\n",
      "{'<OD>': {'bboxes': [[0.1599999964237213, 0.1599999964237213, 319.5199890136719, 319.5199890136719]], 'labels': ['building']}}\n",
      "{'<OD>': {'bboxes': [[0.1599999964237213, 0.1599999964237213, 319.5199890136719, 319.5199890136719]], 'labels': ['building']}}\n",
      "{'<OD>': {'bboxes': [[0.1599999964237213, 0.1599999964237213, 319.5199890136719, 319.5199890136719]], 'labels': ['building']}}\n",
      "Detections(xyxy=array([[1.6000e-01, 1.6000e-01, 3.2016e+02, 3.2016e+02]], dtype=float32), mask=None, confidence=None, class_id=None, tracker_id=None, data={'class_name': array(['background'], dtype='<U10')}, metadata={})\n",
      "Detections(xyxy=array([[1.6000e-01, 1.6000e-01, 3.2016e+02, 3.2016e+02]], dtype=float32), mask=None, confidence=None, class_id=None, tracker_id=None, data={'class_name': array(['background'], dtype='<U10')}, metadata={})\n",
      "Detections(xyxy=array([[174.23999 ,   8.16    , 201.12    ,  38.239998],\n",
      "       [205.28    ,   9.12    , 238.23999 ,  33.12    ]], dtype=float32), mask=None, confidence=None, class_id=None, tracker_id=None, data={'class_name': array(['brick kilns with chimney', 'brick kilns with chimney'],\n",
      "      dtype='<U24')}, metadata={})\n",
      "Detections(xyxy=array([[235.04   , 235.04   , 252.31999, 260.     ]], dtype=float32), mask=None, confidence=None, class_id=None, tracker_id=None, data={'class_name': array(['brick kilns with chimney'], dtype='<U24')}, metadata={})\n"
     ]
    },
    {
     "name": "stderr",
     "output_type": "stream",
     "text": [
      " 61%|██████    | 99/163 [01:19<00:45,  1.42it/s]"
     ]
    },
    {
     "name": "stdout",
     "output_type": "stream",
     "text": [
      "{'<OD>': {'bboxes': [[0.1599999964237213, 0.1599999964237213, 319.5199890136719, 319.5199890136719]], 'labels': ['castle']}}\n",
      "{'<OD>': {'bboxes': [[0.1599999964237213, 0.1599999964237213, 319.5199890136719, 319.5199890136719]], 'labels': ['building']}}\n",
      "{'<OD>': {'bboxes': [[0.1599999964237213, 0.1599999964237213, 319.5199890136719, 319.5199890136719]], 'labels': ['building']}}\n",
      "{'<OD>': {'bboxes': [], 'labels': []}}\n",
      "Detections(xyxy=array([[1.6000e-01, 1.6000e-01, 3.2016e+02, 3.2016e+02]], dtype=float32), mask=None, confidence=None, class_id=None, tracker_id=None, data={'class_name': array(['background'], dtype='<U10')}, metadata={})\n",
      "Detections(xyxy=array([[1.6000e-01, 1.6000e-01, 3.2016e+02, 3.2016e+02]], dtype=float32), mask=None, confidence=None, class_id=None, tracker_id=None, data={'class_name': array(['background'], dtype='<U10')}, metadata={})\n",
      "Detections(xyxy=array([[159.2     ,  88.159996, 190.23999 , 119.2     ],\n",
      "       [234.08    ,  58.079998, 262.24    ,  70.24    ]], dtype=float32), mask=None, confidence=None, class_id=None, tracker_id=None, data={'class_name': array(['brick kilns with chimney', 'brick kilns with chimney'],\n",
      "      dtype='<U24')}, metadata={})\n",
      "Detections(xyxy=array([[1.6000e-01, 1.6000e-01, 3.2016e+02, 3.2016e+02]], dtype=float32), mask=None, confidence=None, class_id=None, tracker_id=None, data={'class_name': array(['background'], dtype='<U10')}, metadata={})\n"
     ]
    },
    {
     "name": "stderr",
     "output_type": "stream",
     "text": [
      " 61%|██████▏   | 100/163 [01:19<00:43,  1.46it/s]"
     ]
    },
    {
     "name": "stdout",
     "output_type": "stream",
     "text": [
      "{'<OD>': {'bboxes': [], 'labels': []}}\n",
      "{'<OD>': {'bboxes': [[0.1599999964237213, 0.1599999964237213, 319.5199890136719, 319.5199890136719]], 'labels': ['clock tower']}}\n",
      "{'<OD>': {'bboxes': [], 'labels': []}}\n",
      "{'<OD>': {'bboxes': [], 'labels': []}}\n",
      "Detections(xyxy=array([[254.23999,   7.2    , 281.12   ,  36.     ]], dtype=float32), mask=None, confidence=None, class_id=None, tracker_id=None, data={'class_name': array(['brick kilns with chimney'], dtype='<U24')}, metadata={})\n",
      "Detections(xyxy=array([[1.6000e-01, 1.6000e-01, 3.2016e+02, 3.2016e+02]], dtype=float32), mask=None, confidence=None, class_id=None, tracker_id=None, data={'class_name': array(['background'], dtype='<U10')}, metadata={})\n",
      "Detections(xyxy=array([[1.6000e-01, 1.6000e-01, 3.2016e+02, 3.2016e+02]], dtype=float32), mask=None, confidence=None, class_id=None, tracker_id=None, data={'class_name': array(['background'], dtype='<U10')}, metadata={})\n",
      "Detections(xyxy=array([[1.6000e-01, 1.6000e-01, 3.2016e+02, 3.2016e+02]], dtype=float32), mask=None, confidence=None, class_id=None, tracker_id=None, data={'class_name': array(['background'], dtype='<U10')}, metadata={})\n"
     ]
    },
    {
     "name": "stderr",
     "output_type": "stream",
     "text": [
      " 62%|██████▏   | 101/163 [01:20<00:40,  1.51it/s]"
     ]
    },
    {
     "name": "stdout",
     "output_type": "stream",
     "text": [
      "{'<OD>': {'bboxes': [], 'labels': []}}\n",
      "{'<OD>': {'bboxes': [], 'labels': []}}\n",
      "{'<OD>': {'bboxes': [], 'labels': []}}\n",
      "{'<OD>': {'bboxes': [[306.0799865722656, 212.0, 319.5199890136719, 232.1599884033203]], 'labels': ['brick kilns with chimney']}}\n",
      "Detections(xyxy=array([[1.6000e-01, 1.6000e-01, 3.2016e+02, 3.2016e+02]], dtype=float32), mask=None, confidence=None, class_id=None, tracker_id=None, data={'class_name': array(['background'], dtype='<U10')}, metadata={})\n",
      "Detections(xyxy=array([[1.6000e-01, 1.6000e-01, 3.2016e+02, 3.2016e+02]], dtype=float32), mask=None, confidence=None, class_id=None, tracker_id=None, data={'class_name': array(['background'], dtype='<U10')}, metadata={})\n",
      "Detections(xyxy=array([[1.6000e-01, 1.6000e-01, 3.2016e+02, 3.2016e+02]], dtype=float32), mask=None, confidence=None, class_id=None, tracker_id=None, data={'class_name': array(['background'], dtype='<U10')}, metadata={})\n",
      "Detections(xyxy=array([[1.6000e-01, 1.6000e-01, 3.2016e+02, 3.2016e+02]], dtype=float32), mask=None, confidence=None, class_id=None, tracker_id=None, data={'class_name': array(['background'], dtype='<U10')}, metadata={})\n"
     ]
    },
    {
     "name": "stderr",
     "output_type": "stream",
     "text": [
      " 63%|██████▎   | 102/163 [01:20<00:41,  1.48it/s]"
     ]
    },
    {
     "name": "stdout",
     "output_type": "stream",
     "text": [
      "{'<OD>': {'bboxes': [], 'labels': []}}\n",
      "{'<OD>': {'bboxes': [], 'labels': []}}\n",
      "{'<OD>': {'bboxes': [[272.47998046875, 278.55999755859375, 288.1600036621094, 291.3599853515625]], 'labels': ['brick kilns with chimney']}}\n",
      "{'<OD>': {'bboxes': [], 'labels': []}}\n",
      "Detections(xyxy=array([[1.6000e-01, 1.6000e-01, 3.2016e+02, 3.2016e+02]], dtype=float32), mask=None, confidence=None, class_id=None, tracker_id=None, data={'class_name': array(['background'], dtype='<U10')}, metadata={})\n",
      "Detections(xyxy=array([[1.6000e-01, 1.6000e-01, 3.2016e+02, 3.2016e+02]], dtype=float32), mask=None, confidence=None, class_id=None, tracker_id=None, data={'class_name': array(['background'], dtype='<U10')}, metadata={})\n",
      "Detections(xyxy=array([[1.6000e-01, 1.6000e-01, 3.2016e+02, 3.2016e+02]], dtype=float32), mask=None, confidence=None, class_id=None, tracker_id=None, data={'class_name': array(['background'], dtype='<U10')}, metadata={})\n",
      "Detections(xyxy=array([[1.6000e-01, 1.6000e-01, 3.2016e+02, 3.2016e+02]], dtype=float32), mask=None, confidence=None, class_id=None, tracker_id=None, data={'class_name': array(['background'], dtype='<U10')}, metadata={})\n"
     ]
    },
    {
     "name": "stderr",
     "output_type": "stream",
     "text": [
      " 63%|██████▎   | 103/163 [01:21<00:43,  1.39it/s]"
     ]
    },
    {
     "name": "stdout",
     "output_type": "stream",
     "text": [
      "{'<OD>': {'bboxes': [[0.1599999964237213, 0.1599999964237213, 319.5199890136719, 319.5199890136719]], 'labels': ['building']}}\n",
      "{'<OD>': {'bboxes': [[0.1599999964237213, 0.1599999964237213, 319.5199890136719, 319.5199890136719]], 'labels': ['building']}}\n",
      "{'<OD>': {'bboxes': [[0.1599999964237213, 0.1599999964237213, 319.5199890136719, 319.5199890136719]], 'labels': ['building']}}\n",
      "{'<OD>': {'bboxes': [], 'labels': []}}\n",
      "Detections(xyxy=array([[1.6000e-01, 1.6000e-01, 3.2016e+02, 3.2016e+02]], dtype=float32), mask=None, confidence=None, class_id=None, tracker_id=None, data={'class_name': array(['background'], dtype='<U10')}, metadata={})\n",
      "Detections(xyxy=array([[1.6000e-01, 1.6000e-01, 3.2016e+02, 3.2016e+02]], dtype=float32), mask=None, confidence=None, class_id=None, tracker_id=None, data={'class_name': array(['background'], dtype='<U10')}, metadata={})\n",
      "Detections(xyxy=array([[1.6000e-01, 1.6000e-01, 3.2016e+02, 3.2016e+02]], dtype=float32), mask=None, confidence=None, class_id=None, tracker_id=None, data={'class_name': array(['background'], dtype='<U10')}, metadata={})\n",
      "Detections(xyxy=array([[1.6000e-01, 1.6000e-01, 3.2016e+02, 3.2016e+02]], dtype=float32), mask=None, confidence=None, class_id=None, tracker_id=None, data={'class_name': array(['background'], dtype='<U10')}, metadata={})\n"
     ]
    },
    {
     "name": "stderr",
     "output_type": "stream",
     "text": [
      " 64%|██████▍   | 104/163 [01:22<00:41,  1.41it/s]"
     ]
    },
    {
     "name": "stdout",
     "output_type": "stream",
     "text": [
      "{'<OD>': {'bboxes': [[0.1599999964237213, 0.1599999964237213, 319.5199890136719, 319.5199890136719]], 'labels': ['building']}}\n",
      "{'<OD>': {'bboxes': [], 'labels': []}}\n",
      "{'<OD>': {'bboxes': [], 'labels': []}}\n",
      "{'<OD>': {'bboxes': [[0.1599999964237213, 0.1599999964237213, 319.5199890136719, 319.5199890136719]], 'labels': ['clock tower']}}\n",
      "Detections(xyxy=array([[231.2     ,  46.239998, 256.16    ,  72.159996]], dtype=float32), mask=None, confidence=None, class_id=None, tracker_id=None, data={'class_name': array(['brick kilns with chimney'], dtype='<U24')}, metadata={})\n",
      "Detections(xyxy=array([[1.6000e-01, 1.6000e-01, 3.2016e+02, 3.2016e+02]], dtype=float32), mask=None, confidence=None, class_id=None, tracker_id=None, data={'class_name': array(['background'], dtype='<U10')}, metadata={})\n",
      "Detections(xyxy=array([[1.6000e-01, 1.6000e-01, 3.2016e+02, 3.2016e+02]], dtype=float32), mask=None, confidence=None, class_id=None, tracker_id=None, data={'class_name': array(['background'], dtype='<U10')}, metadata={})\n",
      "Detections(xyxy=array([[1.6000e-01, 1.6000e-01, 3.2016e+02, 3.2016e+02]], dtype=float32), mask=None, confidence=None, class_id=None, tracker_id=None, data={'class_name': array(['background'], dtype='<U10')}, metadata={})\n"
     ]
    },
    {
     "name": "stderr",
     "output_type": "stream",
     "text": [
      " 64%|██████▍   | 105/163 [01:23<00:40,  1.44it/s]"
     ]
    },
    {
     "name": "stdout",
     "output_type": "stream",
     "text": [
      "{'<OD>': {'bboxes': [[0.1599999964237213, 0.1599999964237213, 319.5199890136719, 319.5199890136719]], 'labels': ['building']}}\n",
      "{'<OD>': {'bboxes': [[15.199999809265137, 278.239990234375, 36.63999938964844, 292.32000732421875]], 'labels': ['brick kilns with chimney']}}\n",
      "{'<OD>': {'bboxes': [], 'labels': []}}\n",
      "{'<OD>': {'bboxes': [[0.1599999964237213, 0.1599999964237213, 319.5199890136719, 319.5199890136719]], 'labels': ['building']}}\n",
      "Detections(xyxy=array([[195.04,  14.24, 219.04,  30.24]], dtype=float32), mask=None, confidence=None, class_id=None, tracker_id=None, data={'class_name': array(['brick kilns with chimney'], dtype='<U24')}, metadata={})\n",
      "Detections(xyxy=array([[1.6000e-01, 1.6000e-01, 3.2016e+02, 3.2016e+02]], dtype=float32), mask=None, confidence=None, class_id=None, tracker_id=None, data={'class_name': array(['background'], dtype='<U10')}, metadata={})\n",
      "Detections(xyxy=array([[1.6000e-01, 1.6000e-01, 3.2016e+02, 3.2016e+02]], dtype=float32), mask=None, confidence=None, class_id=None, tracker_id=None, data={'class_name': array(['background'], dtype='<U10')}, metadata={})\n",
      "Detections(xyxy=array([[1.6000e-01, 1.6000e-01, 3.2016e+02, 3.2016e+02]], dtype=float32), mask=None, confidence=None, class_id=None, tracker_id=None, data={'class_name': array(['background'], dtype='<U10')}, metadata={})\n"
     ]
    },
    {
     "name": "stderr",
     "output_type": "stream",
     "text": [
      " 65%|██████▌   | 106/163 [01:23<00:38,  1.49it/s]"
     ]
    },
    {
     "name": "stdout",
     "output_type": "stream",
     "text": [
      "{'<OD>': {'bboxes': [[0.1599999964237213, 0.1599999964237213, 319.5199890136719, 319.5199890136719]], 'labels': ['building']}}\n",
      "{'<OD>': {'bboxes': [[0.1599999964237213, 0.1599999964237213, 319.5199890136719, 319.5199890136719]], 'labels': ['brick kilns with chimney']}}\n",
      "{'<OD>': {'bboxes': [[0.1599999964237213, 0.1599999964237213, 319.5199890136719, 319.5199890136719]], 'labels': ['brick chimney']}}\n",
      "{'<OD>': {'bboxes': [[190.239990234375, 172.3199920654297, 205.27999877929688, 188.63999938964844]], 'labels': ['brick kilns with chimney']}}\n",
      "Detections(xyxy=array([[1.6000e-01, 1.6000e-01, 3.2016e+02, 3.2016e+02]], dtype=float32), mask=None, confidence=None, class_id=None, tracker_id=None, data={'class_name': array(['background'], dtype='<U10')}, metadata={})\n",
      "Detections(xyxy=array([[1.6000e-01, 1.6000e-01, 3.2016e+02, 3.2016e+02]], dtype=float32), mask=None, confidence=None, class_id=None, tracker_id=None, data={'class_name': array(['background'], dtype='<U10')}, metadata={})\n",
      "Detections(xyxy=array([[1.6000e-01, 1.6000e-01, 3.2016e+02, 3.2016e+02]], dtype=float32), mask=None, confidence=None, class_id=None, tracker_id=None, data={'class_name': array(['background'], dtype='<U10')}, metadata={})\n",
      "Detections(xyxy=array([[1.6000e-01, 1.6000e-01, 3.2016e+02, 3.2016e+02]], dtype=float32), mask=None, confidence=None, class_id=None, tracker_id=None, data={'class_name': array(['background'], dtype='<U10')}, metadata={})\n"
     ]
    },
    {
     "name": "stderr",
     "output_type": "stream",
     "text": [
      " 66%|██████▌   | 107/163 [01:24<00:38,  1.45it/s]"
     ]
    },
    {
     "name": "stdout",
     "output_type": "stream",
     "text": [
      "{'<OD>': {'bboxes': [], 'labels': []}}\n",
      "{'<OD>': {'bboxes': [[0.1599999964237213, 0.1599999964237213, 319.5199890136719, 319.5199890136719]], 'labels': ['building']}}\n",
      "{'<OD>': {'bboxes': [[0.1599999964237213, 0.1599999964237213, 319.5199890136719, 319.5199890136719]], 'labels': ['building']}}\n",
      "{'<OD>': {'bboxes': [], 'labels': []}}\n",
      "Detections(xyxy=array([[1.6000e-01, 1.6000e-01, 3.2016e+02, 3.2016e+02]], dtype=float32), mask=None, confidence=None, class_id=None, tracker_id=None, data={'class_name': array(['background'], dtype='<U10')}, metadata={})\n",
      "Detections(xyxy=array([[1.6000e-01, 1.6000e-01, 3.2016e+02, 3.2016e+02]], dtype=float32), mask=None, confidence=None, class_id=None, tracker_id=None, data={'class_name': array(['background'], dtype='<U10')}, metadata={})\n",
      "Detections(xyxy=array([[282.08   , 281.12   , 311.19998, 313.12   ]], dtype=float32), mask=None, confidence=None, class_id=None, tracker_id=None, data={'class_name': array(['brick kilns with chimney'], dtype='<U24')}, metadata={})\n",
      "Detections(xyxy=array([[1.6000e-01, 1.6000e-01, 3.2016e+02, 3.2016e+02]], dtype=float32), mask=None, confidence=None, class_id=None, tracker_id=None, data={'class_name': array(['background'], dtype='<U10')}, metadata={})\n"
     ]
    },
    {
     "name": "stderr",
     "output_type": "stream",
     "text": [
      " 66%|██████▋   | 108/163 [01:25<00:36,  1.49it/s]"
     ]
    },
    {
     "name": "stdout",
     "output_type": "stream",
     "text": [
      "{'<OD>': {'bboxes': [[0.1599999964237213, 0.1599999964237213, 319.5199890136719, 319.5199890136719]], 'labels': ['building']}}\n",
      "{'<OD>': {'bboxes': [[0.1599999964237213, 0.1599999964237213, 319.5199890136719, 319.5199890136719]], 'labels': ['building']}}\n",
      "{'<OD>': {'bboxes': [[0.1599999964237213, 0.1599999964237213, 319.5199890136719, 319.5199890136719]], 'labels': ['building']}}\n",
      "{'<OD>': {'bboxes': [[0.1599999964237213, 0.1599999964237213, 319.5199890136719, 319.5199890136719]], 'labels': ['building']}}\n",
      "Detections(xyxy=array([[1.6000e-01, 1.6000e-01, 3.2016e+02, 3.2016e+02]], dtype=float32), mask=None, confidence=None, class_id=None, tracker_id=None, data={'class_name': array(['background'], dtype='<U10')}, metadata={})\n",
      "Detections(xyxy=array([[1.6000e-01, 1.6000e-01, 3.2016e+02, 3.2016e+02]], dtype=float32), mask=None, confidence=None, class_id=None, tracker_id=None, data={'class_name': array(['background'], dtype='<U10')}, metadata={})\n",
      "Detections(xyxy=array([[1.6000e-01, 1.6000e-01, 3.2016e+02, 3.2016e+02]], dtype=float32), mask=None, confidence=None, class_id=None, tracker_id=None, data={'class_name': array(['background'], dtype='<U10')}, metadata={})\n",
      "Detections(xyxy=array([[1.6000e-01, 1.6000e-01, 3.2016e+02, 3.2016e+02]], dtype=float32), mask=None, confidence=None, class_id=None, tracker_id=None, data={'class_name': array(['background'], dtype='<U10')}, metadata={})\n"
     ]
    },
    {
     "name": "stderr",
     "output_type": "stream",
     "text": [
      " 67%|██████▋   | 109/163 [01:25<00:33,  1.60it/s]"
     ]
    },
    {
     "name": "stdout",
     "output_type": "stream",
     "text": [
      "{'<OD>': {'bboxes': [], 'labels': []}}\n",
      "{'<OD>': {'bboxes': [[0.1599999964237213, 0.1599999964237213, 319.5199890136719, 319.5199890136719]], 'labels': ['brick kilns with chimney']}}\n",
      "{'<OD>': {'bboxes': [], 'labels': []}}\n",
      "{'<OD>': {'bboxes': [], 'labels': []}}\n",
      "Detections(xyxy=array([[1.6000e-01, 1.6000e-01, 3.2016e+02, 3.2016e+02]], dtype=float32), mask=None, confidence=None, class_id=None, tracker_id=None, data={'class_name': array(['background'], dtype='<U10')}, metadata={})\n",
      "Detections(xyxy=array([[1.6000e-01, 1.6000e-01, 3.2016e+02, 3.2016e+02]], dtype=float32), mask=None, confidence=None, class_id=None, tracker_id=None, data={'class_name': array(['background'], dtype='<U10')}, metadata={})\n",
      "Detections(xyxy=array([[1.6000e-01, 1.6000e-01, 3.2016e+02, 3.2016e+02]], dtype=float32), mask=None, confidence=None, class_id=None, tracker_id=None, data={'class_name': array(['background'], dtype='<U10')}, metadata={})\n",
      "Detections(xyxy=array([[1.6000e-01, 1.6000e-01, 3.2016e+02, 3.2016e+02]], dtype=float32), mask=None, confidence=None, class_id=None, tracker_id=None, data={'class_name': array(['background'], dtype='<U10')}, metadata={})\n"
     ]
    },
    {
     "name": "stderr",
     "output_type": "stream",
     "text": [
      " 67%|██████▋   | 110/163 [01:26<00:31,  1.66it/s]"
     ]
    },
    {
     "name": "stdout",
     "output_type": "stream",
     "text": [
      "{'<OD>': {'bboxes': [], 'labels': []}}\n",
      "{'<OD>': {'bboxes': [[0.1599999964237213, 0.1599999964237213, 319.5199890136719, 319.5199890136719]], 'labels': ['building']}}\n",
      "{'<OD>': {'bboxes': [[0.1599999964237213, 0.1599999964237213, 319.5199890136719, 319.5199890136719]], 'labels': ['building']}}\n",
      "{'<OD>': {'bboxes': [[0.1599999964237213, 0.1599999964237213, 319.5199890136719, 319.5199890136719]], 'labels': ['brick kilns with chimney']}}\n",
      "Detections(xyxy=array([[1.6000e-01, 1.6000e-01, 3.2016e+02, 3.2016e+02]], dtype=float32), mask=None, confidence=None, class_id=None, tracker_id=None, data={'class_name': array(['background'], dtype='<U10')}, metadata={})\n",
      "Detections(xyxy=array([[1.6000e-01, 1.6000e-01, 3.2016e+02, 3.2016e+02]], dtype=float32), mask=None, confidence=None, class_id=None, tracker_id=None, data={'class_name': array(['background'], dtype='<U10')}, metadata={})\n",
      "Detections(xyxy=array([[1.6000e-01, 1.6000e-01, 3.2016e+02, 3.2016e+02]], dtype=float32), mask=None, confidence=None, class_id=None, tracker_id=None, data={'class_name': array(['background'], dtype='<U10')}, metadata={})\n",
      "Detections(xyxy=array([[1.6000e-01, 1.6000e-01, 3.2016e+02, 3.2016e+02]], dtype=float32), mask=None, confidence=None, class_id=None, tracker_id=None, data={'class_name': array(['background'], dtype='<U10')}, metadata={})\n"
     ]
    },
    {
     "name": "stderr",
     "output_type": "stream",
     "text": [
      " 68%|██████▊   | 111/163 [01:26<00:28,  1.80it/s]"
     ]
    },
    {
     "name": "stdout",
     "output_type": "stream",
     "text": [
      "{'<OD>': {'bboxes': [[0.1599999964237213, 0.1599999964237213, 319.5199890136719, 319.5199890136719]], 'labels': ['brick kilns with chimney']}}\n",
      "{'<OD>': {'bboxes': [], 'labels': []}}\n",
      "{'<OD>': {'bboxes': [], 'labels': []}}\n",
      "{'<OD>': {'bboxes': [], 'labels': []}}\n",
      "Detections(xyxy=array([[1.6000e-01, 1.6000e-01, 3.2016e+02, 3.2016e+02]], dtype=float32), mask=None, confidence=None, class_id=None, tracker_id=None, data={'class_name': array(['background'], dtype='<U10')}, metadata={})\n",
      "Detections(xyxy=array([[1.6000e-01, 1.6000e-01, 3.2016e+02, 3.2016e+02]], dtype=float32), mask=None, confidence=None, class_id=None, tracker_id=None, data={'class_name': array(['background'], dtype='<U10')}, metadata={})\n",
      "Detections(xyxy=array([[1.6000e-01, 1.6000e-01, 3.2016e+02, 3.2016e+02]], dtype=float32), mask=None, confidence=None, class_id=None, tracker_id=None, data={'class_name': array(['background'], dtype='<U10')}, metadata={})\n",
      "Detections(xyxy=array([[1.6000e-01, 1.6000e-01, 3.2016e+02, 3.2016e+02]], dtype=float32), mask=None, confidence=None, class_id=None, tracker_id=None, data={'class_name': array(['background'], dtype='<U10')}, metadata={})\n"
     ]
    },
    {
     "name": "stderr",
     "output_type": "stream",
     "text": [
      " 69%|██████▊   | 112/163 [01:27<00:26,  1.91it/s]"
     ]
    },
    {
     "name": "stdout",
     "output_type": "stream",
     "text": [
      "{'<OD>': {'bboxes': [], 'labels': []}}\n",
      "{'<OD>': {'bboxes': [[0.1599999964237213, 0.1599999964237213, 319.5199890136719, 319.5199890136719]], 'labels': ['brick kilns with chimney']}}\n",
      "{'<OD>': {'bboxes': [], 'labels': []}}\n",
      "{'<OD>': {'bboxes': [], 'labels': []}}\n",
      "Detections(xyxy=array([[1.6000e-01, 1.6000e-01, 3.2016e+02, 3.2016e+02]], dtype=float32), mask=None, confidence=None, class_id=None, tracker_id=None, data={'class_name': array(['background'], dtype='<U10')}, metadata={})\n",
      "Detections(xyxy=array([[1.6000e-01, 1.6000e-01, 3.2016e+02, 3.2016e+02]], dtype=float32), mask=None, confidence=None, class_id=None, tracker_id=None, data={'class_name': array(['background'], dtype='<U10')}, metadata={})\n",
      "Detections(xyxy=array([[1.6000e-01, 1.6000e-01, 3.2016e+02, 3.2016e+02]], dtype=float32), mask=None, confidence=None, class_id=None, tracker_id=None, data={'class_name': array(['background'], dtype='<U10')}, metadata={})\n",
      "Detections(xyxy=array([[ 25.119999, 100.      ,  42.079998, 129.12    ]], dtype=float32), mask=None, confidence=None, class_id=None, tracker_id=None, data={'class_name': array(['brick kilns with chimney'], dtype='<U24')}, metadata={})\n"
     ]
    },
    {
     "name": "stderr",
     "output_type": "stream",
     "text": [
      " 69%|██████▉   | 113/163 [01:27<00:24,  2.01it/s]"
     ]
    },
    {
     "name": "stdout",
     "output_type": "stream",
     "text": [
      "{'<OD>': {'bboxes': [[0.1599999964237213, 0.1599999964237213, 319.5199890136719, 319.5199890136719]], 'labels': ['clock tower']}}\n",
      "{'<OD>': {'bboxes': [], 'labels': []}}\n",
      "{'<OD>': {'bboxes': [[0.1599999964237213, 0.1599999964237213, 319.5199890136719, 319.5199890136719]], 'labels': ['building']}}\n",
      "{'<OD>': {'bboxes': [], 'labels': []}}\n",
      "Detections(xyxy=array([[1.6000e-01, 1.6000e-01, 3.2016e+02, 3.2016e+02]], dtype=float32), mask=None, confidence=None, class_id=None, tracker_id=None, data={'class_name': array(['background'], dtype='<U10')}, metadata={})\n",
      "Detections(xyxy=array([[1.6000e-01, 1.6000e-01, 3.2016e+02, 3.2016e+02]], dtype=float32), mask=None, confidence=None, class_id=None, tracker_id=None, data={'class_name': array(['background'], dtype='<U10')}, metadata={})\n",
      "Detections(xyxy=array([[1.6000e-01, 1.6000e-01, 3.2016e+02, 3.2016e+02]], dtype=float32), mask=None, confidence=None, class_id=None, tracker_id=None, data={'class_name': array(['background'], dtype='<U10')}, metadata={})\n",
      "Detections(xyxy=array([[1.6000e-01, 1.6000e-01, 3.2016e+02, 3.2016e+02]], dtype=float32), mask=None, confidence=None, class_id=None, tracker_id=None, data={'class_name': array(['background'], dtype='<U10')}, metadata={})\n"
     ]
    },
    {
     "name": "stderr",
     "output_type": "stream",
     "text": [
      " 70%|██████▉   | 114/163 [01:27<00:23,  2.08it/s]"
     ]
    },
    {
     "name": "stdout",
     "output_type": "stream",
     "text": [
      "{'<OD>': {'bboxes': [[0.1599999964237213, 0.1599999964237213, 319.5199890136719, 319.5199890136719]], 'labels': ['building']}}\n",
      "{'<OD>': {'bboxes': [[0.1599999964237213, 0.1599999964237213, 319.5199890136719, 319.5199890136719]], 'labels': ['building']}}\n",
      "{'<OD>': {'bboxes': [[0.1599999964237213, 0.1599999964237213, 319.5199890136719, 319.5199890136719]], 'labels': ['building']}}\n",
      "{'<OD>': {'bboxes': [[0.1599999964237213, 0.1599999964237213, 319.5199890136719, 319.5199890136719]], 'labels': ['maple']}}\n",
      "Detections(xyxy=array([[1.6000e-01, 1.6000e-01, 3.2016e+02, 3.2016e+02]], dtype=float32), mask=None, confidence=None, class_id=None, tracker_id=None, data={'class_name': array(['background'], dtype='<U10')}, metadata={})\n",
      "Detections(xyxy=array([[1.6000e-01, 1.6000e-01, 3.2016e+02, 3.2016e+02]], dtype=float32), mask=None, confidence=None, class_id=None, tracker_id=None, data={'class_name': array(['background'], dtype='<U10')}, metadata={})\n",
      "Detections(xyxy=array([[1.6000e-01, 1.6000e-01, 3.2016e+02, 3.2016e+02]], dtype=float32), mask=None, confidence=None, class_id=None, tracker_id=None, data={'class_name': array(['background'], dtype='<U10')}, metadata={})\n",
      "Detections(xyxy=array([[1.6000e-01, 1.6000e-01, 3.2016e+02, 3.2016e+02]], dtype=float32), mask=None, confidence=None, class_id=None, tracker_id=None, data={'class_name': array(['background'], dtype='<U10')}, metadata={})\n"
     ]
    },
    {
     "name": "stderr",
     "output_type": "stream",
     "text": [
      " 71%|███████   | 115/163 [01:28<00:23,  2.06it/s]"
     ]
    },
    {
     "name": "stdout",
     "output_type": "stream",
     "text": [
      "{'<OD>': {'bboxes': [], 'labels': []}}\n",
      "{'<OD>': {'bboxes': [[0.1599999964237213, 0.1599999964237213, 319.5199890136719, 319.5199890136719]], 'labels': ['building']}}\n",
      "{'<OD>': {'bboxes': [[0.1599999964237213, 0.1599999964237213, 319.5199890136719, 319.5199890136719]], 'labels': ['brick kilns with chimney']}}\n",
      "{'<OD>': {'bboxes': [], 'labels': []}}\n",
      "Detections(xyxy=array([[1.6000e-01, 1.6000e-01, 3.2016e+02, 3.2016e+02]], dtype=float32), mask=None, confidence=None, class_id=None, tracker_id=None, data={'class_name': array(['background'], dtype='<U10')}, metadata={})\n",
      "Detections(xyxy=array([[1.6000e-01, 1.6000e-01, 3.2016e+02, 3.2016e+02]], dtype=float32), mask=None, confidence=None, class_id=None, tracker_id=None, data={'class_name': array(['background'], dtype='<U10')}, metadata={})\n",
      "Detections(xyxy=array([[1.6000e-01, 1.6000e-01, 3.2016e+02, 3.2016e+02]], dtype=float32), mask=None, confidence=None, class_id=None, tracker_id=None, data={'class_name': array(['background'], dtype='<U10')}, metadata={})\n",
      "Detections(xyxy=array([[1.6000e-01, 1.6000e-01, 3.2016e+02, 3.2016e+02]], dtype=float32), mask=None, confidence=None, class_id=None, tracker_id=None, data={'class_name': array(['background'], dtype='<U10')}, metadata={})\n"
     ]
    },
    {
     "name": "stderr",
     "output_type": "stream",
     "text": [
      " 71%|███████   | 116/163 [01:28<00:22,  2.11it/s]"
     ]
    },
    {
     "name": "stdout",
     "output_type": "stream",
     "text": [
      "{'<OD>': {'bboxes': [], 'labels': []}}\n",
      "{'<OD>': {'bboxes': [], 'labels': []}}\n",
      "{'<OD>': {'bboxes': [], 'labels': []}}\n",
      "{'<OD>': {'bboxes': [[0.1599999964237213, 0.1599999964237213, 319.5199890136719, 319.5199890136719]], 'labels': ['building']}}\n",
      "Detections(xyxy=array([[126.24, 253.28, 152.16, 284.32]], dtype=float32), mask=None, confidence=None, class_id=None, tracker_id=None, data={'class_name': array(['brick kilns with chimney'], dtype='<U24')}, metadata={})\n",
      "Detections(xyxy=array([[1.6000e-01, 1.6000e-01, 3.2016e+02, 3.2016e+02]], dtype=float32), mask=None, confidence=None, class_id=None, tracker_id=None, data={'class_name': array(['background'], dtype='<U10')}, metadata={})\n",
      "Detections(xyxy=array([[ 16.16   , 190.23999,  39.2    , 217.12   ]], dtype=float32), mask=None, confidence=None, class_id=None, tracker_id=None, data={'class_name': array(['brick kilns with chimney'], dtype='<U24')}, metadata={})\n",
      "Detections(xyxy=array([[1.6000e-01, 1.6000e-01, 3.2016e+02, 3.2016e+02]], dtype=float32), mask=None, confidence=None, class_id=None, tracker_id=None, data={'class_name': array(['background'], dtype='<U10')}, metadata={})\n"
     ]
    },
    {
     "name": "stderr",
     "output_type": "stream",
     "text": [
      " 72%|███████▏  | 117/163 [01:29<00:21,  2.12it/s]"
     ]
    },
    {
     "name": "stdout",
     "output_type": "stream",
     "text": [
      "{'<OD>': {'bboxes': [], 'labels': []}}\n",
      "{'<OD>': {'bboxes': [[0.1599999964237213, 0.1599999964237213, 319.5199890136719, 319.5199890136719]], 'labels': ['building']}}\n",
      "{'<OD>': {'bboxes': [[0.1599999964237213, 0.1599999964237213, 319.5199890136719, 319.5199890136719]], 'labels': ['building']}}\n",
      "{'<OD>': {'bboxes': [[0.1599999964237213, 0.1599999964237213, 319.5199890136719, 319.5199890136719]], 'labels': ['maple']}}\n",
      "Detections(xyxy=array([[1.6000e-01, 1.6000e-01, 3.2016e+02, 3.2016e+02]], dtype=float32), mask=None, confidence=None, class_id=None, tracker_id=None, data={'class_name': array(['background'], dtype='<U10')}, metadata={})\n",
      "Detections(xyxy=array([[1.6000e-01, 1.6000e-01, 3.2016e+02, 3.2016e+02]], dtype=float32), mask=None, confidence=None, class_id=None, tracker_id=None, data={'class_name': array(['background'], dtype='<U10')}, metadata={})\n",
      "Detections(xyxy=array([[1.6000e-01, 1.6000e-01, 3.2016e+02, 3.2016e+02]], dtype=float32), mask=None, confidence=None, class_id=None, tracker_id=None, data={'class_name': array(['background'], dtype='<U10')}, metadata={})\n",
      "Detections(xyxy=array([[1.6000e-01, 1.6000e-01, 3.2016e+02, 3.2016e+02]], dtype=float32), mask=None, confidence=None, class_id=None, tracker_id=None, data={'class_name': array(['background'], dtype='<U10')}, metadata={})\n"
     ]
    },
    {
     "name": "stderr",
     "output_type": "stream",
     "text": [
      " 72%|███████▏  | 118/163 [01:29<00:20,  2.18it/s]"
     ]
    },
    {
     "name": "stdout",
     "output_type": "stream",
     "text": [
      "{'<OD>': {'bboxes': [], 'labels': []}}\n",
      "{'<OD>': {'bboxes': [], 'labels': []}}\n",
      "{'<OD>': {'bboxes': [], 'labels': []}}\n",
      "{'<OD>': {'bboxes': [], 'labels': []}}\n",
      "Detections(xyxy=array([[1.6000e-01, 1.6000e-01, 3.2016e+02, 3.2016e+02]], dtype=float32), mask=None, confidence=None, class_id=None, tracker_id=None, data={'class_name': array(['background'], dtype='<U10')}, metadata={})\n",
      "Detections(xyxy=array([[1.6000e-01, 1.6000e-01, 3.2016e+02, 3.2016e+02]], dtype=float32), mask=None, confidence=None, class_id=None, tracker_id=None, data={'class_name': array(['background'], dtype='<U10')}, metadata={})\n",
      "Detections(xyxy=array([[1.6000e-01, 1.6000e-01, 3.2016e+02, 3.2016e+02]], dtype=float32), mask=None, confidence=None, class_id=None, tracker_id=None, data={'class_name': array(['background'], dtype='<U10')}, metadata={})\n",
      "Detections(xyxy=array([[1.6000e-01, 1.6000e-01, 3.2016e+02, 3.2016e+02]], dtype=float32), mask=None, confidence=None, class_id=None, tracker_id=None, data={'class_name': array(['background'], dtype='<U10')}, metadata={})\n"
     ]
    },
    {
     "name": "stderr",
     "output_type": "stream",
     "text": [
      " 73%|███████▎  | 119/163 [01:30<00:19,  2.27it/s]"
     ]
    },
    {
     "name": "stdout",
     "output_type": "stream",
     "text": [
      "{'<OD>': {'bboxes': [[0.1599999964237213, 0.1599999964237213, 319.5199890136719, 319.5199890136719]], 'labels': ['brick kilns with chimney']}}\n",
      "{'<OD>': {'bboxes': [], 'labels': []}}\n",
      "{'<OD>': {'bboxes': [[0.1599999964237213, 0.1599999964237213, 319.5199890136719, 319.5199890136719]], 'labels': ['brick kilns with chimney']}}\n",
      "{'<OD>': {'bboxes': [[0.1599999964237213, 0.1599999964237213, 319.5199890136719, 319.5199890136719]], 'labels': ['building']}}\n",
      "Detections(xyxy=array([[1.6000e-01, 1.6000e-01, 3.2016e+02, 3.2016e+02]], dtype=float32), mask=None, confidence=None, class_id=None, tracker_id=None, data={'class_name': array(['background'], dtype='<U10')}, metadata={})\n",
      "Detections(xyxy=array([[1.6000e-01, 1.6000e-01, 3.2016e+02, 3.2016e+02]], dtype=float32), mask=None, confidence=None, class_id=None, tracker_id=None, data={'class_name': array(['background'], dtype='<U10')}, metadata={})\n",
      "Detections(xyxy=array([[1.6000e-01, 1.6000e-01, 3.2016e+02, 3.2016e+02]], dtype=float32), mask=None, confidence=None, class_id=None, tracker_id=None, data={'class_name': array(['background'], dtype='<U10')}, metadata={})\n",
      "Detections(xyxy=array([[1.6000e-01, 1.6000e-01, 3.2016e+02, 3.2016e+02]], dtype=float32), mask=None, confidence=None, class_id=None, tracker_id=None, data={'class_name': array(['background'], dtype='<U10')}, metadata={})\n"
     ]
    },
    {
     "name": "stderr",
     "output_type": "stream",
     "text": [
      " 74%|███████▎  | 120/163 [01:30<00:20,  2.12it/s]"
     ]
    },
    {
     "name": "stdout",
     "output_type": "stream",
     "text": [
      "{'<OD>': {'bboxes': [], 'labels': []}}\n",
      "{'<OD>': {'bboxes': [], 'labels': []}}\n",
      "{'<OD>': {'bboxes': [[0.1599999964237213, 0.1599999964237213, 319.5199890136719, 319.5199890136719]], 'labels': ['brick kilns with chimney']}}\n",
      "{'<OD>': {'bboxes': [], 'labels': []}}\n",
      "Detections(xyxy=array([[1.6000e-01, 1.6000e-01, 3.2016e+02, 3.2016e+02]], dtype=float32), mask=None, confidence=None, class_id=None, tracker_id=None, data={'class_name': array(['background'], dtype='<U10')}, metadata={})\n",
      "Detections(xyxy=array([[1.6000e-01, 1.6000e-01, 3.2016e+02, 3.2016e+02]], dtype=float32), mask=None, confidence=None, class_id=None, tracker_id=None, data={'class_name': array(['background'], dtype='<U10')}, metadata={})\n",
      "Detections(xyxy=array([[1.6000e-01, 1.6000e-01, 3.2016e+02, 3.2016e+02]], dtype=float32), mask=None, confidence=None, class_id=None, tracker_id=None, data={'class_name': array(['background'], dtype='<U10')}, metadata={})\n",
      "Detections(xyxy=array([[1.6000e-01, 1.6000e-01, 3.2016e+02, 3.2016e+02]], dtype=float32), mask=None, confidence=None, class_id=None, tracker_id=None, data={'class_name': array(['background'], dtype='<U10')}, metadata={})\n"
     ]
    },
    {
     "name": "stderr",
     "output_type": "stream",
     "text": [
      " 74%|███████▍  | 121/163 [01:31<00:19,  2.15it/s]"
     ]
    },
    {
     "name": "stdout",
     "output_type": "stream",
     "text": [
      "{'<OD>': {'bboxes': [[0.1599999964237213, 0.1599999964237213, 319.5199890136719, 319.5199890136719]], 'labels': ['building']}}\n",
      "{'<OD>': {'bboxes': [[0.1599999964237213, 0.1599999964237213, 319.5199890136719, 319.5199890136719]], 'labels': ['building']}}\n",
      "{'<OD>': {'bboxes': [[0.1599999964237213, 0.1599999964237213, 319.5199890136719, 319.5199890136719]], 'labels': ['building']}}\n",
      "{'<OD>': {'bboxes': [], 'labels': []}}\n",
      "Detections(xyxy=array([[1.6000e-01, 1.6000e-01, 3.2016e+02, 3.2016e+02]], dtype=float32), mask=None, confidence=None, class_id=None, tracker_id=None, data={'class_name': array(['background'], dtype='<U10')}, metadata={})\n",
      "Detections(xyxy=array([[1.6000e-01, 1.6000e-01, 3.2016e+02, 3.2016e+02]], dtype=float32), mask=None, confidence=None, class_id=None, tracker_id=None, data={'class_name': array(['background'], dtype='<U10')}, metadata={})\n",
      "Detections(xyxy=array([[1.6000e-01, 1.6000e-01, 3.2016e+02, 3.2016e+02]], dtype=float32), mask=None, confidence=None, class_id=None, tracker_id=None, data={'class_name': array(['background'], dtype='<U10')}, metadata={})\n",
      "Detections(xyxy=array([[1.6000e-01, 1.6000e-01, 3.2016e+02, 3.2016e+02]], dtype=float32), mask=None, confidence=None, class_id=None, tracker_id=None, data={'class_name': array(['background'], dtype='<U10')}, metadata={})\n"
     ]
    },
    {
     "name": "stderr",
     "output_type": "stream",
     "text": [
      " 75%|███████▍  | 122/163 [01:31<00:19,  2.08it/s]"
     ]
    },
    {
     "name": "stdout",
     "output_type": "stream",
     "text": [
      "{'<OD>': {'bboxes': [[0.1599999964237213, 0.1599999964237213, 319.5199890136719, 319.5199890136719]], 'labels': ['building']}}\n",
      "{'<OD>': {'bboxes': [[0.1599999964237213, 0.1599999964237213, 319.5199890136719, 319.5199890136719]], 'labels': ['building']}}\n",
      "{'<OD>': {'bboxes': [], 'labels': []}}\n",
      "{'<OD>': {'bboxes': [[0.1599999964237213, 0.1599999964237213, 319.5199890136719, 319.5199890136719]], 'labels': ['building']}}\n",
      "Detections(xyxy=array([[1.6000e-01, 1.6000e-01, 3.2016e+02, 3.2016e+02]], dtype=float32), mask=None, confidence=None, class_id=None, tracker_id=None, data={'class_name': array(['background'], dtype='<U10')}, metadata={})\n",
      "Detections(xyxy=array([[1.6000e-01, 1.6000e-01, 3.2016e+02, 3.2016e+02]], dtype=float32), mask=None, confidence=None, class_id=None, tracker_id=None, data={'class_name': array(['background'], dtype='<U10')}, metadata={})\n",
      "Detections(xyxy=array([[1.6000e-01, 1.6000e-01, 3.2016e+02, 3.2016e+02]], dtype=float32), mask=None, confidence=None, class_id=None, tracker_id=None, data={'class_name': array(['background'], dtype='<U10')}, metadata={})\n",
      "Detections(xyxy=array([[1.6000e-01, 1.6000e-01, 3.2016e+02, 3.2016e+02]], dtype=float32), mask=None, confidence=None, class_id=None, tracker_id=None, data={'class_name': array(['background'], dtype='<U10')}, metadata={})\n"
     ]
    },
    {
     "name": "stderr",
     "output_type": "stream",
     "text": [
      " 75%|███████▌  | 123/163 [01:32<00:18,  2.14it/s]"
     ]
    },
    {
     "name": "stdout",
     "output_type": "stream",
     "text": [
      "{'<OD>': {'bboxes': [[0.1599999964237213, 0.1599999964237213, 319.5199890136719, 319.5199890136719]], 'labels': ['building']}}\n",
      "{'<OD>': {'bboxes': [], 'labels': []}}\n",
      "{'<OD>': {'bboxes': [], 'labels': []}}\n",
      "{'<OD>': {'bboxes': [[170.39999389648438, 175.51998901367188, 195.67999267578125, 205.27999877929688]], 'labels': ['brick kilns with chimney']}}\n",
      "Detections(xyxy=array([[1.6000e-01, 1.6000e-01, 3.2016e+02, 3.2016e+02]], dtype=float32), mask=None, confidence=None, class_id=None, tracker_id=None, data={'class_name': array(['background'], dtype='<U10')}, metadata={})\n",
      "Detections(xyxy=array([[1.6000e-01, 1.6000e-01, 3.2016e+02, 3.2016e+02]], dtype=float32), mask=None, confidence=None, class_id=None, tracker_id=None, data={'class_name': array(['background'], dtype='<U10')}, metadata={})\n",
      "Detections(xyxy=array([[1.6000e-01, 1.6000e-01, 3.2016e+02, 3.2016e+02]], dtype=float32), mask=None, confidence=None, class_id=None, tracker_id=None, data={'class_name': array(['background'], dtype='<U10')}, metadata={})\n",
      "Detections(xyxy=array([[171.04, 177.12, 193.12, 203.04]], dtype=float32), mask=None, confidence=None, class_id=None, tracker_id=None, data={'class_name': array(['brick kilns with chimney'], dtype='<U24')}, metadata={})\n"
     ]
    },
    {
     "name": "stderr",
     "output_type": "stream",
     "text": [
      " 76%|███████▌  | 124/163 [01:32<00:17,  2.19it/s]"
     ]
    },
    {
     "name": "stdout",
     "output_type": "stream",
     "text": [
      "{'<OD>': {'bboxes': [[0.1599999964237213, 0.1599999964237213, 319.5199890136719, 319.5199890136719]], 'labels': ['brick chimney']}}\n",
      "{'<OD>': {'bboxes': [], 'labels': []}}\n",
      "{'<OD>': {'bboxes': [], 'labels': []}}\n",
      "{'<OD>': {'bboxes': [[0.1599999964237213, 0.1599999964237213, 319.5199890136719, 319.5199890136719]], 'labels': ['brick kilns with chimney']}}\n",
      "Detections(xyxy=array([[1.6000e-01, 1.6000e-01, 3.2016e+02, 3.2016e+02]], dtype=float32), mask=None, confidence=None, class_id=None, tracker_id=None, data={'class_name': array(['background'], dtype='<U10')}, metadata={})\n",
      "Detections(xyxy=array([[1.6000e-01, 1.6000e-01, 3.2016e+02, 3.2016e+02]], dtype=float32), mask=None, confidence=None, class_id=None, tracker_id=None, data={'class_name': array(['background'], dtype='<U10')}, metadata={})\n",
      "Detections(xyxy=array([[1.6000e-01, 1.6000e-01, 3.2016e+02, 3.2016e+02]], dtype=float32), mask=None, confidence=None, class_id=None, tracker_id=None, data={'class_name': array(['background'], dtype='<U10')}, metadata={})\n",
      "Detections(xyxy=array([[1.6000e-01, 1.6000e-01, 3.2016e+02, 3.2016e+02]], dtype=float32), mask=None, confidence=None, class_id=None, tracker_id=None, data={'class_name': array(['background'], dtype='<U10')}, metadata={})\n"
     ]
    },
    {
     "name": "stderr",
     "output_type": "stream",
     "text": [
      " 77%|███████▋  | 125/163 [01:33<00:17,  2.20it/s]"
     ]
    },
    {
     "name": "stdout",
     "output_type": "stream",
     "text": [
      "{'<OD>': {'bboxes': [], 'labels': []}}\n",
      "{'<OD>': {'bboxes': [], 'labels': []}}\n",
      "{'<OD>': {'bboxes': [], 'labels': []}}\n",
      "{'<OD>': {'bboxes': [], 'labels': []}}\n",
      "Detections(xyxy=array([[1.6000e-01, 1.6000e-01, 3.2016e+02, 3.2016e+02]], dtype=float32), mask=None, confidence=None, class_id=None, tracker_id=None, data={'class_name': array(['background'], dtype='<U10')}, metadata={})\n",
      "Detections(xyxy=array([[1.6000e-01, 1.6000e-01, 3.2016e+02, 3.2016e+02]], dtype=float32), mask=None, confidence=None, class_id=None, tracker_id=None, data={'class_name': array(['background'], dtype='<U10')}, metadata={})\n",
      "Detections(xyxy=array([[1.6000e-01, 1.6000e-01, 3.2016e+02, 3.2016e+02]], dtype=float32), mask=None, confidence=None, class_id=None, tracker_id=None, data={'class_name': array(['background'], dtype='<U10')}, metadata={})\n",
      "Detections(xyxy=array([[1.6000e-01, 1.6000e-01, 3.2016e+02, 3.2016e+02]], dtype=float32), mask=None, confidence=None, class_id=None, tracker_id=None, data={'class_name': array(['background'], dtype='<U10')}, metadata={})\n"
     ]
    },
    {
     "name": "stderr",
     "output_type": "stream",
     "text": [
      " 77%|███████▋  | 126/163 [01:33<00:16,  2.27it/s]"
     ]
    },
    {
     "name": "stdout",
     "output_type": "stream",
     "text": [
      "{'<OD>': {'bboxes': [], 'labels': []}}\n",
      "{'<OD>': {'bboxes': [[0.1599999964237213, 0.1599999964237213, 319.5199890136719, 319.5199890136719]], 'labels': ['brick kilns with chimney']}}\n",
      "{'<OD>': {'bboxes': [[0.1599999964237213, 0.1599999964237213, 319.5199890136719, 319.5199890136719]], 'labels': ['building']}}\n",
      "{'<OD>': {'bboxes': [], 'labels': []}}\n",
      "Detections(xyxy=array([[1.6000e-01, 1.6000e-01, 3.2016e+02, 3.2016e+02]], dtype=float32), mask=None, confidence=None, class_id=None, tracker_id=None, data={'class_name': array(['background'], dtype='<U10')}, metadata={})\n",
      "Detections(xyxy=array([[1.6000e-01, 1.6000e-01, 3.2016e+02, 3.2016e+02]], dtype=float32), mask=None, confidence=None, class_id=None, tracker_id=None, data={'class_name': array(['background'], dtype='<U10')}, metadata={})\n",
      "Detections(xyxy=array([[180.     , 276.     , 209.12   , 303.19998],\n",
      "       [281.12   ,  87.2    , 306.08   , 107.04   ]], dtype=float32), mask=None, confidence=None, class_id=None, tracker_id=None, data={'class_name': array(['brick kilns with chimney', 'brick kilns with chimney'],\n",
      "      dtype='<U24')}, metadata={})\n",
      "Detections(xyxy=array([[1.6000e-01, 1.6000e-01, 3.2016e+02, 3.2016e+02]], dtype=float32), mask=None, confidence=None, class_id=None, tracker_id=None, data={'class_name': array(['background'], dtype='<U10')}, metadata={})\n"
     ]
    },
    {
     "name": "stderr",
     "output_type": "stream",
     "text": [
      " 78%|███████▊  | 127/163 [01:33<00:15,  2.33it/s]"
     ]
    },
    {
     "name": "stdout",
     "output_type": "stream",
     "text": [
      "{'<OD>': {'bboxes': [[177.1199951171875, 276.32000732421875, 198.239990234375, 295.1999816894531]], 'labels': ['brick kilns with chimney']}}\n",
      "{'<OD>': {'bboxes': [[0.1599999964237213, 0.1599999964237213, 319.5199890136719, 319.5199890136719]], 'labels': ['brick kilns with chimney']}}\n",
      "{'<OD>': {'bboxes': [], 'labels': []}}\n",
      "{'<OD>': {'bboxes': [[0.1599999964237213, 0.1599999964237213, 319.5199890136719, 319.5199890136719]], 'labels': ['brick kilns with chimney']}}\n",
      "Detections(xyxy=array([[1.6000e-01, 1.6000e-01, 3.2016e+02, 3.2016e+02]], dtype=float32), mask=None, confidence=None, class_id=None, tracker_id=None, data={'class_name': array(['background'], dtype='<U10')}, metadata={})\n",
      "Detections(xyxy=array([[1.6000e-01, 1.6000e-01, 3.2016e+02, 3.2016e+02]], dtype=float32), mask=None, confidence=None, class_id=None, tracker_id=None, data={'class_name': array(['background'], dtype='<U10')}, metadata={})\n",
      "Detections(xyxy=array([[1.6000e-01, 1.6000e-01, 3.2016e+02, 3.2016e+02]], dtype=float32), mask=None, confidence=None, class_id=None, tracker_id=None, data={'class_name': array(['background'], dtype='<U10')}, metadata={})\n",
      "Detections(xyxy=array([[1.6000e-01, 1.6000e-01, 3.2016e+02, 3.2016e+02]], dtype=float32), mask=None, confidence=None, class_id=None, tracker_id=None, data={'class_name': array(['background'], dtype='<U10')}, metadata={})\n"
     ]
    },
    {
     "name": "stderr",
     "output_type": "stream",
     "text": [
      " 79%|███████▊  | 128/163 [01:34<00:15,  2.30it/s]"
     ]
    },
    {
     "name": "stdout",
     "output_type": "stream",
     "text": [
      "{'<OD>': {'bboxes': [], 'labels': []}}\n",
      "{'<OD>': {'bboxes': [[0.1599999964237213, 0.1599999964237213, 319.5199890136719, 319.5199890136719]], 'labels': ['brick kilns with chimney']}}\n",
      "{'<OD>': {'bboxes': [], 'labels': []}}\n",
      "{'<OD>': {'bboxes': [], 'labels': []}}\n",
      "Detections(xyxy=array([[1.6000e-01, 1.6000e-01, 3.2016e+02, 3.2016e+02]], dtype=float32), mask=None, confidence=None, class_id=None, tracker_id=None, data={'class_name': array(['background'], dtype='<U10')}, metadata={})\n",
      "Detections(xyxy=array([[1.6000e-01, 1.6000e-01, 3.2016e+02, 3.2016e+02]], dtype=float32), mask=None, confidence=None, class_id=None, tracker_id=None, data={'class_name': array(['background'], dtype='<U10')}, metadata={})\n",
      "Detections(xyxy=array([[ 81.119995, 273.12    , 105.119995, 292.      ],\n",
      "       [140.31999 , 238.23999 , 164.      , 268.32    ],\n",
      "       [133.28    ,  92.32    , 152.16    , 115.04    ],\n",
      "       [ 25.119999,  87.2     ,  50.079998, 107.04    ],\n",
      "       [130.08    ,  80.159996, 156.31999 , 102.24    ]], dtype=float32), mask=None, confidence=None, class_id=None, tracker_id=None, data={'class_name': array(['brick kilns with chimney', 'brick kilns with chimney',\n",
      "       'brick kilns with chimney', 'brick kilns with chimney',\n",
      "       'brick kilns with chimney'], dtype='<U24')}, metadata={})\n",
      "Detections(xyxy=array([[1.6000e-01, 1.6000e-01, 3.2016e+02, 3.2016e+02]], dtype=float32), mask=None, confidence=None, class_id=None, tracker_id=None, data={'class_name': array(['background'], dtype='<U10')}, metadata={})\n"
     ]
    },
    {
     "name": "stderr",
     "output_type": "stream",
     "text": [
      " 79%|███████▉  | 129/163 [01:34<00:15,  2.21it/s]"
     ]
    },
    {
     "name": "stdout",
     "output_type": "stream",
     "text": [
      "{'<OD>': {'bboxes': [[0.1599999964237213, 0.1599999964237213, 319.5199890136719, 319.5199890136719]], 'labels': ['brick kilns with chimney']}}\n",
      "{'<OD>': {'bboxes': [], 'labels': []}}\n",
      "{'<OD>': {'bboxes': [], 'labels': []}}\n",
      "{'<OD>': {'bboxes': [], 'labels': []}}\n",
      "Detections(xyxy=array([[1.6000e-01, 1.6000e-01, 3.2016e+02, 3.2016e+02]], dtype=float32), mask=None, confidence=None, class_id=None, tracker_id=None, data={'class_name': array(['background'], dtype='<U10')}, metadata={})\n",
      "Detections(xyxy=array([[1.6000e-01, 1.6000e-01, 3.2016e+02, 3.2016e+02]], dtype=float32), mask=None, confidence=None, class_id=None, tracker_id=None, data={'class_name': array(['background'], dtype='<U10')}, metadata={})\n",
      "Detections(xyxy=array([[1.6000e-01, 1.6000e-01, 3.2016e+02, 3.2016e+02]], dtype=float32), mask=None, confidence=None, class_id=None, tracker_id=None, data={'class_name': array(['background'], dtype='<U10')}, metadata={})\n",
      "Detections(xyxy=array([[1.6000e-01, 1.6000e-01, 3.2016e+02, 3.2016e+02]], dtype=float32), mask=None, confidence=None, class_id=None, tracker_id=None, data={'class_name': array(['background'], dtype='<U10')}, metadata={})\n"
     ]
    },
    {
     "name": "stderr",
     "output_type": "stream",
     "text": [
      " 80%|███████▉  | 130/163 [01:35<00:14,  2.22it/s]"
     ]
    },
    {
     "name": "stdout",
     "output_type": "stream",
     "text": [
      "{'<OD>': {'bboxes': [[0.1599999964237213, 0.1599999964237213, 319.5199890136719, 319.5199890136719]], 'labels': ['brick kilns with chimney']}}\n",
      "{'<OD>': {'bboxes': [], 'labels': []}}\n",
      "{'<OD>': {'bboxes': [], 'labels': []}}\n",
      "{'<OD>': {'bboxes': [[0.1599999964237213, 0.1599999964237213, 319.5199890136719, 319.5199890136719]], 'labels': ['maple']}}\n",
      "Detections(xyxy=array([[1.6000e-01, 1.6000e-01, 3.2016e+02, 3.2016e+02]], dtype=float32), mask=None, confidence=None, class_id=None, tracker_id=None, data={'class_name': array(['background'], dtype='<U10')}, metadata={})\n",
      "Detections(xyxy=array([[1.6000e-01, 1.6000e-01, 3.2016e+02, 3.2016e+02]], dtype=float32), mask=None, confidence=None, class_id=None, tracker_id=None, data={'class_name': array(['background'], dtype='<U10')}, metadata={})\n",
      "Detections(xyxy=array([[1.6000e-01, 1.6000e-01, 3.2016e+02, 3.2016e+02]], dtype=float32), mask=None, confidence=None, class_id=None, tracker_id=None, data={'class_name': array(['background'], dtype='<U10')}, metadata={})\n",
      "Detections(xyxy=array([[1.6000e-01, 1.6000e-01, 3.2016e+02, 3.2016e+02]], dtype=float32), mask=None, confidence=None, class_id=None, tracker_id=None, data={'class_name': array(['background'], dtype='<U10')}, metadata={})\n"
     ]
    },
    {
     "name": "stderr",
     "output_type": "stream",
     "text": [
      " 80%|████████  | 131/163 [01:35<00:14,  2.25it/s]"
     ]
    },
    {
     "name": "stdout",
     "output_type": "stream",
     "text": [
      "{'<OD>': {'bboxes': [], 'labels': []}}\n",
      "{'<OD>': {'bboxes': [], 'labels': []}}\n",
      "{'<OD>': {'bboxes': [[0.1599999964237213, 0.1599999964237213, 319.5199890136719, 319.5199890136719]], 'labels': ['brick kilns with chimney']}}\n",
      "{'<OD>': {'bboxes': [], 'labels': []}}\n",
      "Detections(xyxy=array([[1.6000e-01, 1.6000e-01, 3.2016e+02, 3.2016e+02]], dtype=float32), mask=None, confidence=None, class_id=None, tracker_id=None, data={'class_name': array(['background'], dtype='<U10')}, metadata={})\n",
      "Detections(xyxy=array([[1.6000e-01, 1.6000e-01, 3.2016e+02, 3.2016e+02]], dtype=float32), mask=None, confidence=None, class_id=None, tracker_id=None, data={'class_name': array(['background'], dtype='<U10')}, metadata={})\n",
      "Detections(xyxy=array([[1.6000e-01, 1.6000e-01, 3.2016e+02, 3.2016e+02]], dtype=float32), mask=None, confidence=None, class_id=None, tracker_id=None, data={'class_name': array(['background'], dtype='<U10')}, metadata={})\n",
      "Detections(xyxy=array([[1.6000e-01, 1.6000e-01, 3.2016e+02, 3.2016e+02]], dtype=float32), mask=None, confidence=None, class_id=None, tracker_id=None, data={'class_name': array(['background'], dtype='<U10')}, metadata={})\n"
     ]
    },
    {
     "name": "stderr",
     "output_type": "stream",
     "text": [
      " 81%|████████  | 132/163 [01:36<00:13,  2.25it/s]"
     ]
    },
    {
     "name": "stdout",
     "output_type": "stream",
     "text": [
      "{'<OD>': {'bboxes': [], 'labels': []}}\n",
      "{'<OD>': {'bboxes': [], 'labels': []}}\n",
      "{'<OD>': {'bboxes': [], 'labels': []}}\n",
      "{'<OD>': {'bboxes': [], 'labels': []}}\n",
      "Detections(xyxy=array([[126.24   , 223.2    , 148.     , 248.15999],\n",
      "       [ 24.16   ,   4.     ,  52.     ,  28.32   ]], dtype=float32), mask=None, confidence=None, class_id=None, tracker_id=None, data={'class_name': array(['brick kilns with chimney', 'brick kilns with chimney'],\n",
      "      dtype='<U24')}, metadata={})\n",
      "Detections(xyxy=array([[244.     , 180.     , 273.12   , 204.31999],\n",
      "       [ 24.16   , 260.     ,  52.     , 284.32   ]], dtype=float32), mask=None, confidence=None, class_id=None, tracker_id=None, data={'class_name': array(['brick kilns with chimney', 'brick kilns with chimney'],\n",
      "      dtype='<U24')}, metadata={})\n",
      "Detections(xyxy=array([[1.6000e-01, 1.6000e-01, 3.2016e+02, 3.2016e+02]], dtype=float32), mask=None, confidence=None, class_id=None, tracker_id=None, data={'class_name': array(['background'], dtype='<U10')}, metadata={})\n",
      "Detections(xyxy=array([[1.6000e-01, 1.6000e-01, 3.2016e+02, 3.2016e+02]], dtype=float32), mask=None, confidence=None, class_id=None, tracker_id=None, data={'class_name': array(['background'], dtype='<U10')}, metadata={})\n"
     ]
    },
    {
     "name": "stderr",
     "output_type": "stream",
     "text": [
      " 82%|████████▏ | 133/163 [01:36<00:13,  2.24it/s]"
     ]
    },
    {
     "name": "stdout",
     "output_type": "stream",
     "text": [
      "{'<OD>': {'bboxes': [], 'labels': []}}\n",
      "{'<OD>': {'bboxes': [[0.1599999964237213, 0.1599999964237213, 319.5199890136719, 319.5199890136719]], 'labels': ['brick kilns with chimney']}}\n",
      "{'<OD>': {'bboxes': [], 'labels': []}}\n",
      "{'<OD>': {'bboxes': [[0.1599999964237213, 0.1599999964237213, 319.5199890136719, 319.5199890136719]], 'labels': ['building']}}\n",
      "Detections(xyxy=array([[ 87.2     , 100.      , 121.119995, 136.16    ]], dtype=float32), mask=None, confidence=None, class_id=None, tracker_id=None, data={'class_name': array(['brick kilns with chimney'], dtype='<U24')}, metadata={})\n",
      "Detections(xyxy=array([[1.6000e-01, 1.6000e-01, 3.2016e+02, 3.2016e+02]], dtype=float32), mask=None, confidence=None, class_id=None, tracker_id=None, data={'class_name': array(['background'], dtype='<U10')}, metadata={})\n",
      "Detections(xyxy=array([[1.6000e-01, 1.6000e-01, 3.2016e+02, 3.2016e+02]], dtype=float32), mask=None, confidence=None, class_id=None, tracker_id=None, data={'class_name': array(['background'], dtype='<U10')}, metadata={})\n",
      "Detections(xyxy=array([[1.6000e-01, 1.6000e-01, 3.2016e+02, 3.2016e+02]], dtype=float32), mask=None, confidence=None, class_id=None, tracker_id=None, data={'class_name': array(['background'], dtype='<U10')}, metadata={})\n"
     ]
    },
    {
     "name": "stderr",
     "output_type": "stream",
     "text": [
      " 82%|████████▏ | 134/163 [01:36<00:12,  2.25it/s]"
     ]
    },
    {
     "name": "stdout",
     "output_type": "stream",
     "text": [
      "{'<OD>': {'bboxes': [], 'labels': []}}\n",
      "{'<OD>': {'bboxes': [], 'labels': []}}\n",
      "{'<OD>': {'bboxes': [], 'labels': []}}\n",
      "{'<OD>': {'bboxes': [], 'labels': []}}\n",
      "Detections(xyxy=array([[1.6000e-01, 1.6000e-01, 3.2016e+02, 3.2016e+02]], dtype=float32), mask=None, confidence=None, class_id=None, tracker_id=None, data={'class_name': array(['background'], dtype='<U10')}, metadata={})\n",
      "Detections(xyxy=array([[1.6000e-01, 1.6000e-01, 3.2016e+02, 3.2016e+02]], dtype=float32), mask=None, confidence=None, class_id=None, tracker_id=None, data={'class_name': array(['background'], dtype='<U10')}, metadata={})\n",
      "Detections(xyxy=array([[1.6000e-01, 1.6000e-01, 3.2016e+02, 3.2016e+02]], dtype=float32), mask=None, confidence=None, class_id=None, tracker_id=None, data={'class_name': array(['background'], dtype='<U10')}, metadata={})\n",
      "Detections(xyxy=array([[1.6000e-01, 1.6000e-01, 3.2016e+02, 3.2016e+02]], dtype=float32), mask=None, confidence=None, class_id=None, tracker_id=None, data={'class_name': array(['background'], dtype='<U10')}, metadata={})\n"
     ]
    },
    {
     "name": "stderr",
     "output_type": "stream",
     "text": [
      " 83%|████████▎ | 135/163 [01:37<00:12,  2.18it/s]"
     ]
    },
    {
     "name": "stdout",
     "output_type": "stream",
     "text": [
      "{'<OD>': {'bboxes': [[0.1599999964237213, 0.1599999964237213, 319.5199890136719, 319.5199890136719]], 'labels': ['building']}}\n",
      "{'<OD>': {'bboxes': [[0.1599999964237213, 0.1599999964237213, 319.5199890136719, 319.5199890136719]], 'labels': ['building']}}\n",
      "{'<OD>': {'bboxes': [], 'labels': []}}\n",
      "{'<OD>': {'bboxes': [], 'labels': []}}\n",
      "Detections(xyxy=array([[1.6000e-01, 1.6000e-01, 3.2016e+02, 3.2016e+02]], dtype=float32), mask=None, confidence=None, class_id=None, tracker_id=None, data={'class_name': array(['background'], dtype='<U10')}, metadata={})\n",
      "Detections(xyxy=array([[1.6000e-01, 1.6000e-01, 3.2016e+02, 3.2016e+02]], dtype=float32), mask=None, confidence=None, class_id=None, tracker_id=None, data={'class_name': array(['background'], dtype='<U10')}, metadata={})\n",
      "Detections(xyxy=array([[1.6000e-01, 1.6000e-01, 3.2016e+02, 3.2016e+02]], dtype=float32), mask=None, confidence=None, class_id=None, tracker_id=None, data={'class_name': array(['background'], dtype='<U10')}, metadata={})\n",
      "Detections(xyxy=array([[1.6000e-01, 1.6000e-01, 3.2016e+02, 3.2016e+02]], dtype=float32), mask=None, confidence=None, class_id=None, tracker_id=None, data={'class_name': array(['background'], dtype='<U10')}, metadata={})\n"
     ]
    },
    {
     "name": "stderr",
     "output_type": "stream",
     "text": [
      " 83%|████████▎ | 136/163 [01:37<00:12,  2.23it/s]"
     ]
    },
    {
     "name": "stdout",
     "output_type": "stream",
     "text": [
      "{'<OD>': {'bboxes': [[51.03999710083008, 25.119998931884766, 82.72000122070312, 53.279998779296875]], 'labels': ['brick kilns with chimney']}}\n",
      "{'<OD>': {'bboxes': [[52.0, 281.44000244140625, 81.1199951171875, 307.67999267578125]], 'labels': ['brick kilns with chimney']}}\n",
      "{'<OD>': {'bboxes': [[60.0, 174.87998962402344, 83.04000091552734, 201.1199951171875]], 'labels': ['brick kilns with chimney']}}\n",
      "{'<OD>': {'bboxes': [], 'labels': []}}\n",
      "Detections(xyxy=array([[ 82.08    , 216.15999 , 103.2     , 242.08    ],\n",
      "       [ 50.079998,  27.039999,  80.159996,  51.039997]], dtype=float32), mask=None, confidence=None, class_id=None, tracker_id=None, data={'class_name': array(['brick kilns with chimney', 'brick kilns with chimney'],\n",
      "      dtype='<U24')}, metadata={})\n",
      "Detections(xyxy=array([[ 50.079998, 283.04    ,  80.159996, 307.03998 ]], dtype=float32), mask=None, confidence=None, class_id=None, tracker_id=None, data={'class_name': array(['brick kilns with chimney'], dtype='<U24')}, metadata={})\n",
      "Detections(xyxy=array([[291.04, 276.  , 312.16, 304.16],\n",
      "       [ 60.32, 173.28,  84.  , 201.12]], dtype=float32), mask=None, confidence=None, class_id=None, tracker_id=None, data={'class_name': array(['brick kilns with chimney', 'brick kilns with chimney'],\n",
      "      dtype='<U24')}, metadata={})\n",
      "Detections(xyxy=array([[1.6000e-01, 1.6000e-01, 3.2016e+02, 3.2016e+02]], dtype=float32), mask=None, confidence=None, class_id=None, tracker_id=None, data={'class_name': array(['background'], dtype='<U10')}, metadata={})\n"
     ]
    },
    {
     "name": "stderr",
     "output_type": "stream",
     "text": [
      " 84%|████████▍ | 137/163 [01:38<00:11,  2.19it/s]"
     ]
    },
    {
     "name": "stdout",
     "output_type": "stream",
     "text": [
      "{'<OD>': {'bboxes': [], 'labels': []}}\n",
      "{'<OD>': {'bboxes': [], 'labels': []}}\n",
      "{'<OD>': {'bboxes': [], 'labels': []}}\n",
      "{'<OD>': {'bboxes': [], 'labels': []}}\n",
      "Detections(xyxy=array([[1.6000e-01, 1.6000e-01, 3.2016e+02, 3.2016e+02]], dtype=float32), mask=None, confidence=None, class_id=None, tracker_id=None, data={'class_name': array(['background'], dtype='<U10')}, metadata={})\n",
      "Detections(xyxy=array([[230.23999 , 237.28    , 252.31999 , 267.04    ],\n",
      "       [ 33.12    , 105.119995,  55.199997, 132.      ],\n",
      "       [141.28    ,  59.039997, 163.04    ,  86.24    ],\n",
      "       [210.08    ,  62.239998, 237.28    ,  84.      ],\n",
      "       [240.15999 ,  48.16    , 251.04    ,  73.119995],\n",
      "       [133.28    ,  36.      , 158.23999 ,  50.079998]], dtype=float32), mask=None, confidence=None, class_id=None, tracker_id=None, data={'class_name': array(['brick kilns with chimney', 'brick kilns with chimney',\n",
      "       'brick kilns with chimney', 'brick kilns with chimney',\n",
      "       'brick kilns with chimney', 'brick kilns with chimney'],\n",
      "      dtype='<U24')}, metadata={})\n",
      "Detections(xyxy=array([[1.6000e-01, 1.6000e-01, 3.2016e+02, 3.2016e+02]], dtype=float32), mask=None, confidence=None, class_id=None, tracker_id=None, data={'class_name': array(['background'], dtype='<U10')}, metadata={})\n",
      "Detections(xyxy=array([[213.28   , 172.31999, 239.2    , 192.15999],\n",
      "       [ 16.16   , 107.04   ,  32.16   , 130.08   ],\n",
      "       [ 99.04   ,  71.2    , 128.16   , 100.     ]], dtype=float32), mask=None, confidence=None, class_id=None, tracker_id=None, data={'class_name': array(['brick kilns with chimney', 'brick kilns with chimney',\n",
      "       'brick kilns with chimney'], dtype='<U24')}, metadata={})\n"
     ]
    },
    {
     "name": "stderr",
     "output_type": "stream",
     "text": [
      " 85%|████████▍ | 138/163 [01:38<00:11,  2.17it/s]"
     ]
    },
    {
     "name": "stdout",
     "output_type": "stream",
     "text": [
      "{'<OD>': {'bboxes': [], 'labels': []}}\n",
      "{'<OD>': {'bboxes': [[0.1599999964237213, 0.1599999964237213, 319.5199890136719, 319.5199890136719]], 'labels': ['brick kilns with chimney']}}\n",
      "{'<OD>': {'bboxes': [[238.239990234375, 30.239999771118164, 256.79998779296875, 55.84000015258789]], 'labels': ['brick kilns with chimney']}}\n",
      "{'<OD>': {'bboxes': [], 'labels': []}}\n",
      "Detections(xyxy=array([[1.6000e-01, 1.6000e-01, 3.2016e+02, 3.2016e+02]], dtype=float32), mask=None, confidence=None, class_id=None, tracker_id=None, data={'class_name': array(['background'], dtype='<U10')}, metadata={})\n",
      "Detections(xyxy=array([[1.6000e-01, 1.6000e-01, 3.2016e+02, 3.2016e+02]], dtype=float32), mask=None, confidence=None, class_id=None, tracker_id=None, data={'class_name': array(['background'], dtype='<U10')}, metadata={})\n",
      "Detections(xyxy=array([[1.6000e-01, 1.6000e-01, 3.2016e+02, 3.2016e+02]], dtype=float32), mask=None, confidence=None, class_id=None, tracker_id=None, data={'class_name': array(['background'], dtype='<U10')}, metadata={})\n",
      "Detections(xyxy=array([[1.6000e-01, 1.6000e-01, 3.2016e+02, 3.2016e+02]], dtype=float32), mask=None, confidence=None, class_id=None, tracker_id=None, data={'class_name': array(['background'], dtype='<U10')}, metadata={})\n"
     ]
    },
    {
     "name": "stderr",
     "output_type": "stream",
     "text": [
      " 85%|████████▌ | 139/163 [01:39<00:10,  2.22it/s]"
     ]
    },
    {
     "name": "stdout",
     "output_type": "stream",
     "text": [
      "{'<OD>': {'bboxes': [], 'labels': []}}\n",
      "{'<OD>': {'bboxes': [[0.1599999964237213, 0.1599999964237213, 319.5199890136719, 319.5199890136719]], 'labels': ['building']}}\n",
      "{'<OD>': {'bboxes': [], 'labels': []}}\n",
      "{'<OD>': {'bboxes': [], 'labels': []}}\n",
      "Detections(xyxy=array([[1.6000e-01, 1.6000e-01, 3.2016e+02, 3.2016e+02]], dtype=float32), mask=None, confidence=None, class_id=None, tracker_id=None, data={'class_name': array(['background'], dtype='<U10')}, metadata={})\n",
      "Detections(xyxy=array([[1.6000e-01, 1.6000e-01, 3.2016e+02, 3.2016e+02]], dtype=float32), mask=None, confidence=None, class_id=None, tracker_id=None, data={'class_name': array(['background'], dtype='<U10')}, metadata={})\n",
      "Detections(xyxy=array([[1.6000e-01, 1.6000e-01, 3.2016e+02, 3.2016e+02]], dtype=float32), mask=None, confidence=None, class_id=None, tracker_id=None, data={'class_name': array(['background'], dtype='<U10')}, metadata={})\n",
      "Detections(xyxy=array([[1.6000e-01, 1.6000e-01, 3.2016e+02, 3.2016e+02]], dtype=float32), mask=None, confidence=None, class_id=None, tracker_id=None, data={'class_name': array(['background'], dtype='<U10')}, metadata={})\n"
     ]
    },
    {
     "name": "stderr",
     "output_type": "stream",
     "text": [
      " 86%|████████▌ | 140/163 [01:39<00:10,  2.15it/s]"
     ]
    },
    {
     "name": "stdout",
     "output_type": "stream",
     "text": [
      "{'<OD>': {'bboxes': [[0.1599999964237213, 0.1599999964237213, 319.5199890136719, 319.5199890136719]], 'labels': ['brick kilns with chimney']}}\n",
      "{'<OD>': {'bboxes': [], 'labels': []}}\n",
      "{'<OD>': {'bboxes': [], 'labels': []}}\n",
      "{'<OD>': {'bboxes': [[0.1599999964237213, 0.1599999964237213, 319.5199890136719, 319.5199890136719]], 'labels': ['clock tower']}}\n",
      "Detections(xyxy=array([[ 72.159996, 269.28    ,  91.04    , 296.16    ],\n",
      "       [ 35.04    ,  20.      ,  56.16    ,  48.16    ]], dtype=float32), mask=None, confidence=None, class_id=None, tracker_id=None, data={'class_name': array(['brick kilns with chimney', 'brick kilns with chimney'],\n",
      "      dtype='<U24')}, metadata={})\n",
      "Detections(xyxy=array([[ 35.04   , 276.     ,  56.16   , 304.16   ],\n",
      "       [ 91.04   , 161.12   , 118.24   , 184.15999],\n",
      "       [273.12   , 155.04   , 297.12   , 180.     ],\n",
      "       [226.08   , 111.2    , 252.31999, 143.2    ],\n",
      "       [ 41.12   ,  77.28   ,  71.2    , 102.24   ]], dtype=float32), mask=None, confidence=None, class_id=None, tracker_id=None, data={'class_name': array(['brick kilns with chimney', 'brick kilns with chimney',\n",
      "       'brick kilns with chimney', 'brick kilns with chimney',\n",
      "       'brick kilns with chimney'], dtype='<U24')}, metadata={})\n",
      "Detections(xyxy=array([[1.6000e-01, 1.6000e-01, 3.2016e+02, 3.2016e+02]], dtype=float32), mask=None, confidence=None, class_id=None, tracker_id=None, data={'class_name': array(['background'], dtype='<U10')}, metadata={})\n",
      "Detections(xyxy=array([[1.6000e-01, 1.6000e-01, 3.2016e+02, 3.2016e+02]], dtype=float32), mask=None, confidence=None, class_id=None, tracker_id=None, data={'class_name': array(['background'], dtype='<U10')}, metadata={})\n"
     ]
    },
    {
     "name": "stderr",
     "output_type": "stream",
     "text": [
      " 87%|████████▋ | 141/163 [01:40<00:09,  2.25it/s]"
     ]
    },
    {
     "name": "stdout",
     "output_type": "stream",
     "text": [
      "{'<OD>': {'bboxes': [[0.1599999964237213, 0.1599999964237213, 319.5199890136719, 72.15999603271484]], 'labels': ['brick chimney']}}\n",
      "{'<OD>': {'bboxes': [[249.1199951171875, 83.04000091552734, 283.0400085449219, 117.91999816894531]], 'labels': ['brick kilns with chimney']}}\n",
      "{'<OD>': {'bboxes': [[32.47999954223633, 125.27999877929688, 61.91999816894531, 156.0]], 'labels': ['brick kilns with chimney']}}\n",
      "{'<OD>': {'bboxes': [[0.1599999964237213, 0.1599999964237213, 319.5199890136719, 319.5199890136719]], 'labels': ['brick kilns with chimney']}}\n",
      "Detections(xyxy=array([[1.6000e-01, 1.6000e-01, 3.2016e+02, 3.2016e+02]], dtype=float32), mask=None, confidence=None, class_id=None, tracker_id=None, data={'class_name': array(['background'], dtype='<U10')}, metadata={})\n",
      "Detections(xyxy=array([[180.      , 186.08    , 201.12    , 213.28    ],\n",
      "       [255.2     ,  89.119995, 276.      , 112.159996]], dtype=float32), mask=None, confidence=None, class_id=None, tracker_id=None, data={'class_name': array(['brick kilns with chimney', 'brick kilns with chimney'],\n",
      "      dtype='<U24')}, metadata={})\n",
      "Detections(xyxy=array([[ 37.28    , 126.24    ,  59.039997, 152.16    ]], dtype=float32), mask=None, confidence=None, class_id=None, tracker_id=None, data={'class_name': array(['brick kilns with chimney'], dtype='<U24')}, metadata={})\n",
      "Detections(xyxy=array([[1.6000e-01, 1.6000e-01, 3.2016e+02, 3.2016e+02]], dtype=float32), mask=None, confidence=None, class_id=None, tracker_id=None, data={'class_name': array(['background'], dtype='<U10')}, metadata={})\n"
     ]
    },
    {
     "name": "stderr",
     "output_type": "stream",
     "text": [
      " 87%|████████▋ | 142/163 [01:40<00:09,  2.17it/s]"
     ]
    },
    {
     "name": "stdout",
     "output_type": "stream",
     "text": [
      "{'<OD>': {'bboxes': [[0.1599999964237213, 0.1599999964237213, 319.5199890136719, 319.5199890136719]], 'labels': ['brick kilns with chimney']}}\n",
      "{'<OD>': {'bboxes': [], 'labels': []}}\n",
      "{'<OD>': {'bboxes': [], 'labels': []}}\n",
      "{'<OD>': {'bboxes': [], 'labels': []}}\n",
      "Detections(xyxy=array([[1.6000e-01, 1.6000e-01, 3.2016e+02, 3.2016e+02]], dtype=float32), mask=None, confidence=None, class_id=None, tracker_id=None, data={'class_name': array(['background'], dtype='<U10')}, metadata={})\n",
      "Detections(xyxy=array([[1.6000e-01, 1.6000e-01, 3.2016e+02, 3.2016e+02]], dtype=float32), mask=None, confidence=None, class_id=None, tracker_id=None, data={'class_name': array(['background'], dtype='<U10')}, metadata={})\n",
      "Detections(xyxy=array([[1.6000e-01, 1.6000e-01, 3.2016e+02, 3.2016e+02]], dtype=float32), mask=None, confidence=None, class_id=None, tracker_id=None, data={'class_name': array(['background'], dtype='<U10')}, metadata={})\n",
      "Detections(xyxy=array([[1.6000e-01, 1.6000e-01, 3.2016e+02, 3.2016e+02]], dtype=float32), mask=None, confidence=None, class_id=None, tracker_id=None, data={'class_name': array(['background'], dtype='<U10')}, metadata={})\n"
     ]
    },
    {
     "name": "stderr",
     "output_type": "stream",
     "text": [
      " 88%|████████▊ | 143/163 [01:41<00:09,  2.15it/s]"
     ]
    },
    {
     "name": "stdout",
     "output_type": "stream",
     "text": [
      "{'<OD>': {'bboxes': [], 'labels': []}}\n",
      "{'<OD>': {'bboxes': [], 'labels': []}}\n",
      "{'<OD>': {'bboxes': [], 'labels': []}}\n",
      "{'<OD>': {'bboxes': [[0.1599999964237213, 0.1599999964237213, 319.5199890136719, 319.5199890136719]], 'labels': ['brick chimney']}}\n",
      "Detections(xyxy=array([[1.6000e-01, 1.6000e-01, 3.2016e+02, 3.2016e+02]], dtype=float32), mask=None, confidence=None, class_id=None, tracker_id=None, data={'class_name': array(['background'], dtype='<U10')}, metadata={})\n",
      "Detections(xyxy=array([[ 93.28    , 121.119995, 123.04    , 145.12    ],\n",
      "       [ 74.08    ,  74.08    , 104.159996, 102.24    ],\n",
      "       [186.08    ,  54.239998, 218.08    ,  86.24    ],\n",
      "       [227.04    , 145.12    , 249.12    , 159.2     ],\n",
      "       [ 50.079998,  19.039999,  78.24    ,  43.04    ]], dtype=float32), mask=None, confidence=None, class_id=None, tracker_id=None, data={'class_name': array(['brick kilns with chimney', 'brick kilns with chimney',\n",
      "       'brick kilns with chimney', 'brick kilns with chimney',\n",
      "       'brick kilns with chimney'], dtype='<U24')}, metadata={})\n",
      "Detections(xyxy=array([[241.12    ,  42.079998, 264.16    ,  69.28    ],\n",
      "       [282.08    ,  16.16    , 312.16    ,  36.      ]], dtype=float32), mask=None, confidence=None, class_id=None, tracker_id=None, data={'class_name': array(['brick kilns with chimney', 'brick kilns with chimney'],\n",
      "      dtype='<U24')}, metadata={})\n",
      "Detections(xyxy=array([[1.6000e-01, 1.6000e-01, 3.2016e+02, 3.2016e+02]], dtype=float32), mask=None, confidence=None, class_id=None, tracker_id=None, data={'class_name': array(['background'], dtype='<U10')}, metadata={})\n"
     ]
    },
    {
     "name": "stderr",
     "output_type": "stream",
     "text": [
      " 88%|████████▊ | 144/163 [01:41<00:09,  2.09it/s]"
     ]
    },
    {
     "name": "stdout",
     "output_type": "stream",
     "text": [
      "{'<OD>': {'bboxes': [[0.1599999964237213, 0.1599999964237213, 319.5199890136719, 319.5199890136719]], 'labels': ['brick kilns with chimney']}}\n",
      "{'<OD>': {'bboxes': [[0.1599999964237213, 0.1599999964237213, 319.5199890136719, 319.5199890136719]], 'labels': ['brick chimney']}}\n",
      "{'<OD>': {'bboxes': [[0.1599999964237213, 0.1599999964237213, 319.5199890136719, 319.5199890136719]], 'labels': ['brick chimney']}}\n",
      "{'<OD>': {'bboxes': [[0.1599999964237213, 0.1599999964237213, 319.5199890136719, 319.5199890136719]], 'labels': ['building']}}\n",
      "Detections(xyxy=array([[1.6000e-01, 1.6000e-01, 3.2016e+02, 3.2016e+02]], dtype=float32), mask=None, confidence=None, class_id=None, tracker_id=None, data={'class_name': array(['background'], dtype='<U10')}, metadata={})\n",
      "Detections(xyxy=array([[1.6000e-01, 1.6000e-01, 3.2016e+02, 3.2016e+02]], dtype=float32), mask=None, confidence=None, class_id=None, tracker_id=None, data={'class_name': array(['background'], dtype='<U10')}, metadata={})\n",
      "Detections(xyxy=array([[1.6000e-01, 1.6000e-01, 3.2016e+02, 3.2016e+02]], dtype=float32), mask=None, confidence=None, class_id=None, tracker_id=None, data={'class_name': array(['background'], dtype='<U10')}, metadata={})\n",
      "Detections(xyxy=array([[1.6000e-01, 1.6000e-01, 3.2016e+02, 3.2016e+02]], dtype=float32), mask=None, confidence=None, class_id=None, tracker_id=None, data={'class_name': array(['background'], dtype='<U10')}, metadata={})\n"
     ]
    },
    {
     "name": "stderr",
     "output_type": "stream",
     "text": [
      " 89%|████████▉ | 145/163 [01:42<00:08,  2.15it/s]"
     ]
    },
    {
     "name": "stdout",
     "output_type": "stream",
     "text": [
      "{'<OD>': {'bboxes': [[0.1599999964237213, 252.3199920654297, 17.119998931884766, 273.1199951171875]], 'labels': ['brick kilns with chimney']}}\n",
      "{'<OD>': {'bboxes': [], 'labels': []}}\n",
      "{'<OD>': {'bboxes': [], 'labels': []}}\n",
      "{'<OD>': {'bboxes': [[259.0400085449219, 284.6399841308594, 271.1999816894531, 294.55999755859375]], 'labels': ['brick kilns with chimney']}}\n",
      "Detections(xyxy=array([[ 32.16    , 146.08    ,  59.039997, 169.12    ]], dtype=float32), mask=None, confidence=None, class_id=None, tracker_id=None, data={'class_name': array(['brick kilns with chimney'], dtype='<U24')}, metadata={})\n",
      "Detections(xyxy=array([[1.6000e-01, 1.6000e-01, 3.2016e+02, 3.2016e+02]], dtype=float32), mask=None, confidence=None, class_id=None, tracker_id=None, data={'class_name': array(['background'], dtype='<U10')}, metadata={})\n",
      "Detections(xyxy=array([[1.6000e-01, 1.6000e-01, 3.2016e+02, 3.2016e+02]], dtype=float32), mask=None, confidence=None, class_id=None, tracker_id=None, data={'class_name': array(['background'], dtype='<U10')}, metadata={})\n",
      "Detections(xyxy=array([[1.6000e-01, 1.6000e-01, 3.2016e+02, 3.2016e+02]], dtype=float32), mask=None, confidence=None, class_id=None, tracker_id=None, data={'class_name': array(['background'], dtype='<U10')}, metadata={})\n"
     ]
    },
    {
     "name": "stderr",
     "output_type": "stream",
     "text": [
      " 90%|████████▉ | 146/163 [01:42<00:08,  2.10it/s]"
     ]
    },
    {
     "name": "stdout",
     "output_type": "stream",
     "text": [
      "{'<OD>': {'bboxes': [], 'labels': []}}\n",
      "{'<OD>': {'bboxes': [], 'labels': []}}\n",
      "{'<OD>': {'bboxes': [[0.1599999964237213, 0.1599999964237213, 319.5199890136719, 319.5199890136719]], 'labels': ['building']}}\n",
      "{'<OD>': {'bboxes': [[61.279998779296875, 213.27999877929688, 86.23999786376953, 239.1999969482422]], 'labels': ['brick kilns with chimney']}}\n",
      "Detections(xyxy=array([[1.6000e-01, 1.6000e-01, 3.2016e+02, 3.2016e+02]], dtype=float32), mask=None, confidence=None, class_id=None, tracker_id=None, data={'class_name': array(['background'], dtype='<U10')}, metadata={})\n",
      "Detections(xyxy=array([[ 14.24    , 257.12    ,  39.2     , 280.16    ],\n",
      "       [194.08    , 146.08    , 218.08    , 174.23999 ],\n",
      "       [169.12    ,  71.2     , 194.08    ,  94.24    ],\n",
      "       [202.08    ,  33.12    , 229.28    ,  59.039997]], dtype=float32), mask=None, confidence=None, class_id=None, tracker_id=None, data={'class_name': array(['brick kilns with chimney', 'brick kilns with chimney',\n",
      "       'brick kilns with chimney', 'brick kilns with chimney'],\n",
      "      dtype='<U24')}, metadata={})\n",
      "Detections(xyxy=array([[1.6000e-01, 1.6000e-01, 3.2016e+02, 3.2016e+02]], dtype=float32), mask=None, confidence=None, class_id=None, tracker_id=None, data={'class_name': array(['background'], dtype='<U10')}, metadata={})\n",
      "Detections(xyxy=array([[ 62.239998, 214.23999 ,  84.      , 237.28    ],\n",
      "       [ 33.12    , 155.04    ,  57.12    , 179.04    ]], dtype=float32), mask=None, confidence=None, class_id=None, tracker_id=None, data={'class_name': array(['brick kilns with chimney', 'brick kilns with chimney'],\n",
      "      dtype='<U24')}, metadata={})\n"
     ]
    },
    {
     "name": "stderr",
     "output_type": "stream",
     "text": [
      " 90%|█████████ | 147/163 [01:45<00:18,  1.17s/it]"
     ]
    },
    {
     "name": "stdout",
     "output_type": "stream",
     "text": [
      "{'<OD>': {'bboxes': [], 'labels': []}}\n",
      "{'<OD>': {'bboxes': [[0.1599999964237213, 0.1599999964237213, 319.5199890136719, 319.5199890136719]], 'labels': ['building']}}\n",
      "{'<OD>': {'bboxes': [[0.1599999964237213, 0.1599999964237213, 319.5199890136719, 319.5199890136719]], 'labels': ['building']}}\n",
      "{'<OD>': {'bboxes': [[0.1599999964237213, 0.1599999964237213, 319.5199890136719, 319.5199890136719]], 'labels': ['brick kilns']}}\n",
      "Detections(xyxy=array([[1.6000e-01, 1.6000e-01, 3.2016e+02, 3.2016e+02]], dtype=float32), mask=None, confidence=None, class_id=None, tracker_id=None, data={'class_name': array(['background'], dtype='<U10')}, metadata={})\n",
      "Detections(xyxy=array([[1.6000e-01, 1.6000e-01, 3.2016e+02, 3.2016e+02]], dtype=float32), mask=None, confidence=None, class_id=None, tracker_id=None, data={'class_name': array(['background'], dtype='<U10')}, metadata={})\n",
      "Detections(xyxy=array([[1.6000e-01, 1.6000e-01, 3.2016e+02, 3.2016e+02]], dtype=float32), mask=None, confidence=None, class_id=None, tracker_id=None, data={'class_name': array(['background'], dtype='<U10')}, metadata={})\n",
      "Detections(xyxy=array([[1.6000e-01, 1.6000e-01, 3.2016e+02, 3.2016e+02]], dtype=float32), mask=None, confidence=None, class_id=None, tracker_id=None, data={'class_name': array(['background'], dtype='<U10')}, metadata={})\n"
     ]
    },
    {
     "name": "stderr",
     "output_type": "stream",
     "text": [
      " 91%|█████████ | 148/163 [01:48<00:24,  1.63s/it]"
     ]
    },
    {
     "name": "stdout",
     "output_type": "stream",
     "text": [
      "{'<OD>': {'bboxes': [], 'labels': []}}\n",
      "{'<OD>': {'bboxes': [], 'labels': []}}\n",
      "{'<OD>': {'bboxes': [], 'labels': []}}\n",
      "{'<OD>': {'bboxes': [[0.1599999964237213, 0.1599999964237213, 319.5199890136719, 319.5199890136719]], 'labels': ['building']}}\n",
      "Detections(xyxy=array([[1.6000e-01, 1.6000e-01, 3.2016e+02, 3.2016e+02]], dtype=float32), mask=None, confidence=None, class_id=None, tracker_id=None, data={'class_name': array(['background'], dtype='<U10')}, metadata={})\n",
      "Detections(xyxy=array([[1.6000e-01, 1.6000e-01, 3.2016e+02, 3.2016e+02]], dtype=float32), mask=None, confidence=None, class_id=None, tracker_id=None, data={'class_name': array(['background'], dtype='<U10')}, metadata={})\n",
      "Detections(xyxy=array([[172.31999 , 121.119995, 199.2     , 143.2     ]], dtype=float32), mask=None, confidence=None, class_id=None, tracker_id=None, data={'class_name': array(['brick kilns with chimney'], dtype='<U24')}, metadata={})\n",
      "Detections(xyxy=array([[1.6000e-01, 1.6000e-01, 3.2016e+02, 3.2016e+02]], dtype=float32), mask=None, confidence=None, class_id=None, tracker_id=None, data={'class_name': array(['background'], dtype='<U10')}, metadata={})\n"
     ]
    },
    {
     "name": "stderr",
     "output_type": "stream",
     "text": [
      " 91%|█████████▏| 149/163 [01:50<00:25,  1.85s/it]"
     ]
    },
    {
     "name": "stdout",
     "output_type": "stream",
     "text": [
      "{'<OD>': {'bboxes': [], 'labels': []}}\n",
      "{'<OD>': {'bboxes': [], 'labels': []}}\n",
      "{'<OD>': {'bboxes': [], 'labels': []}}\n",
      "{'<OD>': {'bboxes': [[0.1599999964237213, 0.1599999964237213, 319.5199890136719, 319.5199890136719]], 'labels': ['brick kilns with chimney']}}\n",
      "Detections(xyxy=array([[1.6000e-01, 1.6000e-01, 3.2016e+02, 3.2016e+02]], dtype=float32), mask=None, confidence=None, class_id=None, tracker_id=None, data={'class_name': array(['background'], dtype='<U10')}, metadata={})\n",
      "Detections(xyxy=array([[1.6000e-01, 1.6000e-01, 3.2016e+02, 3.2016e+02]], dtype=float32), mask=None, confidence=None, class_id=None, tracker_id=None, data={'class_name': array(['background'], dtype='<U10')}, metadata={})\n",
      "Detections(xyxy=array([[1.6000e-01, 1.6000e-01, 3.2016e+02, 3.2016e+02]], dtype=float32), mask=None, confidence=None, class_id=None, tracker_id=None, data={'class_name': array(['background'], dtype='<U10')}, metadata={})\n",
      "Detections(xyxy=array([[1.6000e-01, 1.6000e-01, 3.2016e+02, 3.2016e+02]], dtype=float32), mask=None, confidence=None, class_id=None, tracker_id=None, data={'class_name': array(['background'], dtype='<U10')}, metadata={})\n"
     ]
    },
    {
     "name": "stderr",
     "output_type": "stream",
     "text": [
      " 92%|█████████▏| 150/163 [01:53<00:27,  2.15s/it]"
     ]
    },
    {
     "name": "stdout",
     "output_type": "stream",
     "text": [
      "{'<OD>': {'bboxes': [], 'labels': []}}\n",
      "{'<OD>': {'bboxes': [[0.1599999964237213, 0.1599999964237213, 319.5199890136719, 319.5199890136719]], 'labels': ['building']}}\n",
      "{'<OD>': {'bboxes': [], 'labels': []}}\n",
      "{'<OD>': {'bboxes': [], 'labels': []}}\n",
      "Detections(xyxy=array([[1.6000e-01, 1.6000e-01, 3.2016e+02, 3.2016e+02]], dtype=float32), mask=None, confidence=None, class_id=None, tracker_id=None, data={'class_name': array(['background'], dtype='<U10')}, metadata={})\n",
      "Detections(xyxy=array([[1.6000e-01, 1.6000e-01, 3.2016e+02, 3.2016e+02]], dtype=float32), mask=None, confidence=None, class_id=None, tracker_id=None, data={'class_name': array(['background'], dtype='<U10')}, metadata={})\n",
      "Detections(xyxy=array([[136.16, 135.2 , 165.28, 159.2 ]], dtype=float32), mask=None, confidence=None, class_id=None, tracker_id=None, data={'class_name': array(['brick kilns with chimney'], dtype='<U24')}, metadata={})\n",
      "Detections(xyxy=array([[1.6000e-01, 1.6000e-01, 3.2016e+02, 3.2016e+02]], dtype=float32), mask=None, confidence=None, class_id=None, tracker_id=None, data={'class_name': array(['background'], dtype='<U10')}, metadata={})\n"
     ]
    },
    {
     "name": "stderr",
     "output_type": "stream",
     "text": [
      " 93%|█████████▎| 151/163 [01:54<00:20,  1.72s/it]"
     ]
    },
    {
     "name": "stdout",
     "output_type": "stream",
     "text": [
      "{'<OD>': {'bboxes': [], 'labels': []}}\n",
      "{'<OD>': {'bboxes': [[0.1599999964237213, 0.1599999964237213, 319.5199890136719, 319.5199890136719]], 'labels': ['building']}}\n",
      "{'<OD>': {'bboxes': [], 'labels': []}}\n",
      "{'<OD>': {'bboxes': [], 'labels': []}}\n",
      "Detections(xyxy=array([[1.6000e-01, 1.6000e-01, 3.2016e+02, 3.2016e+02]], dtype=float32), mask=None, confidence=None, class_id=None, tracker_id=None, data={'class_name': array(['background'], dtype='<U10')}, metadata={})\n",
      "Detections(xyxy=array([[37.28    , 41.12    , 63.199997, 55.199997]], dtype=float32), mask=None, confidence=None, class_id=None, tracker_id=None, data={'class_name': array(['brick kilns with chimney'], dtype='<U24')}, metadata={})\n",
      "Detections(xyxy=array([[274.08, 193.12, 296.16, 221.28]], dtype=float32), mask=None, confidence=None, class_id=None, tracker_id=None, data={'class_name': array(['brick kilns with chimney'], dtype='<U24')}, metadata={})\n",
      "Detections(xyxy=array([[1.6000e-01, 1.6000e-01, 3.2016e+02, 3.2016e+02]], dtype=float32), mask=None, confidence=None, class_id=None, tracker_id=None, data={'class_name': array(['background'], dtype='<U10')}, metadata={})\n"
     ]
    },
    {
     "name": "stderr",
     "output_type": "stream",
     "text": [
      " 93%|█████████▎| 152/163 [01:54<00:14,  1.34s/it]"
     ]
    },
    {
     "name": "stdout",
     "output_type": "stream",
     "text": [
      "{'<OD>': {'bboxes': [[0.1599999964237213, 0.1599999964237213, 319.5199890136719, 319.5199890136719]], 'labels': ['brick kilns with chimney']}}\n",
      "{'<OD>': {'bboxes': [], 'labels': []}}\n",
      "{'<OD>': {'bboxes': [], 'labels': []}}\n",
      "{'<OD>': {'bboxes': [], 'labels': []}}\n",
      "Detections(xyxy=array([[1.6000e-01, 1.6000e-01, 3.2016e+02, 3.2016e+02]], dtype=float32), mask=None, confidence=None, class_id=None, tracker_id=None, data={'class_name': array(['background'], dtype='<U10')}, metadata={})\n",
      "Detections(xyxy=array([[1.6000e-01, 1.6000e-01, 3.2016e+02, 3.2016e+02]], dtype=float32), mask=None, confidence=None, class_id=None, tracker_id=None, data={'class_name': array(['background'], dtype='<U10')}, metadata={})\n",
      "Detections(xyxy=array([[1.6000e-01, 1.6000e-01, 3.2016e+02, 3.2016e+02]], dtype=float32), mask=None, confidence=None, class_id=None, tracker_id=None, data={'class_name': array(['background'], dtype='<U10')}, metadata={})\n",
      "Detections(xyxy=array([[1.6000e-01, 1.6000e-01, 3.2016e+02, 3.2016e+02]], dtype=float32), mask=None, confidence=None, class_id=None, tracker_id=None, data={'class_name': array(['background'], dtype='<U10')}, metadata={})\n"
     ]
    },
    {
     "name": "stderr",
     "output_type": "stream",
     "text": [
      " 94%|█████████▍| 153/163 [01:54<00:10,  1.07s/it]"
     ]
    },
    {
     "name": "stdout",
     "output_type": "stream",
     "text": [
      "{'<OD>': {'bboxes': [[0.1599999964237213, 0.1599999964237213, 319.5199890136719, 319.5199890136719]], 'labels': ['building']}}\n",
      "{'<OD>': {'bboxes': [[0.1599999964237213, 0.1599999964237213, 319.5199890136719, 319.5199890136719]], 'labels': ['building']}}\n",
      "{'<OD>': {'bboxes': [[0.1599999964237213, 0.1599999964237213, 319.5199890136719, 319.5199890136719]], 'labels': ['building']}}\n",
      "{'<OD>': {'bboxes': [[0.1599999964237213, 0.1599999964237213, 319.5199890136719, 319.5199890136719]], 'labels': ['maple']}}\n",
      "Detections(xyxy=array([[275.04, 205.28, 296.16, 235.04]], dtype=float32), mask=None, confidence=None, class_id=None, tracker_id=None, data={'class_name': array(['brick kilns with chimney'], dtype='<U24')}, metadata={})\n",
      "Detections(xyxy=array([[1.6000e-01, 1.6000e-01, 3.2016e+02, 3.2016e+02]], dtype=float32), mask=None, confidence=None, class_id=None, tracker_id=None, data={'class_name': array(['background'], dtype='<U10')}, metadata={})\n",
      "Detections(xyxy=array([[1.6000e-01, 1.6000e-01, 3.2016e+02, 3.2016e+02]], dtype=float32), mask=None, confidence=None, class_id=None, tracker_id=None, data={'class_name': array(['background'], dtype='<U10')}, metadata={})\n",
      "Detections(xyxy=array([[1.6000e-01, 1.6000e-01, 3.2016e+02, 3.2016e+02]], dtype=float32), mask=None, confidence=None, class_id=None, tracker_id=None, data={'class_name': array(['background'], dtype='<U10')}, metadata={})\n"
     ]
    },
    {
     "name": "stderr",
     "output_type": "stream",
     "text": [
      " 94%|█████████▍| 154/163 [01:55<00:07,  1.14it/s]"
     ]
    },
    {
     "name": "stdout",
     "output_type": "stream",
     "text": [
      "{'<OD>': {'bboxes': [[0.1599999964237213, 0.1599999964237213, 319.5199890136719, 319.5199890136719]], 'labels': ['castle']}}\n",
      "{'<OD>': {'bboxes': [], 'labels': []}}\n",
      "{'<OD>': {'bboxes': [[0.1599999964237213, 0.1599999964237213, 319.5199890136719, 319.5199890136719]], 'labels': ['clock tower']}}\n",
      "{'<OD>': {'bboxes': [[0.1599999964237213, 0.1599999964237213, 319.5199890136719, 319.5199890136719]], 'labels': ['building']}}\n",
      "Detections(xyxy=array([[1.6000e-01, 1.6000e-01, 3.2016e+02, 3.2016e+02]], dtype=float32), mask=None, confidence=None, class_id=None, tracker_id=None, data={'class_name': array(['background'], dtype='<U10')}, metadata={})\n",
      "Detections(xyxy=array([[1.6000e-01, 1.6000e-01, 3.2016e+02, 3.2016e+02]], dtype=float32), mask=None, confidence=None, class_id=None, tracker_id=None, data={'class_name': array(['background'], dtype='<U10')}, metadata={})\n",
      "Detections(xyxy=array([[161.12   , 231.2    , 188.31999, 258.08   ]], dtype=float32), mask=None, confidence=None, class_id=None, tracker_id=None, data={'class_name': array(['brick kilns with chimney'], dtype='<U24')}, metadata={})\n",
      "Detections(xyxy=array([[1.6000e-01, 1.6000e-01, 3.2016e+02, 3.2016e+02]], dtype=float32), mask=None, confidence=None, class_id=None, tracker_id=None, data={'class_name': array(['background'], dtype='<U10')}, metadata={})\n"
     ]
    },
    {
     "name": "stderr",
     "output_type": "stream",
     "text": [
      " 95%|█████████▌| 155/163 [01:56<00:07,  1.00it/s]"
     ]
    },
    {
     "name": "stdout",
     "output_type": "stream",
     "text": [
      "{'<OD>': {'bboxes': [[0.1599999964237213, 0.1599999964237213, 319.5199890136719, 319.5199890136719]], 'labels': ['building']}}\n",
      "{'<OD>': {'bboxes': [], 'labels': []}}\n",
      "{'<OD>': {'bboxes': [], 'labels': []}}\n",
      "{'<OD>': {'bboxes': [[0.1599999964237213, 0.1599999964237213, 319.5199890136719, 319.5199890136719]], 'labels': ['maple']}}\n",
      "Detections(xyxy=array([[1.6000e-01, 1.6000e-01, 3.2016e+02, 3.2016e+02]], dtype=float32), mask=None, confidence=None, class_id=None, tracker_id=None, data={'class_name': array(['background'], dtype='<U10')}, metadata={})\n",
      "Detections(xyxy=array([[72.159996, 69.28    , 99.04    , 93.28    ]], dtype=float32), mask=None, confidence=None, class_id=None, tracker_id=None, data={'class_name': array(['brick kilns with chimney'], dtype='<U24')}, metadata={})\n",
      "Detections(xyxy=array([[1.6000e-01, 1.6000e-01, 3.2016e+02, 3.2016e+02]], dtype=float32), mask=None, confidence=None, class_id=None, tracker_id=None, data={'class_name': array(['background'], dtype='<U10')}, metadata={})\n",
      "Detections(xyxy=array([[1.6000e-01, 1.6000e-01, 3.2016e+02, 3.2016e+02]], dtype=float32), mask=None, confidence=None, class_id=None, tracker_id=None, data={'class_name': array(['background'], dtype='<U10')}, metadata={})\n"
     ]
    },
    {
     "name": "stderr",
     "output_type": "stream",
     "text": [
      " 96%|█████████▌| 156/163 [01:57<00:06,  1.04it/s]"
     ]
    },
    {
     "name": "stdout",
     "output_type": "stream",
     "text": [
      "{'<OD>': {'bboxes': [], 'labels': []}}\n",
      "{'<OD>': {'bboxes': [], 'labels': []}}\n",
      "{'<OD>': {'bboxes': [], 'labels': []}}\n",
      "{'<OD>': {'bboxes': [[0.1599999964237213, 0.1599999964237213, 319.5199890136719, 319.5199890136719]], 'labels': ['building']}}\n",
      "Detections(xyxy=array([[1.6000e-01, 1.6000e-01, 3.2016e+02, 3.2016e+02]], dtype=float32), mask=None, confidence=None, class_id=None, tracker_id=None, data={'class_name': array(['background'], dtype='<U10')}, metadata={})\n",
      "Detections(xyxy=array([[1.6000e-01, 1.6000e-01, 3.2016e+02, 3.2016e+02]], dtype=float32), mask=None, confidence=None, class_id=None, tracker_id=None, data={'class_name': array(['background'], dtype='<U10')}, metadata={})\n",
      "Detections(xyxy=array([[1.6000e-01, 1.6000e-01, 3.2016e+02, 3.2016e+02]], dtype=float32), mask=None, confidence=None, class_id=None, tracker_id=None, data={'class_name': array(['background'], dtype='<U10')}, metadata={})\n",
      "Detections(xyxy=array([[1.6000e-01, 1.6000e-01, 3.2016e+02, 3.2016e+02]], dtype=float32), mask=None, confidence=None, class_id=None, tracker_id=None, data={'class_name': array(['background'], dtype='<U10')}, metadata={})\n"
     ]
    },
    {
     "name": "stderr",
     "output_type": "stream",
     "text": [
      " 96%|█████████▋| 157/163 [01:58<00:05,  1.07it/s]"
     ]
    },
    {
     "name": "stdout",
     "output_type": "stream",
     "text": [
      "{'<OD>': {'bboxes': [], 'labels': []}}\n",
      "{'<OD>': {'bboxes': [], 'labels': []}}\n",
      "{'<OD>': {'bboxes': [[0.1599999964237213, 0.1599999964237213, 319.5199890136719, 319.5199890136719]], 'labels': ['building']}}\n",
      "{'<OD>': {'bboxes': [[0.1599999964237213, 0.1599999964237213, 319.5199890136719, 319.5199890136719]], 'labels': ['brick kilns with chimney']}}\n",
      "Detections(xyxy=array([[1.6000e-01, 1.6000e-01, 3.2016e+02, 3.2016e+02]], dtype=float32), mask=None, confidence=None, class_id=None, tracker_id=None, data={'class_name': array(['background'], dtype='<U10')}, metadata={})\n",
      "Detections(xyxy=array([[1.6000e-01, 1.6000e-01, 3.2016e+02, 3.2016e+02]], dtype=float32), mask=None, confidence=None, class_id=None, tracker_id=None, data={'class_name': array(['background'], dtype='<U10')}, metadata={})\n",
      "Detections(xyxy=array([[1.6000e-01, 1.6000e-01, 3.2016e+02, 3.2016e+02]], dtype=float32), mask=None, confidence=None, class_id=None, tracker_id=None, data={'class_name': array(['background'], dtype='<U10')}, metadata={})\n",
      "Detections(xyxy=array([[1.6000e-01, 1.6000e-01, 3.2016e+02, 3.2016e+02]], dtype=float32), mask=None, confidence=None, class_id=None, tracker_id=None, data={'class_name': array(['background'], dtype='<U10')}, metadata={})\n"
     ]
    },
    {
     "name": "stderr",
     "output_type": "stream",
     "text": [
      " 97%|█████████▋| 158/163 [01:59<00:04,  1.10it/s]"
     ]
    },
    {
     "name": "stdout",
     "output_type": "stream",
     "text": [
      "{'<OD>': {'bboxes': [], 'labels': []}}\n",
      "{'<OD>': {'bboxes': [[0.1599999964237213, 0.1599999964237213, 319.5199890136719, 319.5199890136719]], 'labels': ['building']}}\n",
      "{'<OD>': {'bboxes': [], 'labels': []}}\n",
      "{'<OD>': {'bboxes': [], 'labels': []}}\n",
      "Detections(xyxy=array([[1.6000e-01, 1.6000e-01, 3.2016e+02, 3.2016e+02]], dtype=float32), mask=None, confidence=None, class_id=None, tracker_id=None, data={'class_name': array(['background'], dtype='<U10')}, metadata={})\n",
      "Detections(xyxy=array([[1.6000e-01, 1.6000e-01, 3.2016e+02, 3.2016e+02]], dtype=float32), mask=None, confidence=None, class_id=None, tracker_id=None, data={'class_name': array(['background'], dtype='<U10')}, metadata={})\n",
      "Detections(xyxy=array([[1.6000e-01, 1.6000e-01, 3.2016e+02, 3.2016e+02]], dtype=float32), mask=None, confidence=None, class_id=None, tracker_id=None, data={'class_name': array(['background'], dtype='<U10')}, metadata={})\n",
      "Detections(xyxy=array([[1.6000e-01, 1.6000e-01, 3.2016e+02, 3.2016e+02]], dtype=float32), mask=None, confidence=None, class_id=None, tracker_id=None, data={'class_name': array(['background'], dtype='<U10')}, metadata={})\n"
     ]
    },
    {
     "name": "stderr",
     "output_type": "stream",
     "text": [
      " 98%|█████████▊| 159/163 [02:00<00:03,  1.13it/s]"
     ]
    },
    {
     "name": "stdout",
     "output_type": "stream",
     "text": [
      "{'<OD>': {'bboxes': [], 'labels': []}}\n",
      "{'<OD>': {'bboxes': [], 'labels': []}}\n",
      "{'<OD>': {'bboxes': [[177.1199951171875, 20.959999084472656, 206.87998962402344, 43.36000061035156]], 'labels': ['brick kilns with chimney']}}\n",
      "{'<OD>': {'bboxes': [], 'labels': []}}\n",
      "Detections(xyxy=array([[134.23999 , 286.24    , 157.28    , 314.08    ],\n",
      "       [ 20.      , 185.12    ,  47.2     , 212.      ],\n",
      "       [141.28    , 165.28    , 170.08    , 200.15999 ],\n",
      "       [ 39.2     , 139.04    ,  67.04    , 165.28    ],\n",
      "       [276.      ,  34.079998, 308.      ,  61.28    ]], dtype=float32), mask=None, confidence=None, class_id=None, tracker_id=None, data={'class_name': array(['brick kilns with chimney', 'brick kilns with chimney',\n",
      "       'brick kilns with chimney', 'brick kilns with chimney',\n",
      "       'brick kilns with chimney'], dtype='<U24')}, metadata={})\n",
      "Detections(xyxy=array([[1.6000e-01, 1.6000e-01, 3.2016e+02, 3.2016e+02]], dtype=float32), mask=None, confidence=None, class_id=None, tracker_id=None, data={'class_name': array(['background'], dtype='<U10')}, metadata={})\n",
      "Detections(xyxy=array([[181.28,  20.  , 207.2 ,  43.04]], dtype=float32), mask=None, confidence=None, class_id=None, tracker_id=None, data={'class_name': array(['brick kilns with chimney'], dtype='<U24')}, metadata={})\n",
      "Detections(xyxy=array([[1.6000e-01, 1.6000e-01, 3.2016e+02, 3.2016e+02]], dtype=float32), mask=None, confidence=None, class_id=None, tracker_id=None, data={'class_name': array(['background'], dtype='<U10')}, metadata={})\n"
     ]
    },
    {
     "name": "stderr",
     "output_type": "stream",
     "text": [
      " 98%|█████████▊| 160/163 [02:00<00:02,  1.16it/s]"
     ]
    },
    {
     "name": "stdout",
     "output_type": "stream",
     "text": [
      "{'<OD>': {'bboxes': [[217.1199951171875, 172.63999938964844, 240.47999572753906, 187.0399932861328]], 'labels': ['brick kilns with chimney']}}\n",
      "{'<OD>': {'bboxes': [], 'labels': []}}\n",
      "{'<OD>': {'bboxes': [], 'labels': []}}\n",
      "{'<OD>': {'bboxes': [[223.1999969482422, 19.35999870300293, 246.87998962402344, 37.279998779296875]], 'labels': ['brick kilns with chimney']}}\n",
      "Detections(xyxy=array([[176.16, 228.  , 205.28, 245.28]], dtype=float32), mask=None, confidence=None, class_id=None, tracker_id=None, data={'class_name': array(['brick kilns with chimney'], dtype='<U24')}, metadata={})\n",
      "Detections(xyxy=array([[1.6000e-01, 1.6000e-01, 3.2016e+02, 3.2016e+02]], dtype=float32), mask=None, confidence=None, class_id=None, tracker_id=None, data={'class_name': array(['background'], dtype='<U10')}, metadata={})\n",
      "Detections(xyxy=array([[ 97.119995,  91.04    , 126.24    , 122.079994]], dtype=float32), mask=None, confidence=None, class_id=None, tracker_id=None, data={'class_name': array(['brick kilns with chimney'], dtype='<U24')}, metadata={})\n",
      "Detections(xyxy=array([[1.6000e-01, 1.6000e-01, 3.2016e+02, 3.2016e+02]], dtype=float32), mask=None, confidence=None, class_id=None, tracker_id=None, data={'class_name': array(['background'], dtype='<U10')}, metadata={})\n"
     ]
    },
    {
     "name": "stderr",
     "output_type": "stream",
     "text": [
      " 99%|█████████▉| 161/163 [02:01<00:01,  1.19it/s]"
     ]
    },
    {
     "name": "stdout",
     "output_type": "stream",
     "text": [
      "{'<OD>': {'bboxes': [], 'labels': []}}\n",
      "{'<OD>': {'bboxes': [[0.1599999964237213, 41.7599983215332, 21.279998779296875, 63.19999694824219]], 'labels': ['brick kilns with chimney']}}\n",
      "{'<OD>': {'bboxes': [[149.9199981689453, 39.20000076293945, 209.1199951171875, 80.15999603271484]], 'labels': ['brick kilns with chimney']}}\n",
      "{'<OD>': {'bboxes': [[0.1599999964237213, 0.1599999964237213, 319.5199890136719, 319.5199890136719]], 'labels': ['maple']}}\n",
      "Detections(xyxy=array([[1.6000e-01, 1.6000e-01, 3.2016e+02, 3.2016e+02]], dtype=float32), mask=None, confidence=None, class_id=None, tracker_id=None, data={'class_name': array(['background'], dtype='<U10')}, metadata={})\n",
      "Detections(xyxy=array([[126.24    ,  81.119995, 156.31999 , 107.04    ]], dtype=float32), mask=None, confidence=None, class_id=None, tracker_id=None, data={'class_name': array(['brick kilns with chimney'], dtype='<U24')}, metadata={})\n",
      "Detections(xyxy=array([[1.6000e-01, 1.6000e-01, 3.2016e+02, 3.2016e+02]], dtype=float32), mask=None, confidence=None, class_id=None, tracker_id=None, data={'class_name': array(['background'], dtype='<U10')}, metadata={})\n",
      "Detections(xyxy=array([[1.6000e-01, 1.6000e-01, 3.2016e+02, 3.2016e+02]], dtype=float32), mask=None, confidence=None, class_id=None, tracker_id=None, data={'class_name': array(['background'], dtype='<U10')}, metadata={})\n"
     ]
    },
    {
     "name": "stderr",
     "output_type": "stream",
     "text": [
      " 99%|█████████▉| 162/163 [02:02<00:00,  1.13it/s]"
     ]
    },
    {
     "name": "stdout",
     "output_type": "stream",
     "text": [
      "{'<OD>': {'bboxes': [[0.1599999964237213, 0.1599999964237213, 319.5199890136719, 319.5199890136719]], 'labels': ['maple']}}\n",
      "{'<OD>': {'bboxes': [[300.0, 297.1199951171875, 315.03997802734375, 318.239990234375]], 'labels': ['brick kilns with chimney']}}\n",
      "{'<OD>': {'bboxes': [], 'labels': []}}\n",
      "{'<OD>': {'bboxes': [], 'labels': []}}\n",
      "Detections(xyxy=array([[1.6000e-01, 1.6000e-01, 3.2016e+02, 3.2016e+02]], dtype=float32), mask=None, confidence=None, class_id=None, tracker_id=None, data={'class_name': array(['background'], dtype='<U10')}, metadata={})\n",
      "Detections(xyxy=array([[1.6000e-01, 1.6000e-01, 3.2016e+02, 3.2016e+02]], dtype=float32), mask=None, confidence=None, class_id=None, tracker_id=None, data={'class_name': array(['background'], dtype='<U10')}, metadata={})\n",
      "Detections(xyxy=array([[166.23999, 253.28   , 193.12   , 280.16   ],\n",
      "       [ 15.2    , 238.23999,  40.16   , 264.16   ]], dtype=float32), mask=None, confidence=None, class_id=None, tracker_id=None, data={'class_name': array(['brick kilns with chimney', 'brick kilns with chimney'],\n",
      "      dtype='<U24')}, metadata={})\n",
      "Detections(xyxy=array([[1.6000e-01, 1.6000e-01, 3.2016e+02, 3.2016e+02]], dtype=float32), mask=None, confidence=None, class_id=None, tracker_id=None, data={'class_name': array(['background'], dtype='<U10')}, metadata={})\n"
     ]
    },
    {
     "name": "stderr",
     "output_type": "stream",
     "text": [
      "100%|██████████| 163/163 [02:03<00:00,  1.32it/s]"
     ]
    },
    {
     "name": "stdout",
     "output_type": "stream",
     "text": [
      "{'<OD>': {'bboxes': [[0.1599999964237213, 0.1599999964237213, 319.5199890136719, 319.5199890136719]], 'labels': ['brick chimney']}}\n",
      "Detections(xyxy=array([[1.6000e-01, 1.6000e-01, 3.2016e+02, 3.2016e+02]], dtype=float32), mask=None, confidence=None, class_id=None, tracker_id=None, data={'class_name': array(['background'], dtype='<U10')}, metadata={})\n"
     ]
    },
    {
     "name": "stderr",
     "output_type": "stream",
     "text": [
      "\n"
     ]
    }
   ],
   "source": [
    "import supervision as sv\n",
    "\n",
    "from maestro.trainer.models.florence_2.inference import predict_with_inputs\n",
    "\n",
    "predictions = []\n",
    "targets = []\n",
    "\n",
    "for input_ids, pixel_values, images, prefixes, suffixes in tqdm(test_loader):\n",
    "    generated_texts = predict_with_inputs(model=model, processor=processor, input_ids=input_ids, pixel_values=pixel_values, device = model.device)\n",
    "\n",
    "    for generated_text in generated_texts:\n",
    "        predicted_result = processor.post_process_generation(text=generated_text, task=\"<OD>\", image_size=(images[0].width, images[0].height))\n",
    "        print(predicted_result)\n",
    "        predicted_result = sv.Detections.from_vlm(vlm='florence_2',\n",
    "                result=predicted_result,\n",
    "                resolution_wh=(320, 320))\n",
    "        predicted_result = add_class_ids_and_confidence(predicted_result)\n",
    "        predictions.append(predicted_result)\n",
    "\n",
    "    for suffix in suffixes:\n",
    "        target_result = processor.post_process_generation(text=suffix, task=\"<OD>\", image_size=(images[0].width, images[0].height))\n",
    "        target_result = sv.Detections.from_vlm(vlm='florence_2',\n",
    "                result=target_result,\n",
    "                resolution_wh=(320, 320))\n",
    "        print(target_result)\n",
    "        target_result = add_class_ids_and_confidence(target_result)\n",
    "        targets.append(target_result)\n",
    "    "
   ]
  },
  {
   "cell_type": "code",
   "execution_count": 18,
   "metadata": {},
   "outputs": [
    {
     "name": "stdout",
     "output_type": "stream",
     "text": [
      "{}\n"
     ]
    }
   ],
   "source": [
    "print(predicted_result.data)"
   ]
  },
  {
   "cell_type": "code",
   "execution_count": 26,
   "metadata": {},
   "outputs": [
    {
     "ename": "AttributeError",
     "evalue": "'NoneType' object has no attribute 'class_id'",
     "output_type": "error",
     "traceback": [
      "\u001b[0;31m---------------------------------------------------------------------------\u001b[0m",
      "\u001b[0;31mAttributeError\u001b[0m                            Traceback (most recent call last)",
      "Cell \u001b[0;32mIn[26], line 3\u001b[0m\n\u001b[1;32m      1\u001b[0m df \u001b[38;5;241m=\u001b[39m pd\u001b[38;5;241m.\u001b[39mDataFrame({}, columns \u001b[38;5;241m=\u001b[39m [\u001b[38;5;124m'\u001b[39m\u001b[38;5;124mIoU\u001b[39m\u001b[38;5;124m'\u001b[39m, \u001b[38;5;124m'\u001b[39m\u001b[38;5;124mPrecision\u001b[39m\u001b[38;5;124m'\u001b[39m, \u001b[38;5;124m'\u001b[39m\u001b[38;5;124mRecall\u001b[39m\u001b[38;5;124m'\u001b[39m, \u001b[38;5;124m'\u001b[39m\u001b[38;5;124mF1 score\u001b[39m\u001b[38;5;124m'\u001b[39m, \u001b[38;5;124m'\u001b[39m\u001b[38;5;124mTP\u001b[39m\u001b[38;5;124m'\u001b[39m, \u001b[38;5;124m'\u001b[39m\u001b[38;5;124mFP\u001b[39m\u001b[38;5;124m'\u001b[39m, \u001b[38;5;124m'\u001b[39m\u001b[38;5;124mFN\u001b[39m\u001b[38;5;124m'\u001b[39m, \u001b[38;5;124m'\u001b[39m\u001b[38;5;124mKiln instances\u001b[39m\u001b[38;5;124m'\u001b[39m])\n\u001b[1;32m      2\u001b[0m \u001b[38;5;28;01mfor\u001b[39;00m iou \u001b[38;5;129;01min\u001b[39;00m [\u001b[38;5;241m0.1\u001b[39m,\u001b[38;5;241m0.3\u001b[39m,\u001b[38;5;241m0.5\u001b[39m,\u001b[38;5;241m0.7\u001b[39m]:\n\u001b[0;32m----> 3\u001b[0m     confusion_matrix \u001b[38;5;241m=\u001b[39m \u001b[43msv\u001b[49m\u001b[38;5;241;43m.\u001b[39;49m\u001b[43mConfusionMatrix\u001b[49m\u001b[38;5;241;43m.\u001b[39;49m\u001b[43mfrom_detections\u001b[49m\u001b[43m(\u001b[49m\n\u001b[1;32m      4\u001b[0m \u001b[43m        \u001b[49m\u001b[43mpredictions\u001b[49m\u001b[38;5;241;43m=\u001b[39;49m\u001b[43mpredictions\u001b[49m\u001b[43m,\u001b[49m\n\u001b[1;32m      5\u001b[0m \u001b[43m        \u001b[49m\u001b[43mtargets\u001b[49m\u001b[38;5;241;43m=\u001b[39;49m\u001b[43mtargets\u001b[49m\u001b[43m,\u001b[49m\n\u001b[1;32m      6\u001b[0m \u001b[43m        \u001b[49m\u001b[43mclasses\u001b[49m\u001b[38;5;241;43m=\u001b[39;49m\u001b[43mCLASSES\u001b[49m\u001b[43m,\u001b[49m\n\u001b[1;32m      7\u001b[0m \u001b[43m        \u001b[49m\u001b[43mconf_threshold\u001b[49m\u001b[43m \u001b[49m\u001b[38;5;241;43m=\u001b[39;49m\u001b[43m \u001b[49m\u001b[38;5;241;43m0.25\u001b[39;49m\u001b[43m,\u001b[49m\u001b[43m \u001b[49m\u001b[38;5;66;43;03m# florence_2 does not give confidence score so no use of conf_threshold  \u001b[39;49;00m\n\u001b[1;32m      8\u001b[0m \u001b[43m        \u001b[49m\u001b[43miou_threshold\u001b[49m\u001b[38;5;241;43m=\u001b[39;49m\u001b[43miou\u001b[49m\n\u001b[1;32m      9\u001b[0m \u001b[43m    \u001b[49m\u001b[43m)\u001b[49m\n\u001b[1;32m     11\u001b[0m     \u001b[38;5;66;03m# calculate precision recall and f1-score\u001b[39;00m\n\u001b[1;32m     12\u001b[0m     cm \u001b[38;5;241m=\u001b[39m confusion_matrix\u001b[38;5;241m.\u001b[39mmatrix\n",
      "File \u001b[0;32m/home/shataxi.dubey/miniconda3/envs/shataxi_space/lib/python3.11/site-packages/supervision/metrics/detection.py:151\u001b[0m, in \u001b[0;36mConfusionMatrix.from_detections\u001b[0;34m(cls, predictions, targets, classes, conf_threshold, iou_threshold)\u001b[0m\n\u001b[1;32m    148\u001b[0m target_tensors \u001b[38;5;241m=\u001b[39m []\n\u001b[1;32m    149\u001b[0m \u001b[38;5;28;01mfor\u001b[39;00m prediction, target \u001b[38;5;129;01min\u001b[39;00m \u001b[38;5;28mzip\u001b[39m(predictions, targets):\n\u001b[1;32m    150\u001b[0m     prediction_tensors\u001b[38;5;241m.\u001b[39mappend(\n\u001b[0;32m--> 151\u001b[0m         \u001b[43mdetections_to_tensor\u001b[49m\u001b[43m(\u001b[49m\u001b[43mprediction\u001b[49m\u001b[43m,\u001b[49m\u001b[43m \u001b[49m\u001b[43mwith_confidence\u001b[49m\u001b[38;5;241;43m=\u001b[39;49m\u001b[38;5;28;43;01mTrue\u001b[39;49;00m\u001b[43m)\u001b[49m\n\u001b[1;32m    152\u001b[0m     )\n\u001b[1;32m    153\u001b[0m     target_tensors\u001b[38;5;241m.\u001b[39mappend(detections_to_tensor(target, with_confidence\u001b[38;5;241m=\u001b[39m\u001b[38;5;28;01mFalse\u001b[39;00m))\n\u001b[1;32m    154\u001b[0m \u001b[38;5;28;01mreturn\u001b[39;00m \u001b[38;5;28mcls\u001b[39m\u001b[38;5;241m.\u001b[39mfrom_tensors(\n\u001b[1;32m    155\u001b[0m     predictions\u001b[38;5;241m=\u001b[39mprediction_tensors,\n\u001b[1;32m    156\u001b[0m     targets\u001b[38;5;241m=\u001b[39mtarget_tensors,\n\u001b[0;32m   (...)\u001b[0m\n\u001b[1;32m    159\u001b[0m     iou_threshold\u001b[38;5;241m=\u001b[39miou_threshold,\n\u001b[1;32m    160\u001b[0m )\n",
      "File \u001b[0;32m/home/shataxi.dubey/miniconda3/envs/shataxi_space/lib/python3.11/site-packages/supervision/metrics/detection.py:27\u001b[0m, in \u001b[0;36mdetections_to_tensor\u001b[0;34m(detections, with_confidence)\u001b[0m\n\u001b[1;32m     15\u001b[0m \u001b[38;5;28;01mdef\u001b[39;00m \u001b[38;5;21mdetections_to_tensor\u001b[39m(\n\u001b[1;32m     16\u001b[0m     detections: Detections, with_confidence: \u001b[38;5;28mbool\u001b[39m \u001b[38;5;241m=\u001b[39m \u001b[38;5;28;01mFalse\u001b[39;00m\n\u001b[1;32m     17\u001b[0m ) \u001b[38;5;241m-\u001b[39m\u001b[38;5;241m>\u001b[39m np\u001b[38;5;241m.\u001b[39mndarray:\n\u001b[1;32m     18\u001b[0m \u001b[38;5;250m    \u001b[39m\u001b[38;5;124;03m\"\"\"\u001b[39;00m\n\u001b[1;32m     19\u001b[0m \u001b[38;5;124;03m    Convert Supervision Detections to numpy tensors for further computation\u001b[39;00m\n\u001b[1;32m     20\u001b[0m \u001b[38;5;124;03m    Args:\u001b[39;00m\n\u001b[0;32m   (...)\u001b[0m\n\u001b[1;32m     25\u001b[0m \u001b[38;5;124;03m            confidence) order\u001b[39;00m\n\u001b[1;32m     26\u001b[0m \u001b[38;5;124;03m    \"\"\"\u001b[39;00m\n\u001b[0;32m---> 27\u001b[0m     \u001b[38;5;28;01mif\u001b[39;00m \u001b[43mdetections\u001b[49m\u001b[38;5;241;43m.\u001b[39;49m\u001b[43mclass_id\u001b[49m \u001b[38;5;129;01mis\u001b[39;00m \u001b[38;5;28;01mNone\u001b[39;00m:\n\u001b[1;32m     28\u001b[0m         \u001b[38;5;28;01mraise\u001b[39;00m \u001b[38;5;167;01mValueError\u001b[39;00m(\n\u001b[1;32m     29\u001b[0m             \u001b[38;5;124m\"\u001b[39m\u001b[38;5;124mConfusionMatrix can only be calculated for Detections with class_id\u001b[39m\u001b[38;5;124m\"\u001b[39m\n\u001b[1;32m     30\u001b[0m         )\n\u001b[1;32m     32\u001b[0m     arrays_to_concat \u001b[38;5;241m=\u001b[39m [detections\u001b[38;5;241m.\u001b[39mxyxy, np\u001b[38;5;241m.\u001b[39mexpand_dims(detections\u001b[38;5;241m.\u001b[39mclass_id, \u001b[38;5;241m1\u001b[39m)]\n",
      "\u001b[0;31mAttributeError\u001b[0m: 'NoneType' object has no attribute 'class_id'"
     ]
    }
   ],
   "source": [
    "df = pd.DataFrame({}, columns = ['IoU', 'Precision', 'Recall', 'F1 score', 'TP', 'FP', 'FN', 'Kiln instances'])\n",
    "for iou in [0.1,0.3,0.5,0.7]:\n",
    "    confusion_matrix = sv.ConfusionMatrix.from_detections(\n",
    "        predictions=predictions,\n",
    "        targets=targets,\n",
    "        classes=CLASSES,\n",
    "        conf_threshold = 0.25, # florence_2 does not give confidence score so no use of conf_threshold  \n",
    "        iou_threshold=iou\n",
    "    )\n",
    "\n",
    "    # calculate precision recall and f1-score\n",
    "    cm = confusion_matrix.matrix\n",
    "    tp = cm[0][0]\n",
    "    predicted_positives = cm[:,0].sum()\n",
    "    actual_positives = cm[0, :].sum()\n",
    "    precision = tp/ (predicted_positives + 1e-9)\n",
    "    recall = tp/ (actual_positives + 1e-9)\n",
    "    f1_score = 2*precision*recall / (precision + recall)\n",
    "    false_positives = predicted_positives - tp\n",
    "\n",
    "    df = pd.concat([df, pd.DataFrame({'IoU': iou, 'Precision': precision, 'Recall': recall, 'F1 score': f1_score, 'TP': tp, 'FP': false_positives, 'FN': actual_positives - tp, 'Kiln instances': actual_positives}, index = [0])])\n",
    "display(df)\n",
    "\n",
    "print(f'\\n\\nPlot of Confusion matrix at IoU {iou}')\n",
    "_ = confusion_matrix.plot()"
   ]
  }
 ],
 "metadata": {
  "kernelspec": {
   "display_name": "Python 3",
   "language": "python",
   "name": "python3"
  },
  "language_info": {
   "codemirror_mode": {
    "name": "ipython",
    "version": 3
   },
   "file_extension": ".py",
   "mimetype": "text/x-python",
   "name": "python",
   "nbconvert_exporter": "python",
   "pygments_lexer": "ipython3",
   "version": "3.11.5"
  }
 },
 "nbformat": 4,
 "nbformat_minor": 2
}
